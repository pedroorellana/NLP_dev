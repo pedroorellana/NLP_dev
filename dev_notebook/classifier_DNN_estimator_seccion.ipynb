{
 "cells": [
  {
   "cell_type": "code",
   "execution_count": 1,
   "metadata": {},
   "outputs": [
    {
     "name": "stderr",
     "output_type": "stream",
     "text": [
      "/root/anaconda3/envs/tensorflow/lib/python3.5/site-packages/h5py/__init__.py:36: FutureWarning: Conversion of the second argument of issubdtype from `float` to `np.floating` is deprecated. In future, it will be treated as `np.float64 == np.dtype(float).type`.\n",
      "  from ._conv import register_converters as _register_converters\n"
     ]
    }
   ],
   "source": [
    "# Utils\n",
    "import os, sys, re, time, gc, types, string, unicodedata, unidecode, string, warnings, inspect\n",
    "\n",
    "import tensorflow as tf\n",
    "import pandas as pd\n",
    "import matplotlib.pyplot as plt\n",
    "\n",
    "import numpy as np\n",
    "import time\n",
    "import pickle\n",
    "\n",
    "from sklearn.metrics import accuracy_score\n",
    "from IPython.display import display, Markdown, Latex\n",
    "\n",
    "import shutil\n",
    "\n",
    "from tensorflow.contrib.learn import DNNClassifier\n",
    "import scikitplot as skplt\n",
    "\n",
    "import scipy\n",
    "#plt.style.use('fivethirtyeight')"
   ]
  },
  {
   "cell_type": "markdown",
   "metadata": {},
   "source": [
    "# Parameters"
   ]
  },
  {
   "cell_type": "code",
   "execution_count": 2,
   "metadata": {},
   "outputs": [],
   "source": [
    "root_path = \"../\"\n",
    "path_model = root_path + 'models/testV2'\n",
    "#features_path = root_path + 'data/features/data_tfid_hash28_n1000_SVD2.p'\n",
    "#features_path = root_path + 'data/features/data_tfid_hash28_n10000_bigram_svd1000.p'\n",
    "#features_path = root_path + 'data/features/data_tfid_hash28_n1000.p'\n",
    "\n",
    "features_path = root_path + 'data/features/dataV2_tfid_hash28_n10000_svd1000_sin_stemmig.p'\n",
    "#features_path = root_path + 'data/features/dataV2_tfid_hash28_n10000_svd1000_bigram_sin_stemmig.p'\n",
    "#features_path = root_path + 'data/features/dataV2_tfid_hash28_n10000_svd1000_bigram_con_stemmig.p'\n",
    "\n",
    "\n",
    "\n"
   ]
  },
  {
   "cell_type": "markdown",
   "metadata": {},
   "source": [
    "# Load Data"
   ]
  },
  {
   "cell_type": "markdown",
   "metadata": {},
   "source": [
    "### Output"
   ]
  },
  {
   "cell_type": "code",
   "execution_count": 3,
   "metadata": {},
   "outputs": [],
   "source": [
    "X ,y1 ,y2 , y3 = pickle.load( open( features_path, \"rb\" ) )\n"
   ]
  },
  {
   "cell_type": "code",
   "execution_count": 4,
   "metadata": {},
   "outputs": [
    {
     "data": {
      "text/plain": [
       "35155"
      ]
     },
     "execution_count": 4,
     "metadata": {},
     "output_type": "execute_result"
    }
   ],
   "source": [
    "\n",
    "fraction = 0.1\n",
    "np.random.seed(42)\n",
    "indices = np.random.choice(X.shape[0], round(fraction*X.shape[0]), replace=False)\n",
    "\n",
    "X = X[indices]\n",
    "y1 = y1[indices]\n",
    "\n",
    "X.shape[0]"
   ]
  },
  {
   "cell_type": "code",
   "execution_count": 5,
   "metadata": {},
   "outputs": [],
   "source": [
    "train_fraction = 0.70\n",
    "\n",
    "y1 = y1.values    \n",
    "\n",
    "np.random.seed(42)\n",
    "train_indices = np.random.choice(X.shape[0], round(train_fraction*X.shape[0]), replace=False)\n",
    "test_indices = np.array(list(set(range(X.shape[0])) - set(train_indices)))\n",
    "\n",
    "X_train = X[train_indices]\n",
    "y_train = y1[train_indices]\n",
    "X_test = X[test_indices]\n",
    "y_test = y1[test_indices]\n"
   ]
  },
  {
   "cell_type": "code",
   "execution_count": null,
   "metadata": {},
   "outputs": [],
   "source": []
  },
  {
   "cell_type": "code",
   "execution_count": 6,
   "metadata": {},
   "outputs": [],
   "source": [
    "labels = list(set(y_train))\n",
    "labels.sort()\n",
    "nClasses = len(labels)\n",
    "\n",
    "def calcWeights(y):\n",
    "    sizes = {label: y_train[y_train == label].shape[0] for label in labels}\n",
    "    weights = np.asarray([float(len(y_train))/(sizes[label]*nClasses) for label in y]) #n_samples / (n_classes * np.bincount(y))\n",
    "    weights = np.power(weights,1) # 1.4\n",
    "    return weights \n",
    "\n",
    "def calcWeightsL(y):\n",
    "    #lerko\n",
    "    scale_factor = 10e3\n",
    "    sizes = {label: y_train[y_train == label].shape[0] for label in labels}\n",
    "    weights = np.asarray([scale_factor/sizes[label] for label in y])\n",
    "    return weights \n",
    "\n",
    "weights_train = calcWeights(y_train)\n",
    "weights_test = calcWeights(y_test)"
   ]
  },
  {
   "cell_type": "markdown",
   "metadata": {},
   "source": [
    "# Model\n",
    "\n",
    "### DNN graph generation"
   ]
  },
  {
   "cell_type": "code",
   "execution_count": 7,
   "metadata": {},
   "outputs": [],
   "source": [
    "epochs = 20000\n",
    "\n",
    "if isinstance(X_train, scipy.sparse.csr.csr_matrix):\n",
    "    X_train = X_train.todense()\n",
    "    X_test = X_test.todense()\n",
    "\n",
    "# Define the test inputs\n",
    "def get_train_inputs():    \n",
    "    dataset = tf.estimator.inputs.numpy_input_fn({'x': X_train,'class_weights': weights_train},\n",
    "                                                  y_train[:,np.newaxis],\n",
    "                                                  shuffle=True,\n",
    "                                                  batch_size=64, #min 64 , best at 1024\n",
    "                                                  num_epochs=epochs)\n",
    "    return dataset\n",
    "\n",
    "def get_test_inputs():\n",
    "    dataset = tf.estimator.inputs.numpy_input_fn({'x': X_test,'class_weights': weights_test},\n",
    "                                                  y_test[:,np.newaxis],\n",
    "                                                  shuffle=False)\n",
    "    return dataset"
   ]
  },
  {
   "cell_type": "markdown",
   "metadata": {},
   "source": [
    "### functions graph tensorflow"
   ]
  },
  {
   "cell_type": "code",
   "execution_count": 8,
   "metadata": {},
   "outputs": [
    {
     "name": "stdout",
     "output_type": "stream",
     "text": [
      "WARNING:tensorflow:From <ipython-input-8-cd014a348571>:19: RunConfig.__init__ (from tensorflow.contrib.learn.python.learn.estimators.run_config) is deprecated and will be removed in a future version.\n",
      "Instructions for updating:\n",
      "When switching to tf.estimator.Estimator, use tf.estimator.RunConfig instead.\n",
      "WARNING:tensorflow:From /root/anaconda3/envs/tensorflow/lib/python3.5/site-packages/tensorflow/contrib/learn/python/learn/estimators/dnn.py:378: multi_class_head (from tensorflow.contrib.learn.python.learn.estimators.head) is deprecated and will be removed in a future version.\n",
      "Instructions for updating:\n",
      "Please switch to tf.contrib.estimator.*_head.\n",
      "WARNING:tensorflow:From /root/anaconda3/envs/tensorflow/lib/python3.5/site-packages/tensorflow/contrib/learn/python/learn/estimators/estimator.py:1179: BaseEstimator.__init__ (from tensorflow.contrib.learn.python.learn.estimators.estimator) is deprecated and will be removed in a future version.\n",
      "Instructions for updating:\n",
      "Please replace uses of any Estimator from tf.contrib.learn with an Estimator from tf.estimator.*\n",
      "INFO:tensorflow:Using config: {'_evaluation_master': '', '_tf_random_seed': None, '_log_step_count_steps': 100, '_tf_config': gpu_options {\n",
      "  per_process_gpu_memory_fraction: 1.0\n",
      "}\n",
      ", '_session_config': None, '_task_type': None, '_keep_checkpoint_every_n_hours': 10000, '_num_ps_replicas': 0, '_train_distribute': None, '_cluster_spec': <tensorflow.python.training.server_lib.ClusterSpec object at 0x7f385c9e8b70>, '_save_checkpoints_secs': None, '_model_dir': '../models/testV2', '_task_id': 0, '_keep_checkpoint_max': 5, '_device_fn': None, '_save_summary_steps': 100, '_environment': 'local', '_num_worker_replicas': 0, '_is_chief': True, '_master': '', '_save_checkpoints_steps': 4096}\n"
     ]
    }
   ],
   "source": [
    "\n",
    "\n",
    "\n",
    "feature_columns = [tf.contrib.layers.real_valued_column('x', dimension=X_train.shape[1])]\n",
    "\n",
    "optimizer = tf.train.ProximalAdagradOptimizer(\n",
    "                              learning_rate=10.0,\n",
    "                              l1_regularization_strength= 0.0#0.0001\n",
    "                              )\n",
    "\n",
    "classifier = DNNClassifier(                                \n",
    "                           n_classes=len(labels), label_keys=labels, feature_columns=feature_columns,\n",
    "                           hidden_units=[3000,2000], #2000, 1000, 100\n",
    "                           dropout=0.5,\n",
    "                           #optimizer = optimizer,\n",
    "                           weight_column_name='class_weights',\n",
    "                           model_dir = path_model,\n",
    "                           config = tf.contrib.learn.RunConfig(save_checkpoints_steps = 4096,\n",
    "                           save_checkpoints_secs = None)                           \n",
    "                          )"
   ]
  },
  {
   "cell_type": "markdown",
   "metadata": {},
   "source": [
    "# Training\n",
    "\n"
   ]
  },
  {
   "cell_type": "code",
   "execution_count": 9,
   "metadata": {},
   "outputs": [
    {
     "name": "stdout",
     "output_type": "stream",
     "text": [
      "WARNING:tensorflow:From /root/anaconda3/envs/tensorflow/lib/python3.5/site-packages/tensorflow/contrib/learn/python/learn/monitors.py:279: BaseMonitor.__init__ (from tensorflow.contrib.learn.python.learn.monitors) is deprecated and will be removed after 2016-12-05.\n",
      "Instructions for updating:\n",
      "Monitors are deprecated. Please use tf.train.SessionRunHook.\n",
      "start\n",
      "WARNING:tensorflow:Weights class_weights has shape (?,), expanding to make it 2d.\n",
      "WARNING:tensorflow:From /root/anaconda3/envs/tensorflow/lib/python3.5/site-packages/tensorflow/contrib/learn/python/learn/estimators/head.py:678: ModelFnOps.__new__ (from tensorflow.contrib.learn.python.learn.estimators.model_fn) is deprecated and will be removed in a future version.\n",
      "Instructions for updating:\n",
      "When switching to tf.estimator.Estimator, use tf.estimator.EstimatorSpec. You can use the `estimator_spec` method to create an equivalent one.\n",
      "INFO:tensorflow:Create CheckpointSaverHook.\n",
      "INFO:tensorflow:Graph was finalized.\n",
      "INFO:tensorflow:Running local_init_op.\n",
      "INFO:tensorflow:Done running local_init_op.\n",
      "INFO:tensorflow:Saving checkpoints for 0 into ../models/testV2/model.ckpt.\n",
      "INFO:tensorflow:loss = 1.940064, step = 0\n",
      "INFO:tensorflow:global_step/sec: 224.855\n",
      "INFO:tensorflow:loss = 1.9568409, step = 100 (0.445 sec)\n",
      "INFO:tensorflow:global_step/sec: 291.283\n",
      "INFO:tensorflow:loss = 1.9480684, step = 200 (0.343 sec)\n",
      "INFO:tensorflow:global_step/sec: 289.793\n",
      "INFO:tensorflow:loss = 2.195644, step = 300 (0.345 sec)\n",
      "INFO:tensorflow:global_step/sec: 290.462\n",
      "INFO:tensorflow:loss = 0.97744954, step = 400 (0.345 sec)\n",
      "INFO:tensorflow:global_step/sec: 288.8\n",
      "WARNING:tensorflow:Weights class_weights has shape (?,), expanding to make it 2d.\n",
      "INFO:tensorflow:Starting evaluation at 2019-01-09-11:59:54\n",
      "INFO:tensorflow:Graph was finalized.\n",
      "INFO:tensorflow:Restoring parameters from ../models/testV2/model.ckpt-0\n",
      "INFO:tensorflow:Running local_init_op.\n",
      "INFO:tensorflow:Done running local_init_op.\n",
      "INFO:tensorflow:Finished evaluation at 2019-01-09-11:59:55\n",
      "INFO:tensorflow:Saving dict for global step 0: accuracy = 0.11230723, global_step = 0, loss = 2.0800605\n",
      "INFO:tensorflow:Validation (step 500): accuracy = 0.11230723, loss = 2.0800605, global_step = 0\n",
      "INFO:tensorflow:loss = 0.82415867, step = 500 (0.910 sec)\n",
      "INFO:tensorflow:global_step/sec: 108.655\n",
      "INFO:tensorflow:loss = 1.0395534, step = 600 (0.357 sec)\n",
      "INFO:tensorflow:global_step/sec: 289.421\n",
      "INFO:tensorflow:loss = 0.7059555, step = 700 (0.346 sec)\n",
      "INFO:tensorflow:global_step/sec: 288.869\n",
      "INFO:tensorflow:loss = 0.4646381, step = 800 (0.346 sec)\n",
      "INFO:tensorflow:global_step/sec: 288.644\n",
      "INFO:tensorflow:loss = 1.0463133, step = 900 (0.347 sec)\n",
      "INFO:tensorflow:global_step/sec: 291.362\n",
      "INFO:tensorflow:loss = 0.66143525, step = 1000 (0.343 sec)\n",
      "INFO:tensorflow:global_step/sec: 291.354\n",
      "INFO:tensorflow:loss = 0.63500524, step = 1100 (0.344 sec)\n",
      "INFO:tensorflow:global_step/sec: 290.139\n",
      "INFO:tensorflow:loss = 0.38009864, step = 1200 (0.344 sec)\n",
      "INFO:tensorflow:global_step/sec: 293.427\n",
      "INFO:tensorflow:loss = 0.377339, step = 1300 (0.342 sec)\n",
      "INFO:tensorflow:global_step/sec: 290.814\n",
      "INFO:tensorflow:loss = 0.2782429, step = 1400 (0.343 sec)\n",
      "INFO:tensorflow:global_step/sec: 290.144\n",
      "INFO:tensorflow:loss = 0.4497633, step = 1500 (0.345 sec)\n",
      "INFO:tensorflow:global_step/sec: 282.5\n",
      "INFO:tensorflow:loss = 0.5115121, step = 1600 (0.354 sec)\n",
      "INFO:tensorflow:global_step/sec: 291.174\n",
      "INFO:tensorflow:loss = 0.36631358, step = 1700 (0.344 sec)\n",
      "INFO:tensorflow:global_step/sec: 288.743\n",
      "INFO:tensorflow:loss = 0.6868578, step = 1800 (0.346 sec)\n",
      "INFO:tensorflow:global_step/sec: 292.467\n",
      "INFO:tensorflow:loss = 0.45996335, step = 1900 (0.342 sec)\n",
      "INFO:tensorflow:global_step/sec: 285.827\n",
      "INFO:tensorflow:loss = 0.24779303, step = 2000 (0.351 sec)\n",
      "INFO:tensorflow:global_step/sec: 291.447\n",
      "INFO:tensorflow:loss = 0.43762842, step = 2100 (0.342 sec)\n",
      "INFO:tensorflow:global_step/sec: 291.912\n",
      "INFO:tensorflow:loss = 0.28257385, step = 2200 (0.343 sec)\n",
      "INFO:tensorflow:global_step/sec: 292.783\n",
      "INFO:tensorflow:loss = 0.26468796, step = 2300 (0.341 sec)\n",
      "INFO:tensorflow:global_step/sec: 291.005\n",
      "INFO:tensorflow:loss = 0.2497925, step = 2400 (0.344 sec)\n",
      "INFO:tensorflow:global_step/sec: 290.675\n",
      "INFO:tensorflow:loss = 0.24381435, step = 2500 (0.344 sec)\n",
      "INFO:tensorflow:global_step/sec: 277.837\n",
      "INFO:tensorflow:loss = 0.37661162, step = 2600 (0.360 sec)\n",
      "INFO:tensorflow:global_step/sec: 292.677\n",
      "INFO:tensorflow:loss = 0.6567942, step = 2700 (0.342 sec)\n",
      "INFO:tensorflow:global_step/sec: 294.247\n",
      "INFO:tensorflow:loss = 0.3503033, step = 2800 (0.339 sec)\n",
      "INFO:tensorflow:global_step/sec: 295.038\n",
      "INFO:tensorflow:loss = 0.24138221, step = 2900 (0.340 sec)\n",
      "INFO:tensorflow:global_step/sec: 289.364\n",
      "INFO:tensorflow:loss = 0.56440073, step = 3000 (0.345 sec)\n",
      "INFO:tensorflow:global_step/sec: 291.239\n",
      "INFO:tensorflow:loss = 0.1539442, step = 3100 (0.344 sec)\n",
      "INFO:tensorflow:global_step/sec: 291.83\n",
      "INFO:tensorflow:loss = 0.17048465, step = 3200 (0.343 sec)\n",
      "INFO:tensorflow:global_step/sec: 293.432\n",
      "INFO:tensorflow:loss = 0.586356, step = 3300 (0.341 sec)\n",
      "INFO:tensorflow:global_step/sec: 285.715\n",
      "INFO:tensorflow:loss = 0.3852768, step = 3400 (0.350 sec)\n",
      "INFO:tensorflow:global_step/sec: 292.806\n",
      "INFO:tensorflow:loss = 0.18521602, step = 3500 (0.342 sec)\n",
      "INFO:tensorflow:global_step/sec: 291.858\n",
      "INFO:tensorflow:loss = 0.26008278, step = 3600 (0.342 sec)\n",
      "INFO:tensorflow:global_step/sec: 291.558\n",
      "INFO:tensorflow:loss = 0.73390806, step = 3700 (0.343 sec)\n",
      "INFO:tensorflow:global_step/sec: 293.607\n",
      "INFO:tensorflow:loss = 0.18174994, step = 3800 (0.340 sec)\n",
      "INFO:tensorflow:global_step/sec: 292.055\n",
      "INFO:tensorflow:loss = 0.19649969, step = 3900 (0.343 sec)\n",
      "INFO:tensorflow:global_step/sec: 289.102\n",
      "INFO:tensorflow:loss = 0.21206069, step = 4000 (0.346 sec)\n",
      "INFO:tensorflow:Saving checkpoints for 4096 into ../models/testV2/model.ckpt.\n",
      "INFO:tensorflow:global_step/sec: 240.813\n",
      "INFO:tensorflow:loss = 0.2037791, step = 4100 (0.415 sec)\n",
      "INFO:tensorflow:global_step/sec: 292.992\n",
      "INFO:tensorflow:loss = 0.28852418, step = 4200 (0.341 sec)\n",
      "INFO:tensorflow:global_step/sec: 287.5\n",
      "INFO:tensorflow:loss = 0.42125428, step = 4300 (0.348 sec)\n",
      "INFO:tensorflow:global_step/sec: 287.259\n",
      "INFO:tensorflow:loss = 0.29745573, step = 4400 (0.348 sec)\n",
      "INFO:tensorflow:global_step/sec: 292.79\n",
      "INFO:tensorflow:loss = 0.19710344, step = 4500 (0.342 sec)\n",
      "INFO:tensorflow:global_step/sec: 284.955\n",
      "INFO:tensorflow:loss = 0.124662645, step = 4600 (0.351 sec)\n",
      "INFO:tensorflow:global_step/sec: 292.684\n",
      "INFO:tensorflow:loss = 0.24339446, step = 4700 (0.342 sec)\n",
      "INFO:tensorflow:global_step/sec: 288.809\n",
      "INFO:tensorflow:loss = 0.14064348, step = 4800 (0.346 sec)\n",
      "INFO:tensorflow:global_step/sec: 292.239\n",
      "INFO:tensorflow:loss = 0.12839258, step = 4900 (0.343 sec)\n",
      "INFO:tensorflow:global_step/sec: 288.085\n",
      "WARNING:tensorflow:Weights class_weights has shape (?,), expanding to make it 2d.\n",
      "INFO:tensorflow:Starting evaluation at 2019-01-09-12:00:11\n",
      "INFO:tensorflow:Graph was finalized.\n",
      "INFO:tensorflow:Restoring parameters from ../models/testV2/model.ckpt-4096\n",
      "INFO:tensorflow:Running local_init_op.\n",
      "INFO:tensorflow:Done running local_init_op.\n",
      "INFO:tensorflow:Finished evaluation at 2019-01-09-12:00:11\n",
      "INFO:tensorflow:Saving dict for global step 4096: accuracy = 0.7911498, global_step = 4096, loss = 0.66125566\n",
      "INFO:tensorflow:Validation (step 5000): accuracy = 0.7911498, loss = 0.66125566, global_step = 4096\n",
      "INFO:tensorflow:loss = 0.23409232, step = 5000 (0.940 sec)\n",
      "INFO:tensorflow:global_step/sec: 106.687\n",
      "INFO:tensorflow:loss = 0.12477209, step = 5100 (0.344 sec)\n",
      "INFO:tensorflow:global_step/sec: 286.746\n",
      "INFO:tensorflow:loss = 0.09339211, step = 5200 (0.349 sec)\n",
      "INFO:tensorflow:global_step/sec: 283.498\n",
      "INFO:tensorflow:loss = 0.13717064, step = 5300 (0.352 sec)\n",
      "INFO:tensorflow:global_step/sec: 293.347\n",
      "INFO:tensorflow:loss = 0.08908151, step = 5400 (0.341 sec)\n",
      "INFO:tensorflow:global_step/sec: 292.502\n",
      "INFO:tensorflow:loss = 0.10135899, step = 5500 (0.342 sec)\n",
      "INFO:tensorflow:global_step/sec: 292.134\n",
      "INFO:tensorflow:loss = 0.1777756, step = 5600 (0.342 sec)\n",
      "INFO:tensorflow:global_step/sec: 292.94\n",
      "INFO:tensorflow:loss = 0.08227864, step = 5700 (0.342 sec)\n",
      "INFO:tensorflow:global_step/sec: 283.794\n",
      "INFO:tensorflow:loss = 0.27224234, step = 5800 (0.352 sec)\n"
     ]
    },
    {
     "name": "stdout",
     "output_type": "stream",
     "text": [
      "INFO:tensorflow:global_step/sec: 284.82\n",
      "INFO:tensorflow:loss = 0.10067557, step = 5900 (0.351 sec)\n",
      "INFO:tensorflow:global_step/sec: 286.76\n",
      "INFO:tensorflow:loss = 0.1518439, step = 6000 (0.348 sec)\n",
      "INFO:tensorflow:global_step/sec: 293.169\n",
      "INFO:tensorflow:loss = 0.028291574, step = 6100 (0.341 sec)\n",
      "INFO:tensorflow:global_step/sec: 286.702\n",
      "INFO:tensorflow:loss = 0.042095445, step = 6200 (0.349 sec)\n",
      "INFO:tensorflow:global_step/sec: 287.957\n",
      "INFO:tensorflow:loss = 0.11753271, step = 6300 (0.347 sec)\n",
      "INFO:tensorflow:global_step/sec: 290.66\n",
      "INFO:tensorflow:loss = 0.15172522, step = 6400 (0.344 sec)\n",
      "INFO:tensorflow:global_step/sec: 287.311\n",
      "INFO:tensorflow:loss = 0.2936502, step = 6500 (0.350 sec)\n",
      "INFO:tensorflow:global_step/sec: 290.202\n",
      "INFO:tensorflow:loss = 0.16365235, step = 6600 (0.343 sec)\n",
      "INFO:tensorflow:global_step/sec: 291.753\n",
      "INFO:tensorflow:loss = 0.10400267, step = 6700 (0.342 sec)\n",
      "INFO:tensorflow:global_step/sec: 288.761\n",
      "INFO:tensorflow:loss = 0.09064878, step = 6800 (0.346 sec)\n",
      "INFO:tensorflow:global_step/sec: 293.361\n",
      "INFO:tensorflow:loss = 0.07772417, step = 6900 (0.341 sec)\n",
      "INFO:tensorflow:global_step/sec: 286.867\n",
      "INFO:tensorflow:loss = 0.08712564, step = 7000 (0.349 sec)\n",
      "INFO:tensorflow:global_step/sec: 289.135\n",
      "INFO:tensorflow:loss = 0.09410408, step = 7100 (0.346 sec)\n",
      "INFO:tensorflow:global_step/sec: 293.244\n",
      "INFO:tensorflow:loss = 0.15950681, step = 7200 (0.341 sec)\n",
      "INFO:tensorflow:global_step/sec: 290.581\n",
      "INFO:tensorflow:loss = 0.16755927, step = 7300 (0.344 sec)\n",
      "INFO:tensorflow:global_step/sec: 287.483\n",
      "INFO:tensorflow:loss = 0.10732941, step = 7400 (0.348 sec)\n",
      "INFO:tensorflow:global_step/sec: 289.543\n",
      "INFO:tensorflow:loss = 0.07314831, step = 7500 (0.345 sec)\n",
      "INFO:tensorflow:global_step/sec: 289.702\n",
      "INFO:tensorflow:loss = 0.09315795, step = 7600 (0.345 sec)\n",
      "INFO:tensorflow:global_step/sec: 288.563\n",
      "INFO:tensorflow:loss = 0.08621725, step = 7700 (0.346 sec)\n",
      "INFO:tensorflow:global_step/sec: 293.999\n",
      "INFO:tensorflow:loss = 0.070263445, step = 7800 (0.341 sec)\n",
      "INFO:tensorflow:global_step/sec: 291.355\n",
      "INFO:tensorflow:loss = 0.037145436, step = 7900 (0.343 sec)\n",
      "INFO:tensorflow:global_step/sec: 296.001\n",
      "INFO:tensorflow:loss = 0.15541817, step = 8000 (0.340 sec)\n",
      "INFO:tensorflow:global_step/sec: 288.642\n",
      "INFO:tensorflow:loss = 0.061526082, step = 8100 (0.345 sec)\n",
      "INFO:tensorflow:Saving checkpoints for 8192 into ../models/testV2/model.ckpt.\n",
      "INFO:tensorflow:global_step/sec: 239.364\n",
      "INFO:tensorflow:loss = 0.11739496, step = 8200 (0.418 sec)\n",
      "INFO:tensorflow:global_step/sec: 289.148\n",
      "INFO:tensorflow:loss = 0.061763838, step = 8300 (0.346 sec)\n",
      "INFO:tensorflow:global_step/sec: 291.455\n",
      "INFO:tensorflow:loss = 0.10100191, step = 8400 (0.343 sec)\n",
      "INFO:tensorflow:global_step/sec: 292.278\n",
      "INFO:tensorflow:loss = 0.045312025, step = 8500 (0.342 sec)\n",
      "INFO:tensorflow:global_step/sec: 286.904\n",
      "INFO:tensorflow:loss = 0.028332585, step = 8600 (0.348 sec)\n",
      "INFO:tensorflow:global_step/sec: 290.015\n",
      "INFO:tensorflow:loss = 0.049374774, step = 8700 (0.345 sec)\n",
      "INFO:tensorflow:global_step/sec: 289.68\n",
      "INFO:tensorflow:loss = 0.09573085, step = 8800 (0.345 sec)\n",
      "INFO:tensorflow:global_step/sec: 289.182\n",
      "INFO:tensorflow:loss = 0.082181126, step = 8900 (0.346 sec)\n",
      "INFO:tensorflow:global_step/sec: 293.098\n",
      "INFO:tensorflow:loss = 0.056949887, step = 9000 (0.341 sec)\n",
      "INFO:tensorflow:global_step/sec: 291.259\n",
      "INFO:tensorflow:loss = 0.033993226, step = 9100 (0.344 sec)\n",
      "INFO:tensorflow:global_step/sec: 289.954\n",
      "INFO:tensorflow:loss = 0.028455913, step = 9200 (0.344 sec)\n",
      "INFO:tensorflow:global_step/sec: 292.469\n",
      "INFO:tensorflow:loss = 0.056568056, step = 9300 (0.342 sec)\n",
      "INFO:tensorflow:global_step/sec: 292.079\n",
      "INFO:tensorflow:loss = 0.049129464, step = 9400 (0.342 sec)\n",
      "INFO:tensorflow:global_step/sec: 292.839\n",
      "WARNING:tensorflow:Weights class_weights has shape (?,), expanding to make it 2d.\n",
      "INFO:tensorflow:Starting evaluation at 2019-01-09-12:00:27\n",
      "INFO:tensorflow:Graph was finalized.\n",
      "INFO:tensorflow:Restoring parameters from ../models/testV2/model.ckpt-8192\n",
      "INFO:tensorflow:Running local_init_op.\n",
      "INFO:tensorflow:Done running local_init_op.\n",
      "INFO:tensorflow:Finished evaluation at 2019-01-09-12:00:27\n",
      "INFO:tensorflow:Saving dict for global step 8192: accuracy = 0.771291, global_step = 8192, loss = 0.92126715\n",
      "INFO:tensorflow:Validation (step 9500): accuracy = 0.771291, loss = 0.92126715, global_step = 8192\n",
      "INFO:tensorflow:Stopping. Best step: 5000 with loss = 0.6612556576728821.\n",
      "INFO:tensorflow:loss = 0.042485587, step = 9500 (0.879 sec)\n",
      "INFO:tensorflow:Saving checkpoints for 9501 into ../models/testV2/model.ckpt.\n",
      "INFO:tensorflow:Loss for final step: 0.042485587.\n",
      "Training time :36.67357158660889\n"
     ]
    }
   ],
   "source": [
    "tf.set_random_seed(42)\n",
    "\n",
    "delete_old_model = True\n",
    "if delete_old_model:\n",
    "    try:\n",
    "        os.system(\"rm -rf \"+path_model)\n",
    "        os.system(\"mkdir \"+path_model)\n",
    "    except:\n",
    "        print(\"error\")\n",
    "    \n",
    "validation_monitor = tf.contrib.learn.monitors.ValidationMonitor(\n",
    "    #input_fn= get_train_inputs(),\n",
    "    input_fn= get_test_inputs(),\n",
    "    \n",
    "    every_n_steps=500,\n",
    "    #early_stopping_metric=\"accuracy\",   #accurray mucho mas rapido,7s vs 40s, pero 2% peor\n",
    "    early_stopping_metric=\"loss\",   \n",
    "    early_stopping_metric_minimize=True,\n",
    "    early_stopping_rounds=2500)\n",
    "\n",
    "start = time.time()\n",
    "print(\"start\")\n",
    "\n",
    "#classifier.fit(input_fn=get_train_inputs(), monitors=[validation_monitor], steps=epochs, max_steps=None)\n",
    "classifier.fit(input_fn=get_train_inputs(), monitors=[validation_monitor], steps=epochs, max_steps=None)\n",
    "\n",
    "end = time.time()\n",
    "print(\"Training time :\" + str(end - start) )\n"
   ]
  },
  {
   "cell_type": "markdown",
   "metadata": {},
   "source": [
    "# Evaluation performance\n"
   ]
  },
  {
   "cell_type": "code",
   "execution_count": 10,
   "metadata": {},
   "outputs": [
    {
     "name": "stdout",
     "output_type": "stream",
     "text": [
      "INFO:tensorflow:Graph was finalized.\n",
      "INFO:tensorflow:Restoring parameters from ../models/testV2/model.ckpt-9501\n",
      "INFO:tensorflow:Running local_init_op.\n",
      "INFO:tensorflow:Done running local_init_op.\n"
     ]
    },
    {
     "data": {
      "image/png": "[encoded data removed]",
      "text/plain": [
       "<Figure size 432x288 with 2 Axes>"
      ]
     },
     "metadata": {
      "needs_background": "light"
     },
     "output_type": "display_data"
    },
    {
     "data": {
      "text/markdown": [
       "## Accuracy in test: 89.35242248980752 "
      ],
      "text/plain": [
       "<IPython.core.display.Markdown object>"
      ]
     },
     "metadata": {},
     "output_type": "display_data"
    }
   ],
   "source": [
    "#X_test = X_test.todense().p'\n",
    "\n",
    "def input_fn_evaluate():\n",
    "    dataset = {'x': tf.constant(X_test )}    \n",
    "    return dataset\n",
    "\n",
    "pred_test = classifier.predict_classes(input_fn=input_fn_evaluate)\n",
    "y_test_hat = np.asarray([x.decode('UTF-8') for x in list(pred_test)])\n",
    "y_test_hat = y_test_hat.astype(str)\n",
    "\n",
    "\n",
    "acc = accuracy_score(y_true=y_test, y_pred=y_test_hat)\n",
    "\n",
    "skplt.metrics.plot_confusion_matrix(y_test, y_test_hat,normalize='True')\n",
    "plt.xticks(rotation=45)\n",
    "plt.show()\n",
    "\n",
    "#print('Accuracy in test: {}'.format(acc))\n",
    "display(Markdown('## Accuracy in test: {} '.format(acc*100)))"
   ]
  },
  {
   "cell_type": "code",
   "execution_count": 11,
   "metadata": {},
   "outputs": [
    {
     "name": "stdout",
     "output_type": "stream",
     "text": [
      "INFO:tensorflow:Graph was finalized.\n",
      "INFO:tensorflow:Restoring parameters from ../models/testV2/model.ckpt-9501\n",
      "INFO:tensorflow:Running local_init_op.\n",
      "INFO:tensorflow:Done running local_init_op.\n"
     ]
    },
    {
     "data": {
      "image/png": "[encoded data removed]",
      "text/plain": [
       "<Figure size 432x288 with 2 Axes>"
      ]
     },
     "metadata": {
      "needs_background": "light"
     },
     "output_type": "display_data"
    },
    {
     "data": {
      "text/markdown": [
       "## Mean diag. principal confusion Matrix : 76.28121144607715 "
      ],
      "text/plain": [
       "<IPython.core.display.Markdown object>"
      ]
     },
     "metadata": {},
     "output_type": "display_data"
    },
    {
     "data": {
      "text/markdown": [
       "## Accuracy in test: 89.35242248980752 "
      ],
      "text/plain": [
       "<IPython.core.display.Markdown object>"
      ]
     },
     "metadata": {},
     "output_type": "display_data"
    }
   ],
   "source": [
    "#X_test = X_test.todense()\n",
    "\n",
    "def input_fn_evaluate():\n",
    "    dataset = {'x': tf.constant(X_test )}    \n",
    "    return dataset\n",
    "\n",
    "pred_test = classifier.predict_classes(input_fn=input_fn_evaluate)\n",
    "y_test_hat = np.asarray([x.decode('UTF-8') for x in list(pred_test)])\n",
    "y_test_hat = y_test_hat.astype(str)\n",
    "\n",
    "\n",
    "acc = accuracy_score(y_true=y_test, y_pred=y_test_hat)\n",
    "cfm = skplt.metrics.confusion_matrix(y_test, y_test_hat)\n",
    "cfm = cfm/cfm.astype(np.float).sum(axis=1)\n",
    "mdp = np.mean(cfm.diagonal())\n",
    "\n",
    "skplt.metrics.plot_confusion_matrix(y_test, y_test_hat,normalize='True')\n",
    "plt.xticks(rotation=45)\n",
    "plt.show()\n",
    "\n",
    "#print('Accuracy in test: {}'.format(acc))\n",
    "display(Markdown('## Mean diag. principal confusion Matrix : {} '.format(mdp*100)))\n",
    "\n",
    "display(Markdown('## Accuracy in test: {} '.format(acc*100)))\n"
   ]
  },
  {
   "cell_type": "code",
   "execution_count": null,
   "metadata": {},
   "outputs": [],
   "source": []
  },
  {
   "cell_type": "markdown",
   "metadata": {},
   "source": [
    "### save models"
   ]
  },
  {
   "cell_type": "code",
   "execution_count": 12,
   "metadata": {},
   "outputs": [],
   "source": [
    "\n",
    "pickle.dump( (path_model,labels), open( path_model + \"/info_model.p\", \"wb\" ) )"
   ]
  },
  {
   "cell_type": "code",
   "execution_count": 13,
   "metadata": {},
   "outputs": [],
   "source": [
    "# def input_fn_evaluate1():\n",
    "#     dataset = {'x': tf.constant(X_test[0:25000,:].todense() )}    \n",
    "#     return dataset\n",
    "\n",
    "# pred_test1 = classifier.predict_classes(input_fn=input_fn_evaluate1)\n",
    "\n",
    "# def input_fn_evaluate2():\n",
    "#     dataset = {'x': tf.constant(X_test[25000:,:].todense() )}    \n",
    "#     return dataset\n",
    "# pred_test2 = classifier.predict_classes(input_fn=input_fn_evaluate2)50\n"
   ]
  },
  {
   "cell_type": "code",
   "execution_count": 14,
   "metadata": {},
   "outputs": [],
   "source": [
    "# y_test_hat1 = np.asarray([x.decode('UTF-8') for x in list(pred_test1)])\n",
    "# y_test_hat2 = np.asarray([x.decode('UTF-8') for x in list(pred_test2)])\n",
    "# y_test_hat = np.concatenate((y_test_hat1, y_test_hat2), axis=0)"
   ]
  },
  {
   "cell_type": "code",
   "execution_count": null,
   "metadata": {},
   "outputs": [],
   "source": []
  },
  {
   "cell_type": "code",
   "execution_count": null,
   "metadata": {},
   "outputs": [],
   "source": []
  },
  {
   "cell_type": "code",
   "execution_count": 15,
   "metadata": {},
   "outputs": [],
   "source": [
    "\n",
    "# y_test_hat = y_test_hat.astype(str)\n",
    "\n",
    "\n",
    "# acc = accuracy_score(y_true=y_test, y_pred=y_test_hat)\n",
    "\n",
    "# skplt.metrics.plot_confusion_matrix(y_test, y_test_hat,normalize='True')\n",
    "# plt.xticks(rotation=45)\n",
    "# plt.show()\n",
    "\n",
    "# #print('Accuracy in test: {}'.format(acc))\n",
    "# display(Markdown('## Accuracy in test: {} '.format(acc*100)))"
   ]
  },
  {
   "cell_type": "code",
   "execution_count": null,
   "metadata": {},
   "outputs": [],
   "source": []
  }
 ],
 "metadata": {
  "kernelspec": {
   "display_name": "tensorflow",
   "language": "python",
   "name": "tensorflow"
  },
  "language_info": {
   "codemirror_mode": {
    "name": "ipython",
    "version": 3
   },
   "file_extension": ".py",
   "mimetype": "text/x-python",
   "name": "python",
   "nbconvert_exporter": "python",
   "pygments_lexer": "ipython3",
   "version": "3.5.5"
  },
  "widgets": {
   "application/vnd.jupyter.widget-state+json": {
    "state": {},
    "version_major": 2,
    "version_minor": 0
   }
  }
 },
 "nbformat": 4,
 "nbformat_minor": 2
}

{
 "cells": [
  {
   "cell_type": "code",
   "execution_count": 1,
   "metadata": {},
   "outputs": [
    {
     "name": "stdout",
     "output_type": "stream",
     "text": [
      "/root/anaconda3/lib/python3.6/site-packages/tensorflow/python/_pywrap_tensorflow_internal.so | _pywrap_tensorflow_internal\n",
      "/root/anaconda3/lib/python3.6/site-packages/tensorflow/contrib/lite/toco/python/_tensorflow_wrap_toco.so | _tensorflow_wrap_toco\n",
      "[nltk_data] Downloading package stopwords to /root/nltk_data...\n",
      "[nltk_data]   Package stopwords is already up-to-date!\n",
      "[nltk_data] Downloading package punkt to /root/nltk_data...\n",
      "[nltk_data]   Package punkt is already up-to-date!\n"
     ]
    }
   ],
   "source": [
    "# Utils\n",
    "import os, sys, re, time, gc, types, string, unicodedata, unidecode, string, warnings, inspect\n",
    "\n",
    "import tensorflow as tf\n",
    "import pandas as pd\n",
    "import matplotlib.pyplot as plt\n",
    "\n",
    "import numpy as np\n",
    "import time\n",
    "#import _pickle as pickle\n",
    "import pickle\n",
    "import re, sys, unidecode\n",
    "#import unidecode\n",
    "\n",
    "from sklearn.metrics import accuracy_score\n",
    "from IPython.display import display, Markdown, Latex\n",
    "\n",
    "import shutil\n",
    "import os\n",
    "\n",
    "# Representation\n",
    "import nltk\n",
    "from nltk.corpus import stopwords\n",
    "import scikitplot as skplt\n",
    "\n",
    "import wordbatch\n",
    "from wordbatch.extractors import WordBag, WordHash\n",
    "from wordbatch.models import FTRL\n",
    "\n",
    "from tensorflow.contrib.learn import DNNClassifier\n",
    "\n",
    "#from tecnosmartlib import DataObject\n",
    "\n",
    "#plt.style.use('fivethirtyeight')\n",
    "\n",
    "#Carga stop word\n",
    "nltk.download('stopwords')\n",
    "spanish_stopwords = nltk.corpus.stopwords.words('spanish')\n",
    "\n",
    "# punkt:  módulo contiene modelos para la tokenización de textos\n",
    "nltk.download('punkt')\n",
    "\n",
    "\n",
    "import lightgbm as lgb\n",
    "from sklearn.metrics import mean_squared_error"
   ]
  },
  {
   "cell_type": "markdown",
   "metadata": {},
   "source": [
    "# Parameters"
   ]
  },
  {
   "cell_type": "code",
   "execution_count": 2,
   "metadata": {},
   "outputs": [],
   "source": [
    "root_path = \"../\"\n",
    "path_data_clean = root_path + \"data/clean/\"\n",
    "path_model = root_path + 'models/'\n",
    "features_path = root_path + 'data/features/'\n",
    "model_name = \"test\"\n",
    "path_model += model_name\n",
    "\n",
    "delete_old_model = True\n",
    "if delete_old_model:\n",
    "    try:\n",
    "        os.system(\"rm -rf \"+path_model)\n",
    "        os.system(\"mkdir \"+path_model)\n",
    "    except:\n",
    "        print(\"error\")"
   ]
  },
  {
   "cell_type": "markdown",
   "metadata": {},
   "source": [
    "# Load Data"
   ]
  },
  {
   "cell_type": "code",
   "execution_count": 3,
   "metadata": {},
   "outputs": [],
   "source": [
    "dfNoticias = pd.read_pickle(path_data_clean + \"/dfNoticiasClean.p\")\n"
   ]
  },
  {
   "cell_type": "code",
   "execution_count": 4,
   "metadata": {},
   "outputs": [
    {
     "data": {
      "text/html": [
       "<div>\n",
       "<style scoped>\n",
       "    .dataframe tbody tr th:only-of-type {\n",
       "        vertical-align: middle;\n",
       "    }\n",
       "\n",
       "    .dataframe tbody tr th {\n",
       "        vertical-align: top;\n",
       "    }\n",
       "\n",
       "    .dataframe thead th {\n",
       "        text-align: right;\n",
       "    }\n",
       "</style>\n",
       "<table border=\"1\" class=\"dataframe\">\n",
       "  <thead>\n",
       "    <tr style=\"text-align: right;\">\n",
       "      <th></th>\n",
       "      <th>Cuerpo</th>\n",
       "      <th>Fecha</th>\n",
       "      <th>Hora</th>\n",
       "      <th>ID</th>\n",
       "      <th>Resumen</th>\n",
       "      <th>Seccion_1</th>\n",
       "      <th>Seccion_2</th>\n",
       "      <th>Seccion_3</th>\n",
       "      <th>Subtema_1</th>\n",
       "      <th>Subtema_2</th>\n",
       "      <th>Subtema_3</th>\n",
       "      <th>Tema_1</th>\n",
       "      <th>Tema_2</th>\n",
       "      <th>Tema_3</th>\n",
       "      <th>Titular</th>\n",
       "      <th>Type</th>\n",
       "    </tr>\n",
       "  </thead>\n",
       "  <tbody>\n",
       "    <tr>\n",
       "      <th>1</th>\n",
       "      <td>\\nMarcel Granollers (44°) sorprendió a David F...</td>\n",
       "      <td>20140929</td>\n",
       "      <td>09:57</td>\n",
       "      <td>20140929095927</td>\n",
       "      <td>\\nEl español cayó ante su compatriota Marcel G...</td>\n",
       "      <td>deportes</td>\n",
       "      <td>None</td>\n",
       "      <td>None</td>\n",
       "      <td>torneos atp</td>\n",
       "      <td>None</td>\n",
       "      <td>None</td>\n",
       "      <td>tenis</td>\n",
       "      <td>None</td>\n",
       "      <td>None</td>\n",
       "      <td>\\nDavid Ferrer sufrió otra temprana eliminación\\n</td>\n",
       "      <td>fid_noticia</td>\n",
       "    </tr>\n",
       "    <tr>\n",
       "      <th>2</th>\n",
       "      <td>\\nEl Gobierno de Barack Obama ha enviado cuatr...</td>\n",
       "      <td>20140929</td>\n",
       "      <td>07:03</td>\n",
       "      <td>20140929065051</td>\n",
       "      <td>\\nLas conversaciones comenzaron el año 2010 y ...</td>\n",
       "      <td>pais</td>\n",
       "      <td>mundo</td>\n",
       "      <td>mundo</td>\n",
       "      <td>eeuu</td>\n",
       "      <td>relaciones exteriores</td>\n",
       "      <td>None</td>\n",
       "      <td>relaciones exteriores</td>\n",
       "      <td>eeuu</td>\n",
       "      <td>cuba</td>\n",
       "      <td>\\nObama ha enviado cuatro solicitudes a Chile ...</td>\n",
       "      <td>fid_noticia</td>\n",
       "    </tr>\n",
       "    <tr>\n",
       "      <th>3</th>\n",
       "      <td>\\nEste miércoles la Comisión Asesora Presidenc...</td>\n",
       "      <td>20140929</td>\n",
       "      <td>11:37</td>\n",
       "      <td>20140929105234</td>\n",
       "      <td>\\nRepresentantes del sector privado acusaron q...</td>\n",
       "      <td>pais</td>\n",
       "      <td>None</td>\n",
       "      <td>None</td>\n",
       "      <td>isapre</td>\n",
       "      <td>None</td>\n",
       "      <td>None</td>\n",
       "      <td>salud</td>\n",
       "      <td>None</td>\n",
       "      <td>None</td>\n",
       "      <td>\\nQuiebre en comisión presidencial de isapres ...</td>\n",
       "      <td>fid_noticia</td>\n",
       "    </tr>\n",
       "    <tr>\n",
       "      <th>4</th>\n",
       "      <td>\\nWolfgang Burmann, del Team Avanti, se adjudi...</td>\n",
       "      <td>20140929</td>\n",
       "      <td>10:05</td>\n",
       "      <td>20140929100825</td>\n",
       "      <td>\\nEl pedalero del equipo Avanti terminó en el ...</td>\n",
       "      <td>deportes</td>\n",
       "      <td>None</td>\n",
       "      <td>None</td>\n",
       "      <td>chilenos</td>\n",
       "      <td>None</td>\n",
       "      <td>None</td>\n",
       "      <td>ciclismo</td>\n",
       "      <td>None</td>\n",
       "      <td>None</td>\n",
       "      <td>\\nWolfgang Burmann ganó el segundo clasificato...</td>\n",
       "      <td>fid_noticia</td>\n",
       "    </tr>\n",
       "    <tr>\n",
       "      <th>6</th>\n",
       "      <td>\\nEl Gobierno, a través de Sernapesca, present...</td>\n",
       "      <td>20140929</td>\n",
       "      <td>15:47</td>\n",
       "      <td>20140929152501</td>\n",
       "      <td>\\nBachelet instruyó a los ministros de Economí...</td>\n",
       "      <td>pais</td>\n",
       "      <td>pais</td>\n",
       "      <td>None</td>\n",
       "      <td>None</td>\n",
       "      <td>None</td>\n",
       "      <td>None</td>\n",
       "      <td>medioambiente</td>\n",
       "      <td>region de valparaiso</td>\n",
       "      <td>None</td>\n",
       "      <td>\\nGobierno presentó querella por derrame de pe...</td>\n",
       "      <td>fid_noticia</td>\n",
       "    </tr>\n",
       "  </tbody>\n",
       "</table>\n",
       "</div>"
      ],
      "text/plain": [
       "                                              Cuerpo     Fecha   Hora  \\\n",
       "1  \\nMarcel Granollers (44°) sorprendió a David F...  20140929  09:57   \n",
       "2  \\nEl Gobierno de Barack Obama ha enviado cuatr...  20140929  07:03   \n",
       "3  \\nEste miércoles la Comisión Asesora Presidenc...  20140929  11:37   \n",
       "4  \\nWolfgang Burmann, del Team Avanti, se adjudi...  20140929  10:05   \n",
       "6  \\nEl Gobierno, a través de Sernapesca, present...  20140929  15:47   \n",
       "\n",
       "               ID                                            Resumen  \\\n",
       "1  20140929095927  \\nEl español cayó ante su compatriota Marcel G...   \n",
       "2  20140929065051  \\nLas conversaciones comenzaron el año 2010 y ...   \n",
       "3  20140929105234  \\nRepresentantes del sector privado acusaron q...   \n",
       "4  20140929100825  \\nEl pedalero del equipo Avanti terminó en el ...   \n",
       "6  20140929152501  \\nBachelet instruyó a los ministros de Economí...   \n",
       "\n",
       "  Seccion_1 Seccion_2 Seccion_3    Subtema_1              Subtema_2 Subtema_3  \\\n",
       "1  deportes      None      None  torneos atp                   None      None   \n",
       "2      pais     mundo     mundo         eeuu  relaciones exteriores      None   \n",
       "3      pais      None      None       isapre                   None      None   \n",
       "4  deportes      None      None     chilenos                   None      None   \n",
       "6      pais      pais      None         None                   None      None   \n",
       "\n",
       "                  Tema_1                Tema_2 Tema_3  \\\n",
       "1                  tenis                  None   None   \n",
       "2  relaciones exteriores                  eeuu   cuba   \n",
       "3                  salud                  None   None   \n",
       "4               ciclismo                  None   None   \n",
       "6          medioambiente  region de valparaiso   None   \n",
       "\n",
       "                                             Titular         Type  \n",
       "1  \\nDavid Ferrer sufrió otra temprana eliminación\\n  fid_noticia  \n",
       "2  \\nObama ha enviado cuatro solicitudes a Chile ...  fid_noticia  \n",
       "3  \\nQuiebre en comisión presidencial de isapres ...  fid_noticia  \n",
       "4  \\nWolfgang Burmann ganó el segundo clasificato...  fid_noticia  \n",
       "6  \\nGobierno presentó querella por derrame de pe...  fid_noticia  "
      ]
     },
     "execution_count": 4,
     "metadata": {},
     "output_type": "execute_result"
    }
   ],
   "source": [
    "dfNoticias.head()"
   ]
  },
  {
   "cell_type": "markdown",
   "metadata": {},
   "source": [
    "# pre procesing\n",
    "\n"
   ]
  },
  {
   "cell_type": "code",
   "execution_count": null,
   "metadata": {},
   "outputs": [],
   "source": [
    "\n"
   ]
  },
  {
   "cell_type": "code",
   "execution_count": 5,
   "metadata": {},
   "outputs": [],
   "source": [
    "_map = {}\n",
    "_map[\"Cuerpo\"] = []\n",
    "_map[\"Seccion\"] = []\n",
    "_map[\"Subtema\"] = []\n",
    "\n",
    "count = 0\n",
    "for index, row in dfNoticias.iterrows():    \n",
    "    _map[\"Cuerpo\"].append(row[\"Cuerpo\"]) \n",
    "    _map[\"Seccion\"].append(row[\"Seccion_1\"])\n",
    "    _map[\"Subtema\"].append(row[\"Subtema_1\"])\n",
    "\n",
    "df = pd.DataFrame(_map)  \n",
    "    \n",
    "X_untransformed = df['Cuerpo'].reset_index(drop=True)\n",
    "y_untransformed = df['Seccion'].reset_index(drop=True)\n"
   ]
  },
  {
   "cell_type": "markdown",
   "metadata": {},
   "source": [
    "# Feature Extraccion\n",
    "\n",
    "### Data representation\n",
    "* Normalisacion\n",
    "* TFID calculation"
   ]
  },
  {
   "cell_type": "code",
   "execution_count": 6,
   "metadata": {},
   "outputs": [],
   "source": [
    "from nltk.stem.snowball import SnowballStemmer\n",
    "\n",
    "\n",
    "\n",
    "# def normalize_text(text):\n",
    "#     \"\"\" Funcion de normalizacion \"\"\"    \n",
    "#     # split into words\n",
    "#     tokens = nltk.tokenize.word_tokenize(text,language='spanish', preserve_line=False)\n",
    "#     # convert to lower case\n",
    "#     tokens = [w.lower() for w in tokens]    \n",
    "    \n",
    "#     # remove punctuation from each word\n",
    "#     table = str.maketrans('', '', string.punctuation)\n",
    "#     stripped = [w.translate(table) for w in tokens]\n",
    "    \n",
    "#     # remove remaining tokens that are n<<<<<<<<<<<<<<<<<<<<<\n",
    "#     words = [word for word in stripped if word.isalpha()]\n",
    "    \n",
    "#     # stop word and remove accent\n",
    "#     def strip_accents(s):\n",
    "#         return ''.join(c for c in unicodedata.normalize('NFD', s) if unicodedata.category(c) != 'Mn')\n",
    "#     stop_words = set(spanish_stopwords)\n",
    "#     words = [strip_accents(w) for w in words if not w in stop_words]\n",
    "\n",
    "#     # return u\" \".join(words)\n",
    "    \n",
    "#     stemmer = SnowballStemmer(\"spanish\")\n",
    "#     out = \"\"\n",
    "#     for word in words:\n",
    "#         out += stemmer.stem(word)+\" \"\n",
    "    \n",
    "#     return out\n",
    "    \n",
    "\n",
    "spanish_stopwords = stopwords.words('spanish')\n",
    "def normalize_text(text):\n",
    "    return u\" \".join([x for x in [y for y in text.lower().strip().split(\" \")] \n",
    "                      if len(x) > 1 and x not in spanish_stopwords])"
   ]
  },
  {
   "cell_type": "code",
   "execution_count": 7,
   "metadata": {},
   "outputs": [],
   "source": [
    "# true calcula features, false carga si ya estan calculadas\n",
    "calc_tfid = False\n",
    "\n",
    "features_path = features_path + \"tfid_hash28_n1000.p\"\n",
    "\n",
    "if calc_tfid :\n",
    "    start = time.time()\n",
    "    print(\"start\")\n",
    "\n",
    "\n",
    "    X_untransformed = X_untransformed\n",
    "    n_docs = X_untransformed.shape[0]\n",
    "    n_cpu = 20\n",
    "\n",
    "    batch_size = int(n_docs/n_cpu)\n",
    "\n",
    "    #'log', \"idf\":50.0\n",
    "    \n",
    "    wb = wordbatch.WordBatch(normalize_text, \n",
    "                             extractor=(WordBag, {\"hash_ngrams\": 1, \"hash_ngrams_weights\": [1.0, 1.0],\n",
    "                                                  \"hash_size\": 2**28, \"norm\": \"l2\", \"tf\": 1.0,\n",
    "                                                  \"idf\": 1.0}), procs=n_cpu, n_words=1000, minibatch_size=batch_size)\n",
    "\n",
    "#     wb = wordbatch.WordBatch(normalize_text, \n",
    "#                              extractor=(WordBag, {\"hash_ngrams\": 2, \"hash_ngrams_weights\": [-1.0, -1.0],\n",
    "#                                                   \"hash_size\": 2**22, \"norm\": \"l2\", \"tf\": 1.0,\n",
    "#                                                   \"idf\": 1.0}), procs=n_cpu, n_words=10000, minibatch_size=batch_size)\n",
    "    \n",
    "    \n",
    "    \n",
    "    wb.dictionary_freeze = True\n",
    "    word_comment = wb.fit_transform(list(X_untransformed),reset= False)\n",
    "    # revisar esta normalizacion\n",
    "    X_transformed = word_comment[:, np.array(np.clip(word_comment.getnnz(axis=0) - 1, 0, 1), dtype = bool)]\n",
    "\n",
    "    end = time.time()\n",
    "    print(\"TFIDF end time :\" + str(end - start) )\n",
    "\n",
    "    X = X_transformed\n",
    "\n",
    "    #X = X.todense()\n",
    "    print('Number of features: {}'.format(X.shape[1]))\n",
    "\n",
    "    pickle.dump( X, open( features_path, \"wb\" ) )\n",
    "else:    \n",
    "    X = pickle.load( open( features_path, \"rb\" ) )"
   ]
  },
  {
   "cell_type": "markdown",
   "metadata": {},
   "source": [
    "### filter clases"
   ]
  },
  {
   "cell_type": "code",
   "execution_count": 8,
   "metadata": {},
   "outputs": [],
   "source": [
    "y = y_untransformed.values\n",
    "labels = list(set(y))\n",
    "umbral = 100\n",
    "sizes = [ [label,y[y== label].shape[0]] for label in labels ]\n",
    "filter_sizes = list(filter(lambda x:x[1]>umbral ,sizes ))\n",
    "names_clases = set( map(lambda x:x[0], filter_sizes ) )\n",
    "\n",
    "index = list(map(lambda x: {x}.issubset(names_clases), y ))\n",
    "\n",
    "y = y[index]\n",
    "X = X[np.nonzero(index)]\n"
   ]
  },
  {
   "cell_type": "markdown",
   "metadata": {},
   "source": [
    "### Output"
   ]
  },
  {
   "cell_type": "code",
   "execution_count": 9,
   "metadata": {},
   "outputs": [],
   "source": [
    "np.random.seed(42)\n",
    "\n",
    "train_fraction = 0.8\n",
    "\n",
    "train_indices = np.random.choice(X.shape[0], round(train_fraction*X.shape[0]), replace=False)\n",
    "test_indices = np.array(list(set(range(X.shape[0])) - set(train_indices)))\n",
    "\n",
    "X_train = X[train_indices]\n",
    "y_train = y[train_indices]\n",
    "X_test = X[test_indices]\n",
    "y_test = y[test_indices]"
   ]
  },
  {
   "cell_type": "code",
   "execution_count": null,
   "metadata": {},
   "outputs": [],
   "source": []
  },
  {
   "cell_type": "code",
   "execution_count": 29,
   "metadata": {},
   "outputs": [],
   "source": [
    "labels = list(set(y))\n",
    "labels.sort()\n",
    "nClasses = len(labels)\n",
    "\n",
    "sizes = {label: y_train[y_train == label].shape[0] for label in labels}\n",
    "weights = np.asarray([float(len(y_train))/(sizes[label]*nClasses) for label in y]) #n_samples / (n_classes * np.bincount(y))\n",
    "weights = np.power(weights,3) # 1.4\n",
    "\n",
    "# #lerko\n",
    "# scale_factor = 10e3\n",
    "# sizes = {label: y_train[y_train == label].shape[0] for label in labels}\n",
    "# weights = np.asarray([scale_factor/sizes[label] for label in y])\n",
    "\n",
    "weights_train = weights[train_indices]\n",
    "weights_test = weights[test_indices]\n"
   ]
  },
  {
   "cell_type": "code",
   "execution_count": 11,
   "metadata": {},
   "outputs": [
    {
     "data": {
      "text/plain": [
       "{0.028118532318818334,\n",
       " 0.029984782878777174,\n",
       " 0.7864775946580234,\n",
       " 1.0540851122731871,\n",
       " 91.79533267638075,\n",
       " 232.61878017312176,\n",
       " 287.3771058677976,\n",
       " 5400.325439815967}"
      ]
     },
     "execution_count": 11,
     "metadata": {},
     "output_type": "execute_result"
    }
   ],
   "source": [
    "weights = np.power(weights,2)\n",
    "set(weights)"
   ]
  },
  {
   "cell_type": "code",
   "execution_count": 12,
   "metadata": {},
   "outputs": [],
   "source": [
    "labels\n",
    "\n",
    "y_train_new = []\n",
    "for yTmp in y_train:\n",
    "    for idx, label in enumerate(labels):\n",
    "        if yTmp==label: \n",
    "            y_train_new.append(idx)\n",
    "            \n",
    "y_test_new = []\n",
    "for yTmp in y_test:\n",
    "    for idx, label in enumerate(labels):\n",
    "        if yTmp==label: \n",
    "            y_test_new.append(idx)            \n"
   ]
  },
  {
   "cell_type": "code",
   "execution_count": null,
   "metadata": {},
   "outputs": [],
   "source": []
  },
  {
   "cell_type": "markdown",
   "metadata": {},
   "source": [
    "# Model\n",
    "\n"
   ]
  },
  {
   "cell_type": "code",
   "execution_count": 13,
   "metadata": {},
   "outputs": [],
   "source": [
    "# create dataset for lightgbm\n",
    "lgb_train = lgb.Dataset(X_train, y_train_new, weight= weights_train)\n",
    "#lgb_train = lgb.Dataset(X_train, y_train_new)\n",
    "lgb_eval = lgb.Dataset(X_test, y_test_new, reference=lgb_train)\n"
   ]
  },
  {
   "cell_type": "code",
   "execution_count": 27,
   "metadata": {},
   "outputs": [
    {
     "name": "stdout",
     "output_type": "stream",
     "text": [
      "Start training...\n",
      "[1]\tvalid_0's multi_logloss: 1.67276\n",
      "Training until validation scores don't improve for 6 rounds.\n",
      "[2]\tvalid_0's multi_logloss: 1.55909\n",
      "[3]\tvalid_0's multi_logloss: 1.48669\n",
      "[4]\tvalid_0's multi_logloss: 1.43985\n",
      "[5]\tvalid_0's multi_logloss: 1.40693\n",
      "[6]\tvalid_0's multi_logloss: 1.37731\n",
      "[7]\tvalid_0's multi_logloss: 1.35115\n",
      "[8]\tvalid_0's multi_logloss: 1.32051\n",
      "[9]\tvalid_0's multi_logloss: 1.29681\n",
      "[10]\tvalid_0's multi_logloss: 1.26752\n",
      "[11]\tvalid_0's multi_logloss: 1.24063\n",
      "[12]\tvalid_0's multi_logloss: 1.21586\n",
      "[13]\tvalid_0's multi_logloss: 1.18445\n",
      "[14]\tvalid_0's multi_logloss: 1.15685\n",
      "[15]\tvalid_0's multi_logloss: 1.13087\n",
      "[16]\tvalid_0's multi_logloss: 1.10518\n",
      "[17]\tvalid_0's multi_logloss: 1.08136\n",
      "[18]\tvalid_0's multi_logloss: 1.05836\n",
      "[19]\tvalid_0's multi_logloss: 1.03571\n",
      "[20]\tvalid_0's multi_logloss: 1.0151\n",
      "[21]\tvalid_0's multi_logloss: 0.99531\n",
      "[22]\tvalid_0's multi_logloss: 0.978661\n",
      "[23]\tvalid_0's multi_logloss: 0.96221\n",
      "[24]\tvalid_0's multi_logloss: 0.946397\n",
      "[25]\tvalid_0's multi_logloss: 0.93041\n",
      "[26]\tvalid_0's multi_logloss: 0.916553\n",
      "[27]\tvalid_0's multi_logloss: 0.90392\n",
      "[28]\tvalid_0's multi_logloss: 0.89\n",
      "[29]\tvalid_0's multi_logloss: 0.884681\n",
      "[30]\tvalid_0's multi_logloss: 0.867747\n",
      "[31]\tvalid_0's multi_logloss: 0.857529\n",
      "[32]\tvalid_0's multi_logloss: 0.846761\n",
      "[33]\tvalid_0's multi_logloss: 0.837736\n",
      "[34]\tvalid_0's multi_logloss: 0.828446\n",
      "[35]\tvalid_0's multi_logloss: 0.820371\n",
      "[36]\tvalid_0's multi_logloss: 0.810546\n",
      "[37]\tvalid_0's multi_logloss: 0.801615\n",
      "[38]\tvalid_0's multi_logloss: 0.799513\n",
      "[39]\tvalid_0's multi_logloss: 0.787883\n",
      "[40]\tvalid_0's multi_logloss: 0.780575\n",
      "[41]\tvalid_0's multi_logloss: 0.77605\n",
      "[42]\tvalid_0's multi_logloss: 0.76789\n",
      "[43]\tvalid_0's multi_logloss: 0.761084\n",
      "[44]\tvalid_0's multi_logloss: 0.755047\n",
      "[45]\tvalid_0's multi_logloss: 0.749209\n",
      "[46]\tvalid_0's multi_logloss: 0.746603\n",
      "[47]\tvalid_0's multi_logloss: 0.73742\n",
      "[48]\tvalid_0's multi_logloss: 0.732047\n",
      "[49]\tvalid_0's multi_logloss: 0.727082\n",
      "[50]\tvalid_0's multi_logloss: 0.723359\n",
      "[51]\tvalid_0's multi_logloss: 0.717896\n",
      "[52]\tvalid_0's multi_logloss: 0.720272\n",
      "[53]\tvalid_0's multi_logloss: 0.719667\n",
      "[54]\tvalid_0's multi_logloss: 0.717573\n",
      "[55]\tvalid_0's multi_logloss: 0.702177\n",
      "[56]\tvalid_0's multi_logloss: 0.703153\n",
      "[57]\tvalid_0's multi_logloss: 0.70279\n",
      "[58]\tvalid_0's multi_logloss: 0.694154\n",
      "[59]\tvalid_0's multi_logloss: 0.689188\n",
      "[60]\tvalid_0's multi_logloss: 0.685856\n",
      "[61]\tvalid_0's multi_logloss: 0.682178\n",
      "[62]\tvalid_0's multi_logloss: 0.681127\n",
      "[63]\tvalid_0's multi_logloss: 0.686207\n",
      "[64]\tvalid_0's multi_logloss: 0.711061\n",
      "[65]\tvalid_0's multi_logloss: 0.704948\n",
      "[66]\tvalid_0's multi_logloss: 0.684911\n",
      "[67]\tvalid_0's multi_logloss: 0.699517\n",
      "[68]\tvalid_0's multi_logloss: 0.685448\n",
      "Early stopping, best iteration is:\n",
      "[62]\tvalid_0's multi_logloss: 0.681127\n",
      "training time :103.62904357910156\n"
     ]
    }
   ],
   "source": [
    "# specify your configurations as a dict\n",
    "# params = {\n",
    "#     'task': 'train',\n",
    "#     'boosting_type': 'gbdt',\n",
    "#     'objective': 'multiclass',\n",
    "#     'num_class':nClasses,\n",
    "#     'metric' : \"multi_logloss\",\n",
    "#     'num_leaves': 31,\n",
    "#     'learning_rate': 0.05,\n",
    "#     'feature_fraction': 0.9,\n",
    "#     'bagging_fraction': 0.8,\n",
    "#     'bagging_freq': 5,\n",
    "#     'verbose': 1,\n",
    "#     #'\n",
    "# }\n",
    "\n",
    "# leave 31 def\n",
    "params = {'task': 'train',\n",
    "    'boosting_type': 'gbdt',\n",
    "    'objective': 'multiclass',\n",
    "    'num_class':nClasses,\n",
    "    'metric': 'multi_logloss',\n",
    "    'learning_rate': 0.4,#0.4\n",
    "    'min_data_in_leaf':60, #60 ,50     \n",
    "    'max_depth':-1,\n",
    "    'num_leaves': 71,#31 , 71\n",
    "    'feature_fraction': 1.0,\n",
    "    'bagging_fraction': 1.0,\n",
    "    'bagging_freq': -1,\n",
    "    'verbose': 1,    \n",
    "    'num_threads':20}\n",
    "\n",
    "start = time.time()\n",
    "print('Start training...')\n",
    "# train\n",
    "gbm = lgb.train(params,\n",
    "                lgb_train,\n",
    "                num_boost_round=200,\n",
    "                valid_sets=lgb_eval,\n",
    "                early_stopping_rounds=6,\n",
    "                )\n",
    "\n",
    "end = time.time()\n",
    "print(\"training time :\" + str(end - start) )"
   ]
  },
  {
   "cell_type": "markdown",
   "metadata": {},
   "source": [
    "# performance\n"
   ]
  },
  {
   "cell_type": "code",
   "execution_count": 24,
   "metadata": {},
   "outputs": [
    {
     "name": "stderr",
     "output_type": "stream",
     "text": [
      "/root/anaconda3/lib/python3.6/site-packages/matplotlib/cbook/deprecation.py:107: MatplotlibDeprecationWarning: Passing one of 'on', 'true', 'off', 'false' as a boolean is deprecated; use an actual boolean (True/False) instead.\n",
      "  warnings.warn(message, mplDeprecation, stacklevel=1)\n"
     ]
    },
    {
     "data": {
      "image/png": "[encoded data removed]",
      "text/plain": [
       "<Figure size 432x288 with 2 Axes>"
      ]
     },
     "metadata": {},
     "output_type": "display_data"
    },
    {
     "data": {
      "text/markdown": [
       "## Accuracy in test: 74.33632024118583 "
      ],
      "text/plain": [
       "<IPython.core.display.Markdown object>"
      ]
     },
     "metadata": {},
     "output_type": "display_data"
    }
   ],
   "source": [
    "preds =  gbm.predict(X_test)\n",
    "predictions = []\n",
    "for x in preds:\n",
    "    predictions.append(np.argmax(x))\n",
    "    \n",
    "y_test_hat = predictions\n",
    "\n",
    "\n",
    "skplt.metrics.plot_confusion_matrix(y_test_new, y_test_hat,normalize=True)\n",
    "plt.xticks(rotation=45)\n",
    "plt.show()\n",
    "\n",
    "acc = accuracy_score(y_true=y_test_new, y_pred=y_test_hat)\n",
    "\n",
    "#print('Accuracy in test: {}'.format(acc))\n",
    "display(Markdown('## Accuracy in test: {} '.format(acc*100)))"
   ]
  },
  {
   "cell_type": "code",
   "execution_count": 28,
   "metadata": {},
   "outputs": [
    {
     "name": "stderr",
     "output_type": "stream",
     "text": [
      "/root/anaconda3/lib/python3.6/site-packages/matplotlib/cbook/deprecation.py:107: MatplotlibDeprecationWarning: Passing one of 'on', 'true', 'off', 'false' as a boolean is deprecated; use an actual boolean (True/False) instead.\n",
      "  warnings.warn(message, mplDeprecation, stacklevel=1)\n"
     ]
    },
    {
     "data": {
      "image/png": "[encoded data removed]",
      "text/plain": [
       "<Figure size 432x288 with 2 Axes>"
      ]
     },
     "metadata": {},
     "output_type": "display_data"
    },
    {
     "data": {
      "text/markdown": [
       "## Accuracy in test: 77.02872456243196 "
      ],
      "text/plain": [
       "<IPython.core.display.Markdown object>"
      ]
     },
     "metadata": {},
     "output_type": "display_data"
    }
   ],
   "source": [
    "preds =  gbm.predict(X_test)\n",
    "predictions = []\n",
    "for x in preds:\n",
    "    predictions.append(np.argmax(x))\n",
    "    \n",
    "y_test_hat = predictions\n",
    "\n",
    "\n",
    "skplt.metrics.plot_confusion_matrix(y_test_new, y_test_hat,normalize=True)\n",
    "plt.xticks(rotation=45)\n",
    "plt.show()\n",
    "\n",
    "acc = accuracy_score(y_true=y_test_new, y_pred=y_test_hat)\n",
    "\n",
    "#print('Accuracy in test: {}'.format(acc))\n",
    "display(Markdown('## Accuracy in test: {} '.format(acc*100)))"
   ]
  },
  {
   "cell_type": "code",
   "execution_count": null,
   "metadata": {},
   "outputs": [],
   "source": []
  }
 ],
 "metadata": {
  "kernelspec": {
   "display_name": "Python 3",
   "language": "python",
   "name": "python3"
  },
  "language_info": {
   "codemirror_mode": {
    "name": "ipython",
    "version": 3
   },
   "file_extension": ".py",
   "mimetype": "text/x-python",
   "name": "python",
   "nbconvert_exporter": "python",
   "pygments_lexer": "ipython3",
   "version": "3.6.5"
  },
  "widgets": {
   "application/vnd.jupyter.widget-state+json": {
    "state": {},
    "version_major": 2,
    "version_minor": 0
   }
  }
 },
 "nbformat": 4,
 "nbformat_minor": 2
}

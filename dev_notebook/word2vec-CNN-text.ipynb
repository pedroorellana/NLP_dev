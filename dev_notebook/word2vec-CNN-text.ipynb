{
 "cells": [
  {
   "cell_type": "code",
   "execution_count": null,
   "metadata": {},
   "outputs": [],
   "source": []
  },
  {
   "cell_type": "code",
   "execution_count": 1,
   "metadata": {},
   "outputs": [
    {
     "name": "stdout",
     "output_type": "stream",
     "text": [
      "[nltk_data] Downloading package stopwords to /root/nltk_data...\n",
      "[nltk_data]   Package stopwords is already up-to-date!\n",
      "[nltk_data] Downloading package punkt to /root/nltk_data...\n",
      "[nltk_data]   Package punkt is already up-to-date!\n"
     ]
    },
    {
     "name": "stderr",
     "output_type": "stream",
     "text": [
      "/root/anaconda3/envs/tensorflow_cpu/lib/python3.5/site-packages/h5py/__init__.py:36: FutureWarning: Conversion of the second argument of issubdtype from `float` to `np.floating` is deprecated. In future, it will be treated as `np.float64 == np.dtype(float).type`.\n",
      "  from ._conv import register_converters as _register_converters\n",
      "Using TensorFlow backend.\n"
     ]
    }
   ],
   "source": [
    "1000# Utils\n",
    "import os, sys, re, time, gc, types, string, warnings, inspect,  unicodedata, unidecode\n",
    "\n",
    "#import tensorflow as tf\n",
    "import pandas as pd\n",
    "import matplotlib.pyplot as plt\n",
    "\n",
    "import numpy as np\n",
    "import time\n",
    "import pickle\n",
    "import re, sys\n",
    "\n",
    "from sklearn.metrics import accuracy_score\n",
    "from IPython.display import display, Markdown, Latex\n",
    "\n",
    "import shutil\n",
    "import os\n",
    "\n",
    "# Representation\n",
    "import nltk\n",
    "from nltk.corpus import stopwords\n",
    "from sklearn.decomposition import TruncatedSVD\n",
    "\n",
    "\n",
    "#plt.style.use('fivethirtyeight')\n",
    "from nltk.stem.snowball import SnowballStemmer\n",
    "\n",
    "#Carga stop word\n",
    "nltk.download('stopwords')\n",
    "spanish_stopwords = nltk.corpus.stopwords.words('spanish')\n",
    "\n",
    "# punkt:  módulo contiene modelos para la tokenización de textos\n",
    "nltk.download('punkt')\n",
    "\n",
    "from keras.preprocessing.text import Tokenizer\n",
    "from keras.preprocessing.sequence import pad_sequences\n",
    "from keras.utils import to_categorical"
   ]
  },
  {
   "cell_type": "markdown",
   "metadata": {},
   "source": [
    "# Parameters"
   ]
  },
  {
   "cell_type": "code",
   "execution_count": 2,
   "metadata": {},
   "outputs": [],
   "source": [
    "root_path = \"../\"\n",
    "path_data_clean = root_path + \"data/clean/\"\n",
    "path_model = root_path + 'models/'\n",
    "features_path = root_path + 'data/features/'\n",
    "model_name = \"tfidf10000_svd1000\"\n",
    "path_model += model_name\n",
    "\n",
    "delete_old_model = True\n",
    "if delete_old_model:\n",
    "    try:\n",
    "        os.system(\"rm -rf \"+path_model)\n",
    "        os.system(\"mkdir \"+path_model)\n",
    "    except:\n",
    "        print(\"error\")"
   ]
  },
  {
   "cell_type": "markdown",
   "metadata": {},
   "source": [
    "# Load Data"
   ]
  },
  {
   "cell_type": "markdown",
   "metadata": {},
   "source": [
    "falta agregar data v2 y beatiful soup para limpiar html en data 2"
   ]
  },
  {
   "cell_type": "code",
   "execution_count": 3,
   "metadata": {},
   "outputs": [],
   "source": [
    "dfNoticias = pd.read_pickle(path_data_clean + \"/dfNoticiasCleanV2.p\")\n"
   ]
  },
  {
   "cell_type": "code",
   "execution_count": 4,
   "metadata": {},
   "outputs": [
    {
     "data": {
      "text/html": [
       "<div>\n",
       "<style scoped>\n",
       "    .dataframe tbody tr th:only-of-type {\n",
       "        vertical-align: middle;\n",
       "    }\n",
       "\n",
       "    .dataframe tbody tr th {\n",
       "        vertical-align: top;\n",
       "    }\n",
       "\n",
       "    .dataframe thead th {\n",
       "        text-align: right;\n",
       "    }\n",
       "</style>\n",
       "<table border=\"1\" class=\"dataframe\">\n",
       "  <thead>\n",
       "    <tr style=\"text-align: right;\">\n",
       "      <th></th>\n",
       "      <th>Cuerpo</th>\n",
       "      <th>Fecha</th>\n",
       "      <th>Hora</th>\n",
       "      <th>ID</th>\n",
       "      <th>Resumen</th>\n",
       "      <th>Seccion_1</th>\n",
       "      <th>Seccion_2</th>\n",
       "      <th>Seccion_3</th>\n",
       "      <th>Subtema_1</th>\n",
       "      <th>Subtema_2</th>\n",
       "      <th>Subtema_3</th>\n",
       "      <th>Tema_1</th>\n",
       "      <th>Tema_2</th>\n",
       "      <th>Tema_3</th>\n",
       "      <th>Titular</th>\n",
       "      <th>Type</th>\n",
       "    </tr>\n",
       "  </thead>\n",
       "  <tbody>\n",
       "    <tr>\n",
       "      <th>0</th>\n",
       "      <td>\\nLa presidenta argentina, Cristina Fernández,...</td>\n",
       "      <td>2013-11-20</td>\n",
       "      <td>21:37</td>\n",
       "      <td>20131120214139</td>\n",
       "      <td>\\nEste fue el primer acto público de la mandat...</td>\n",
       "      <td>mundo</td>\n",
       "      <td>None</td>\n",
       "      <td>None</td>\n",
       "      <td>None</td>\n",
       "      <td>None</td>\n",
       "      <td>None</td>\n",
       "      <td>argentina</td>\n",
       "      <td>None</td>\n",
       "      <td>None</td>\n",
       "      <td>\\nPresidenta argentina tomó juramento a tres n...</td>\n",
       "      <td>fid_noticia</td>\n",
       "    </tr>\n",
       "    <tr>\n",
       "      <th>1</th>\n",
       "      <td>\\nPor problemas de agenda de la jueza del Trib...</td>\n",
       "      <td>2013-11-20</td>\n",
       "      <td>17:09</td>\n",
       "      <td>20131120164254</td>\n",
       "      <td>\\nAudiencia se realizará el próximo lunes 2 de...</td>\n",
       "      <td>pais</td>\n",
       "      <td>None</td>\n",
       "      <td>None</td>\n",
       "      <td>None</td>\n",
       "      <td>None</td>\n",
       "      <td>None</td>\n",
       "      <td>region de la araucania</td>\n",
       "      <td>None</td>\n",
       "      <td>None</td>\n",
       "      <td>\\nNuevamente se postergó preparación del juici...</td>\n",
       "      <td>fid_noticia</td>\n",
       "    </tr>\n",
       "    <tr>\n",
       "      <th>2</th>\n",
       "      <td>\\nEl presidente uruguayo, José Mujica, sufre u...</td>\n",
       "      <td>2013-11-20</td>\n",
       "      <td>12:45</td>\n",
       "      <td>20131120124736</td>\n",
       "      <td>\\nPresidente uruguayo está afectado por un \"es...</td>\n",
       "      <td>mundo</td>\n",
       "      <td>None</td>\n",
       "      <td>None</td>\n",
       "      <td>None</td>\n",
       "      <td>None</td>\n",
       "      <td>None</td>\n",
       "      <td>uruguay</td>\n",
       "      <td>None</td>\n",
       "      <td>None</td>\n",
       "      <td>\\nResfrío que afecta a José Mujica obligó a su...</td>\n",
       "      <td>fid_noticia</td>\n",
       "    </tr>\n",
       "    <tr>\n",
       "      <th>4</th>\n",
       "      <td>\\nEl Reino Unido considera que el Ejecutivo es...</td>\n",
       "      <td>2013-11-20</td>\n",
       "      <td>11:43</td>\n",
       "      <td>20131120114123</td>\n",
       "      <td>\\nGobierno hispano ha ejercido medidas de pres...</td>\n",
       "      <td>mundo</td>\n",
       "      <td>None</td>\n",
       "      <td>None</td>\n",
       "      <td>None</td>\n",
       "      <td>None</td>\n",
       "      <td>None</td>\n",
       "      <td>europa</td>\n",
       "      <td>None</td>\n",
       "      <td>None</td>\n",
       "      <td>\\nReino Unido arremete contra España ante incu...</td>\n",
       "      <td>fid_noticia</td>\n",
       "    </tr>\n",
       "    <tr>\n",
       "      <th>5</th>\n",
       "      <td>\\nFuncionarios municipales de Santiago y otras...</td>\n",
       "      <td>2013-11-20</td>\n",
       "      <td>12:44</td>\n",
       "      <td>20131120124031</td>\n",
       "      <td>\\nUfemuch desconoce acuerdo con el Gobierno pa...</td>\n",
       "      <td>pais</td>\n",
       "      <td>None</td>\n",
       "      <td>None</td>\n",
       "      <td>gremios</td>\n",
       "      <td>None</td>\n",
       "      <td>None</td>\n",
       "      <td>trabajo</td>\n",
       "      <td>None</td>\n",
       "      <td>None</td>\n",
       "      <td>\\nFuncionarios municipales de Santiago siguen ...</td>\n",
       "      <td>fid_noticia</td>\n",
       "    </tr>\n",
       "  </tbody>\n",
       "</table>\n",
       "</div>"
      ],
      "text/plain": [
       "                                              Cuerpo       Fecha   Hora  \\\n",
       "0  \\nLa presidenta argentina, Cristina Fernández,...  2013-11-20  21:37   \n",
       "1  \\nPor problemas de agenda de la jueza del Trib...  2013-11-20  17:09   \n",
       "2  \\nEl presidente uruguayo, José Mujica, sufre u...  2013-11-20  12:45   \n",
       "4  \\nEl Reino Unido considera que el Ejecutivo es...  2013-11-20  11:43   \n",
       "5  \\nFuncionarios municipales de Santiago y otras...  2013-11-20  12:44   \n",
       "\n",
       "               ID                                            Resumen  \\\n",
       "0  20131120214139  \\nEste fue el primer acto público de la mandat...   \n",
       "1  20131120164254  \\nAudiencia se realizará el próximo lunes 2 de...   \n",
       "2  20131120124736  \\nPresidente uruguayo está afectado por un \"es...   \n",
       "4  20131120114123  \\nGobierno hispano ha ejercido medidas de pres...   \n",
       "5  20131120124031  \\nUfemuch desconoce acuerdo con el Gobierno pa...   \n",
       "\n",
       "  Seccion_1 Seccion_2 Seccion_3 Subtema_1 Subtema_2 Subtema_3  \\\n",
       "0     mundo      None      None      None      None      None   \n",
       "1      pais      None      None      None      None      None   \n",
       "2     mundo      None      None      None      None      None   \n",
       "4     mundo      None      None      None      None      None   \n",
       "5      pais      None      None   gremios      None      None   \n",
       "\n",
       "                   Tema_1 Tema_2 Tema_3  \\\n",
       "0               argentina   None   None   \n",
       "1  region de la araucania   None   None   \n",
       "2                 uruguay   None   None   \n",
       "4                  europa   None   None   \n",
       "5                 trabajo   None   None   \n",
       "\n",
       "                                             Titular         Type  \n",
       "0  \\nPresidenta argentina tomó juramento a tres n...  fid_noticia  \n",
       "1  \\nNuevamente se postergó preparación del juici...  fid_noticia  \n",
       "2  \\nResfrío que afecta a José Mujica obligó a su...  fid_noticia  \n",
       "4  \\nReino Unido arremete contra España ante incu...  fid_noticia  \n",
       "5  \\nFuncionarios municipales de Santiago siguen ...  fid_noticia  "
      ]
     },
     "execution_count": 4,
     "metadata": {},
     "output_type": "execute_result"
    }
   ],
   "source": [
    "dfNoticias.head()"
   ]
  },
  {
   "cell_type": "markdown",
   "metadata": {},
   "source": [
    "# pre procesing\n",
    "\n"
   ]
  },
  {
   "cell_type": "code",
   "execution_count": 5,
   "metadata": {},
   "outputs": [],
   "source": [
    "_map = {}\n",
    "_map[\"Cuerpo\"] = []\n",
    "_map[\"Seccion\"] = []\n",
    "_map[\"Tema\"] = []\n",
    "_map[\"Subtema\"] = []\n",
    "\n",
    "count = 0\n",
    "for index, row in dfNoticias.iterrows():    \n",
    "    _map[\"Cuerpo\"].append(row[\"Cuerpo\"]) \n",
    "    _map[\"Seccion\"].append(row[\"Seccion_1\"])\n",
    "    _map[\"Tema\"].append(row[\"Tema_1\"])\n",
    "    _map[\"Subtema\"].append(row[\"Subtema_1\"])\n",
    "\n",
    "df = pd.DataFrame(_map)\n",
    "# Elimino clase corporativo, muy pocos ejemplos\n",
    "df = df[df.Seccion != \"corporativo\"]\n",
    "\n",
    "    \n",
    "X_untransformed = df['Cuerpo'].reset_index(drop=True)\n",
    "y1 = df['Seccion'].reset_index(drop=True)\n",
    "y2 = df['Tema'].reset_index(drop=True)\n",
    "y3 = df['Subtema'].reset_index(drop=True)\n"
   ]
  },
  {
   "cell_type": "code",
   "execution_count": 6,
   "metadata": {},
   "outputs": [],
   "source": [
    "secciones=y1.unique()\n",
    "dic={}\n",
    "for i,seccion in enumerate(secciones):\n",
    "    dic[seccion]=i\n",
    "labels=y1.apply(lambda x:dic[x])"
   ]
  },
  {
   "cell_type": "markdown",
   "metadata": {},
   "source": [
    "# Pre Procesing"
   ]
  },
  {
   "cell_type": "code",
   "execution_count": 7,
   "metadata": {},
   "outputs": [],
   "source": [
    "\n",
    "def normalize_text(text):\n",
    "    \"\"\" Funcion de normalizacion \"\"\"    \n",
    "    # split into words\n",
    "    text = text.lower()\n",
    "    \n",
    "    tokens = nltk.tokenize.word_tokenize(text,language='spanish', preserve_line=False)\n",
    " \n",
    "    \n",
    "    # remove punctuation from each word\n",
    "    table = str.maketrans('', '', string.punctuation)\n",
    "    stripped = [w.translate(table) for w in tokens]\n",
    "    \n",
    "    # remove remaining tokens that are n<<<<<<<<<<<<<<<<<<<<<\n",
    "    words = [word for word in stripped if word.isalpha()]\n",
    "    \n",
    "    # stop word and remove accent\n",
    "    def strip_accents(s):\n",
    "        return ''.join(c for c in unicodedata.normalize('NFD', s) if unicodedata.category(c) != 'Mn')\n",
    "    stop_words = set(spanish_stopwords)\n",
    "    words = [strip_accents(w) for w in words if not w in stop_words]\n",
    "    #return words\n",
    "    return u\" \".join(words)\n",
    "   \n",
    "\n",
    "\n",
    "\n"
   ]
  },
  {
   "cell_type": "code",
   "execution_count": 8,
   "metadata": {},
   "outputs": [],
   "source": [
    "from joblib import Parallel, delayed\n",
    "import multiprocessing\n",
    "\n",
    "# what are your inputs, and what operation do you want to \n",
    "# perform on each input. For example...\n",
    "inputs = range(10) \n",
    "\n",
    "def processInput(i):\n",
    "    return i * i\n",
    " \n",
    "num_cores = multiprocessing.cpu_count()\n",
    "     \n",
    "results = Parallel(n_jobs=num_cores)(delayed(processInput)(i) for i in inputs)"
   ]
  },
  {
   "cell_type": "code",
   "execution_count": 9,
   "metadata": {},
   "outputs": [
    {
     "name": "stderr",
     "output_type": "stream",
     "text": [
      "[Parallel(n_jobs=12)]: Using backend LokyBackend with 12 concurrent workers.\n",
      "[Parallel(n_jobs=12)]: Done  26 tasks      | elapsed:    0.6s\n",
      "[Parallel(n_jobs=12)]: Done 7515 tasks      | elapsed:    2.8s\n",
      "[Parallel(n_jobs=12)]: Done 30015 tasks      | elapsed:    8.8s\n",
      "[Parallel(n_jobs=12)]: Done 61515 tasks      | elapsed:   17.0s\n",
      "[Parallel(n_jobs=12)]: Done 102015 tasks      | elapsed:   27.6s\n",
      "[Parallel(n_jobs=12)]: Done 151515 tasks      | elapsed:   40.5s\n",
      "[Parallel(n_jobs=12)]: Done 210015 tasks      | elapsed:   55.8s\n",
      "[Parallel(n_jobs=12)]: Done 277515 tasks      | elapsed:  1.2min\n",
      "[Parallel(n_jobs=12)]: Done 351554 out of 351554 | elapsed:  1.5min finished\n"
     ]
    }
   ],
   "source": [
    "type(df)\n",
    "\n",
    "results = Parallel(n_jobs=num_cores, verbose = 1)(delayed(normalize_text)(i) for i in X_untransformed)\n",
    "texts = pd.Series(results)"
   ]
  },
  {
   "cell_type": "code",
   "execution_count": null,
   "metadata": {},
   "outputs": [],
   "source": [
    "# from gensim.test.utils import common_texts, get_tmpfile\n",
    "# from gensim.models import Word2Vec\n",
    "# import gensim\n",
    "\n",
    "\n",
    "# path = get_tmpfile(\"/opt/NLP_dev/models/word2vec/sbw_vectors.bin\")\n",
    "# word2vec_model = gensim.models.KeyedVectors.load_word2vec_format(path, binary=True)"
   ]
  },
  {
   "cell_type": "markdown",
   "metadata": {},
   "source": [
    "# data split"
   ]
  },
  {
   "cell_type": "code",
   "execution_count": 11,
   "metadata": {},
   "outputs": [],
   "source": [
    "\n",
    "texts_ = texts.iloc[0:12000]\n",
    "\n",
    "X_train0 = texts.iloc[0:10000]\n",
    "y_train0 = labels.iloc[0:10000]\n",
    "\n",
    "X_test0 = texts.iloc[10000:12000]\n",
    "y_test0 = labels.iloc[10000:12000]\n"
   ]
  },
  {
   "cell_type": "markdown",
   "metadata": {},
   "source": [
    "### Tokenize text of the training data with keras text preprocessing functions ###"
   ]
  },
  {
   "cell_type": "code",
   "execution_count": 12,
   "metadata": {},
   "outputs": [
    {
     "name": "stdout",
     "output_type": "stream",
     "text": [
      "Found 81940 unique tokens.\n"
     ]
    }
   ],
   "source": [
    "NUM_WORDS=20000\n",
    "tokenizer = Tokenizer(num_words=NUM_WORDS,filters='!\"#$%&()*+,-./:;<=>?@[\\\\]^_`{|}~\\t\\n\\'',\n",
    "                      lower=True)\n",
    "\n",
    "tokenizer.fit_on_texts(texts_)\n",
    "\n",
    "sequences_train = tokenizer.texts_to_sequences(X_train0)\n",
    "sequences_valid=tokenizer.texts_to_sequences(X_test0)\n",
    "word_index = tokenizer.word_index\n",
    "print('Found %s unique tokens.' % len(word_index))"
   ]
  },
  {
   "cell_type": "code",
   "execution_count": 13,
   "metadata": {},
   "outputs": [
    {
     "name": "stdout",
     "output_type": "stream",
     "text": [
      "Shape of X train and X validation tensor: (10000, 1317) (2000, 1317)\n",
      "Shape of label train and validation tensor: (10000, 8) (2000, 8)\n"
     ]
    }
   ],
   "source": [
    "X_train = pad_sequences(sequences_train)\n",
    "X_val = pad_sequences(sequences_valid,maxlen=X_train.shape[1])\n",
    "y_train = to_categorical(y_train0)\n",
    "y_val = to_categorical(y_test0)\n",
    "print('Shape of X train and X validation tensor:', X_train.shape,X_val.shape)\n",
    "print('Shape of label train and validation tensor:', y_train.shape,y_val.shape)\n"
   ]
  },
  {
   "cell_type": "markdown",
   "metadata": {},
   "source": [
    "### word embedding ###"
   ]
  },
  {
   "cell_type": "code",
   "execution_count": 14,
   "metadata": {},
   "outputs": [],
   "source": [
    "import gensim\n",
    "from gensim.models import Word2Vec\n",
    "from gensim.utils import simple_preprocess\n",
    "\n",
    "#from gensim.models.keyedvectors import KeyedVectors\n",
    "\n",
    "#word_vectors = KeyedVectors.load_word2vec_format('../GoogleNews-vectors-negative300.bin', binary=True)\n",
    "\n",
    "word2vec_path = \"/opt/NLP_dev/models/word2vec/sbw_vectors.bin\"\n",
    "word_vectors = gensim.models.KeyedVectors.load_word2vec_format(word2vec_path, binary=True)\n",
    "\n",
    "EMBEDDING_DIM=300\n",
    "vocabulary_size=min(len(word_index)+1,NUM_WORDS)\n",
    "embedding_matrix = np.zeros((vocabulary_size, EMBEDDING_DIM))\n",
    "for word, i in word_index.items():\n",
    "    if i>=NUM_WORDS:\n",
    "        continue\n",
    "    try:\n",
    "        embedding_vector = word_vectors[word]\n",
    "        embedding_matrix[i] = embedding_vector\n",
    "    except KeyError:\n",
    "        embedding_matrix[i]=np.random.normal(0,np.sqrt(0.25),EMBEDDING_DIM)\n",
    "\n",
    "del(word_vectors)\n",
    "\n",
    "from keras.layers import Embedding\n",
    "embedding_layer = Embedding(vocabulary_size,\n",
    "                            EMBEDDING_DIM,\n",
    "                            weights=[embedding_matrix],\n",
    "                            trainable=True) # TRue?"
   ]
  },
  {
   "cell_type": "markdown",
   "metadata": {},
   "source": [
    "### Without pretrained data we can just initalize embedding matrixs as: ###"
   ]
  },
  {
   "cell_type": "code",
   "execution_count": 15,
   "metadata": {},
   "outputs": [],
   "source": [
    "from keras.layers import Embedding\n",
    "EMBEDDING_DIM=300\n",
    "vocabulary_size=min(len(word_index)+1,NUM_WORDS)\n",
    "\n",
    "embedding_layer = Embedding(vocabulary_size,\n",
    "                            EMBEDDING_DIM)"
   ]
  },
  {
   "cell_type": "markdown",
   "metadata": {},
   "source": [
    "# modelo"
   ]
  },
  {
   "cell_type": "code",
   "execution_count": 16,
   "metadata": {},
   "outputs": [],
   "source": [
    "from keras.layers import Dense, Input, GlobalMaxPooling1D\n",
    "from keras.layers import Conv1D, MaxPooling1D, Embedding\n",
    "from keras.models import Model\n",
    "from keras.layers import Input, Dense, Embedding, Conv2D, MaxPooling2D, Dropout,concatenate\n",
    "from keras.layers.core import Reshape, Flatten\n",
    "from keras.callbacks import EarlyStopping\n",
    "from keras.optimizers import Adam\n",
    "from keras.models import Model\n",
    "from keras import regularizers\n",
    "sequence_length = X_train.shape[1]\n",
    "filter_sizes = [3,4,5]\n",
    "num_filters = 100\n",
    "drop = 0.5\n",
    "\n",
    "\n",
    "\n",
    "inputs = Input(shape=(sequence_length,))\n",
    "embedding = embedding_layer(inputs)\n",
    "reshape = Reshape((sequence_length,EMBEDDING_DIM,1))(embedding)\n",
    "\n",
    "conv_0 = Conv2D(num_filters, (filter_sizes[0], EMBEDDING_DIM),activation='relu',kernel_regularizer=regularizers.l2(0.01))(reshape)\n",
    "conv_1 = Conv2D(num_filters, (filter_sizes[1], EMBEDDING_DIM),activation='relu',kernel_regularizer=regularizers.l2(0.01))(reshape)\n",
    "conv_2 = Conv2D(num_filters, (filter_sizes[2], EMBEDDING_DIM),activation='relu',kernel_regularizer=regularizers.l2(0.01))(reshape)\n",
    "\n",
    "maxpool_0 = MaxPooling2D((sequence_length - filter_sizes[0] + 1, 1), strides=(1,1))(conv_0)\n",
    "maxpool_1 = MaxPooling2D((sequence_length - filter_sizes[1] + 1, 1), strides=(1,1))(conv_1)\n",
    "maxpool_2 = MaxPooling2D((sequence_length - filter_sizes[2] + 1, 1), strides=(1,1))(conv_2)\n",
    "\n",
    "merged_tensor = concatenate([maxpool_0, maxpool_1, maxpool_2], axis=1)\n",
    "flatten = Flatten()(merged_tensor)\n",
    "reshape = Reshape((3*num_filters,))(flatten)\n",
    "dropout = Dropout(drop)(flatten)\n",
    "output = Dense(units=8, activation='softmax',kernel_regularizer=regularizers.l2(0.01))(dropout)\n",
    "\n",
    "# this creates a model that includes\n",
    "model = Model(inputs, output)"
   ]
  },
  {
   "cell_type": "code",
   "execution_count": 17,
   "metadata": {},
   "outputs": [
    {
     "name": "stdout",
     "output_type": "stream",
     "text": [
      "Train on 10000 samples, validate on 2000 samples\n",
      "Epoch 1/10\n",
      "10000/10000 [==============================] - 196s 20ms/step - loss: 1.8013 - acc: 0.4896 - val_loss: 1.4443 - val_acc: 0.6285\n",
      "Epoch 2/10\n",
      "10000/10000 [==============================] - 199s 20ms/step - loss: 1.2561 - acc: 0.6718 - val_loss: 1.1018 - val_acc: 0.7205\n",
      "Epoch 3/10\n",
      "10000/10000 [==============================] - 199s 20ms/step - loss: 0.9923 - acc: 0.7887 - val_loss: 0.9075 - val_acc: 0.8200\n",
      "Epoch 4/10\n",
      "10000/10000 [==============================] - 202s 20ms/step - loss: 0.8451 - acc: 0.8445 - val_loss: 0.8226 - val_acc: 0.8395\n",
      "Epoch 5/10\n",
      "10000/10000 [==============================] - 203s 20ms/step - loss: 0.7620 - acc: 0.8579 - val_loss: 0.7838 - val_acc: 0.8425\n",
      "Epoch 6/10\n",
      "10000/10000 [==============================] - 203s 20ms/step - loss: 0.7095 - acc: 0.8678 - val_loss: 0.7499 - val_acc: 0.8465\n",
      "Epoch 7/10\n",
      "10000/10000 [==============================] - 203s 20ms/step - loss: 0.6736 - acc: 0.8746 - val_loss: 0.7338 - val_acc: 0.8455\n",
      "Epoch 8/10\n",
      "10000/10000 [==============================] - 205s 21ms/step - loss: 0.6392 - acc: 0.8790 - val_loss: 0.7198 - val_acc: 0.8475\n",
      "Epoch 9/10\n",
      "10000/10000 [==============================] - 204s 20ms/step - loss: 0.6134 - acc: 0.8841 - val_loss: 0.7105 - val_acc: 0.8515\n",
      "Epoch 10/10\n",
      "10000/10000 [==============================] - 204s 20ms/step - loss: 0.5901 - acc: 0.8847 - val_loss: 0.7043 - val_acc: 0.8510\n"
     ]
    },
    {
     "data": {
      "text/plain": [
       "<keras.callbacks.History at 0x7f2addcd0080>"
      ]
     },
     "execution_count": 17,
     "metadata": {},
     "output_type": "execute_result"
    }
   ],
   "source": [
    "from keras.callbacks import TensorBoard\n",
    "import time\n",
    "\n",
    "tensorboard = TensorBoard(log_dir=\"logs/{}\")\n",
    "\n",
    "adam = Adam(lr=1e-3)\n",
    "\n",
    "model.compile(loss='categorical_crossentropy',\n",
    "              optimizer=adam,\n",
    "              metrics=['acc'])\n",
    "callbacks = [EarlyStopping(monitor='val_loss')]\n",
    "model.fit(X_train, y_train, batch_size=256, epochs=10, verbose=1, validation_data=(X_val, y_val),\n",
    "         callbacks=[EarlyStopping(monitor='val_loss'),tensorboard])  # starts training\n"
   ]
  },
  {
   "cell_type": "code",
   "execution_count": 18,
   "metadata": {},
   "outputs": [],
   "source": [
    "\n",
    "y_pred=model.predict(X_val)"
   ]
  },
  {
   "cell_type": "code",
   "execution_count": 20,
   "metadata": {},
   "outputs": [],
   "source": [
    "y_val_pred_hard = []\n",
    "\n",
    "\n",
    "for idx,val in enumerate(y_pred):\n",
    "    tmp = [0]*8\n",
    "    tmp[np.argmax(val)] = 1\n",
    "    y_val_pred_hard.append(tmp)    \n",
    "    \n",
    "\n",
    "y_true = []\n",
    "y_pred = []\n",
    "\n",
    "for idx,val in enumerate(y_val_pred_hard):\n",
    "    y_pred.append(np.argmax(val))\n",
    "\n",
    "for idx,val in enumerate(y_val):\n",
    "    y_true.append(np.argmax(val))    \n"
   ]
  },
  {
   "cell_type": "code",
   "execution_count": 21,
   "metadata": {},
   "outputs": [
    {
     "name": "stderr",
     "output_type": "stream",
     "text": [
      "/root/anaconda3/envs/tensorflow_cpu/lib/python3.5/site-packages/scikitplot/metrics.py:124: RuntimeWarning: invalid value encountered in true_divide\n",
      "  cm = cm.astype('float') / cm.sum(axis=1)[:, np.newaxis]\n"
     ]
    },
    {
     "data": {
      "image/png": "[encoded data removed]",
      "text/plain": [
       "<Figure size 432x288 with 2 Axes>"
      ]
     },
     "metadata": {},
     "output_type": "display_data"
    }
   ],
   "source": [
    "import scikitplot as skplt\n",
    "import matplotlib.pyplot as plt\n",
    "\n",
    "#acc = accuracy_score(y_true=y_val, y_pred=y_val_pred)\n",
    "\n",
    "skplt.metrics.plot_confusion_matrix(y_pred, y_true,normalize='True')\n",
    "plt.xticks(rotation=45)\n",
    "plt.show()"
   ]
  },
  {
   "cell_type": "code",
   "execution_count": null,
   "metadata": {},
   "outputs": [],
   "source": []
  }
 ],
 "metadata": {
  "kernelspec": {
   "display_name": "tensorflow_cpu",
   "language": "python",
   "name": "tensorflow_cpu"
  },
  "language_info": {
   "codemirror_mode": {
    "name": "ipython",
    "version": 3
   },
   "file_extension": ".py",
   "mimetype": "text/x-python",
   "name": "python",
   "nbconvert_exporter": "python",
   "pygments_lexer": "ipython3",
   "version": "3.5.5"
  },
  "widgets": {
   "application/vnd.jupyter.widget-state+json": {
    "state": {},
    "version_major": 2,
    "version_minor": 0
   }
  }
 },
 "nbformat": 4,
 "nbformat_minor": 2
}

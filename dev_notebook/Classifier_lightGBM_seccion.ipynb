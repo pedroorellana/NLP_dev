{
 "cells": [
  {
   "cell_type": "code",
   "execution_count": 1,
   "metadata": {},
   "outputs": [],
   "source": [
    "# Utils\n",
    "import os, sys, re, time, gc, types, string, unicodedata, unidecode, string, warnings, inspect\n",
    "\n",
    "import pandas as pd\n",
    "import matplotlib.pyplot as plt\n",
    "\n",
    "import numpy as np\n",
    "import time\n",
    "import pickle\n",
    "import re, sys, unidecode\n",
    "\n",
    "from sklearn.metrics import accuracy_score\n",
    "from IPython.display import display, Markdown, Latex\n",
    "\n",
    "import shutil\n",
    "import scikitplot as skplt\n",
    "\n",
    "# Representation\n",
    "\n",
    "#plt.style.use('fivethirtyeight')\n",
    "\n",
    "import lightgbm as lgb\n",
    "from sklearn.metrics import mean_squared_error"
   ]
  },
  {
   "cell_type": "markdown",
   "metadata": {},
   "source": [
    "# Parameters"
   ]
  },
  {
   "cell_type": "code",
   "execution_count": 2,
   "metadata": {},
   "outputs": [],
   "source": [
    "root_path = \"../\"\n",
    "path_model = root_path + 'models/test'\n",
    "features_path = root_path + 'data/features/data_tfid_hash28_n1000_SVD2.p'\n",
    "\n",
    "delete_old_model = True\n",
    "if delete_old_model:\n",
    "    try:\n",
    "        os.system(\"rm -rf \"+path_model)\n",
    "        os.system(\"mkdir \"+path_model)\n",
    "    except:\n",
    "        print(\"error\")"
   ]
  },
  {
   "cell_type": "markdown",
   "metadata": {},
   "source": [
    "# Load Data"
   ]
  },
  {
   "cell_type": "code",
   "execution_count": 3,
   "metadata": {},
   "outputs": [],
   "source": [
    "X ,y1 ,y2 , y3 = pickle.load( open( features_path, \"rb\" ) )\n"
   ]
  },
  {
   "cell_type": "code",
   "execution_count": 4,
   "metadata": {},
   "outputs": [],
   "source": [
    "train_fraction = 0.8\n",
    "\n",
    "y1 = y1.values    \n",
    "\n",
    "np.random.seed(42)\n",
    "train_indices = np.random.choice(X.shape[0], round(train_fraction*X.shape[0]), replace=False)\n",
    "test_indices = np.array(list(set(range(X.shape[0])) - set(train_indices)))\n",
    "\n",
    "X_train = X[train_indices]\n",
    "y_train = y1[train_indices]\n",
    "X_test = X[test_indices]\n",
    "y_test = y1[test_indices]"
   ]
  },
  {
   "cell_type": "code",
   "execution_count": 5,
   "metadata": {},
   "outputs": [],
   "source": [
    "labels = list(set(y_train))\n",
    "labels.sort()\n",
    "nClasses = len(labels)\n",
    "\n",
    "def calcWeights(y):\n",
    "    sizes = {label: y_train[y_train == label].shape[0] for label in labels}\n",
    "    weights = np.asarray([float(len(y_train))/(sizes[label]*nClasses) for label in y]) #n_samples / (n_classes * np.bincount(y))\n",
    "    weights = np.power(weights,1.4) # 1.4\n",
    "    return weights \n",
    "\n",
    "def calcWeightsL(y):\n",
    "    #lerko\n",
    "    scale_factor = 10e3\n",
    "    sizes = {label: y_train[y_train == label].shape[0] for label in labels}\n",
    "    weights = np.asarray([scale_factor/sizes[label] for label in y])\n",
    "    return weights \n",
    "\n",
    "weights_train = calcWeights(y_train)\n",
    "weights_test = calcWeights(y_test)\n"
   ]
  },
  {
   "cell_type": "code",
   "execution_count": 6,
   "metadata": {},
   "outputs": [
    {
     "data": {
      "text/plain": [
       "{0.268272550941509,\n",
       " 0.2746997280190859,\n",
       " 0.9153109481707647,\n",
       " 1.019595433968399,\n",
       " 5.286210239735423,\n",
       " 7.445978173727012,\n",
       " 8.04906686411735,\n",
       " 23.719311597066106}"
      ]
     },
     "execution_count": 6,
     "metadata": {},
     "output_type": "execute_result"
    }
   ],
   "source": [
    "set(weights_train)"
   ]
  },
  {
   "cell_type": "code",
   "execution_count": 7,
   "metadata": {},
   "outputs": [],
   "source": [
    "labels\n",
    "\n",
    "y_train_new = []\n",
    "for yTmp in y_train:\n",
    "    for idx, label in enumerate(labels):\n",
    "        if yTmp==label: \n",
    "            y_train_new.append(idx)\n",
    "            \n",
    "y_test_new = []\n",
    "for yTmp in y_test:\n",
    "    for idx, label in enumerate(labels):\n",
    "        if yTmp==label: \n",
    "            y_test_new.append(idx)            \n"
   ]
  },
  {
   "cell_type": "markdown",
   "metadata": {},
   "source": [
    "# Model\n",
    "\n"
   ]
  },
  {
   "cell_type": "code",
   "execution_count": 8,
   "metadata": {},
   "outputs": [],
   "source": [
    "# create dataset for lightgbm\n",
    "lgb_train = lgb.Dataset(X_train, y_train_new, weight= weights_train)\n",
    "#lgb_train = lgb.Dataset(X_train, y_train_new)\n",
    "lgb_eval = lgb.Dataset(X_test, y_test_new, reference=lgb_train)\n"
   ]
  },
  {
   "cell_type": "code",
   "execution_count": 17,
   "metadata": {},
   "outputs": [
    {
     "name": "stdout",
     "output_type": "stream",
     "text": [
      "Start training...\n",
      "[1]\tvalid_0's multi_logloss: 1.58697\n",
      "Training until validation scores don't improve for 6 rounds.\n",
      "[2]\tvalid_0's multi_logloss: 1.42592\n",
      "[3]\tvalid_0's multi_logloss: 1.32206\n",
      "[4]\tvalid_0's multi_logloss: 1.24549\n",
      "[5]\tvalid_0's multi_logloss: 1.18613\n",
      "[6]\tvalid_0's multi_logloss: 1.1429\n",
      "[7]\tvalid_0's multi_logloss: 1.10487\n",
      "[8]\tvalid_0's multi_logloss: 1.07033\n",
      "[9]\tvalid_0's multi_logloss: 1.04105\n",
      "[10]\tvalid_0's multi_logloss: 1.01846\n",
      "[11]\tvalid_0's multi_logloss: 0.994914\n",
      "[12]\tvalid_0's multi_logloss: 0.975356\n",
      "[13]\tvalid_0's multi_logloss: 0.956046\n",
      "[14]\tvalid_0's multi_logloss: 0.938862\n",
      "[15]\tvalid_0's multi_logloss: 0.921504\n",
      "[16]\tvalid_0's multi_logloss: 0.907898\n",
      "[17]\tvalid_0's multi_logloss: 0.895079\n",
      "[18]\tvalid_0's multi_logloss: 0.881227\n",
      "[19]\tvalid_0's multi_logloss: 0.869805\n",
      "[20]\tvalid_0's multi_logloss: 0.858337\n",
      "[21]\tvalid_0's multi_logloss: 0.846196\n",
      "[22]\tvalid_0's multi_logloss: 0.835195\n",
      "[23]\tvalid_0's multi_logloss: 0.825492\n",
      "[24]\tvalid_0's multi_logloss: 0.81638\n",
      "[25]\tvalid_0's multi_logloss: 0.806923\n",
      "[26]\tvalid_0's multi_logloss: 0.797479\n",
      "[27]\tvalid_0's multi_logloss: 0.788867\n",
      "[28]\tvalid_0's multi_logloss: 0.779837\n",
      "[29]\tvalid_0's multi_logloss: 0.77295\n",
      "[30]\tvalid_0's multi_logloss: 0.765076\n",
      "[31]\tvalid_0's multi_logloss: 0.757871\n",
      "[32]\tvalid_0's multi_logloss: 0.750543\n",
      "[33]\tvalid_0's multi_logloss: 0.744269\n",
      "[34]\tvalid_0's multi_logloss: 0.737665\n",
      "[35]\tvalid_0's multi_logloss: 0.730441\n",
      "[36]\tvalid_0's multi_logloss: 0.724308\n",
      "[37]\tvalid_0's multi_logloss: 0.718487\n",
      "[38]\tvalid_0's multi_logloss: 0.712733\n",
      "[39]\tvalid_0's multi_logloss: 0.706362\n",
      "[40]\tvalid_0's multi_logloss: 0.700778\n",
      "[41]\tvalid_0's multi_logloss: 0.694984\n",
      "[42]\tvalid_0's multi_logloss: 0.690431\n",
      "[43]\tvalid_0's multi_logloss: 0.685667\n",
      "[44]\tvalid_0's multi_logloss: 0.679803\n",
      "[45]\tvalid_0's multi_logloss: 0.675213\n",
      "[46]\tvalid_0's multi_logloss: 0.670202\n",
      "[47]\tvalid_0's multi_logloss: 0.665719\n",
      "[48]\tvalid_0's multi_logloss: 0.661613\n",
      "[49]\tvalid_0's multi_logloss: 0.656808\n",
      "[50]\tvalid_0's multi_logloss: 0.652499\n",
      "[51]\tvalid_0's multi_logloss: 0.648554\n",
      "[52]\tvalid_0's multi_logloss: 0.644207\n",
      "[53]\tvalid_0's multi_logloss: 0.639882\n",
      "[54]\tvalid_0's multi_logloss: 0.635827\n",
      "[55]\tvalid_0's multi_logloss: 0.631815\n",
      "[56]\tvalid_0's multi_logloss: 0.627909\n",
      "[57]\tvalid_0's multi_logloss: 0.623907\n",
      "[58]\tvalid_0's multi_logloss: 0.620353\n",
      "[59]\tvalid_0's multi_logloss: 0.617359\n",
      "[60]\tvalid_0's multi_logloss: 0.613606\n",
      "[61]\tvalid_0's multi_logloss: 0.610194\n",
      "[62]\tvalid_0's multi_logloss: 0.606999\n",
      "[63]\tvalid_0's multi_logloss: 0.603423\n",
      "[64]\tvalid_0's multi_logloss: 0.600357\n",
      "[65]\tvalid_0's multi_logloss: 0.596998\n",
      "[66]\tvalid_0's multi_logloss: 0.593702\n",
      "[67]\tvalid_0's multi_logloss: 0.59074\n",
      "[68]\tvalid_0's multi_logloss: 0.588209\n",
      "[69]\tvalid_0's multi_logloss: 0.585203\n",
      "[70]\tvalid_0's multi_logloss: 0.582857\n",
      "[71]\tvalid_0's multi_logloss: 0.579312\n",
      "[72]\tvalid_0's multi_logloss: 0.576557\n",
      "[73]\tvalid_0's multi_logloss: 0.573994\n",
      "[74]\tvalid_0's multi_logloss: 0.571144\n",
      "[75]\tvalid_0's multi_logloss: 0.568396\n",
      "[76]\tvalid_0's multi_logloss: 0.56578\n",
      "[77]\tvalid_0's multi_logloss: 0.563099\n",
      "[78]\tvalid_0's multi_logloss: 0.560539\n",
      "[79]\tvalid_0's multi_logloss: 0.557873\n",
      "[80]\tvalid_0's multi_logloss: 0.555223\n",
      "[81]\tvalid_0's multi_logloss: 0.552912\n",
      "[82]\tvalid_0's multi_logloss: 0.550255\n",
      "[83]\tvalid_0's multi_logloss: 0.548142\n",
      "[84]\tvalid_0's multi_logloss: 0.545601\n",
      "[85]\tvalid_0's multi_logloss: 0.543792\n",
      "[86]\tvalid_0's multi_logloss: 0.541168\n",
      "[87]\tvalid_0's multi_logloss: 0.539077\n",
      "[88]\tvalid_0's multi_logloss: 0.537074\n",
      "[89]\tvalid_0's multi_logloss: 0.538821\n",
      "[90]\tvalid_0's multi_logloss: 0.543788\n",
      "[91]\tvalid_0's multi_logloss: 0.546742\n",
      "[92]\tvalid_0's multi_logloss: 0.539466\n",
      "[93]\tvalid_0's multi_logloss: 0.54222\n",
      "[94]\tvalid_0's multi_logloss: 0.5475\n",
      "Early stopping, best iteration is:\n",
      "[88]\tvalid_0's multi_logloss: 0.537074\n",
      "training time :57.36786913871765\n"
     ]
    }
   ],
   "source": [
    "# specify your configurations as a dict\n",
    "# params = {\n",
    "#     'task': 'train',\n",
    "#     'boosting_type': 'gbdt',\n",
    "#     'objective': 'multiclass',\n",
    "#     'num_class':nClasses,\n",
    "#     'metric' : \"multi_logloss\",\n",
    "#     'num_leaves': 31,\n",
    "#     'learning_rate': 0.05,\n",
    "#     'feature_fraction': 0.9,\n",
    "#     'bagging_fraction': 0.8,\n",
    "#     'bagging_freq': 5,\n",
    "#     'verbose': 1,\n",
    "#     #'\n",
    "# }\n",
    "\n",
    "# leave 31 def\n",
    "params = {'task': 'train',\n",
    "    'boosting_type': 'gbdt',\n",
    "    'objective': 'multiclass',\n",
    "    'num_class':nClasses,\n",
    "    'metric': 'multi_logloss',\n",
    "    'learning_rate': 0.4,#0.4\n",
    "    'min_data_in_leaf':50, #60 ,50     \n",
    "    'max_depth':4,\n",
    "    'num_leaves': 71,#31 , 71\n",
    "    'feature_fraction': 1.0,\n",
    "    'bagging_fraction': 1.0,\n",
    "    'bagging_freq': -1,\n",
    "    'verbose': 1,    \n",
    "    'num_threads':40}\n",
    "\n",
    "start = time.time()\n",
    "print('Start training...')\n",
    "# train\n",
    "gbm = lgb.train(params,\n",
    "                lgb_train,\n",
    "                num_boost_round=200,\n",
    "                valid_sets=lgb_eval,\n",
    "                early_stopping_rounds=6,\n",
    "                )\n",
    "\n",
    "end = time.time()\n",
    "print(\"training time :\" + str(end - start) )"
   ]
  },
  {
   "cell_type": "markdown",
   "metadata": {},
   "source": [
    "# performance\n"
   ]
  },
  {
   "cell_type": "code",
   "execution_count": 18,
   "metadata": {},
   "outputs": [
    {
     "data": {
      "image/png": "[encoded data removed]",
      "text/plain": [
       "<Figure size 432x288 with 2 Axes>"
      ]
     },
     "metadata": {},
     "output_type": "display_data"
    },
    {
     "data": {
      "text/markdown": [
       "## Accuracy in test: 82.0618038690227 "
      ],
      "text/plain": [
       "<IPython.core.display.Markdown object>"
      ]
     },
     "metadata": {},
     "output_type": "display_data"
    }
   ],
   "source": [
    "import scikitplot as skplt\n",
    "\n",
    "preds =  gbm.predict(X_test)\n",
    "predictions = []\n",
    "for x in preds:\n",
    "    predictions.append(np.argmax(x))\n",
    "    \n",
    "y_test_hat = predictions\n",
    "\n",
    "\n",
    "skplt.metrics.plot_confusion_matrix(y_test_new, y_test_hat,normalize=True)\n",
    "plt.xticks(rotation=45)\n",
    "plt.show()\n",
    "\n",
    "acc = accuracy_score(y_true=y_test_new, y_pred=y_test_hat)\n",
    "\n",
    "#print('Accuracy in test: {}'.format(acc))\n",
    "display(Markdown('## Accuracy in test: {} '.format(acc*100)))"
   ]
  },
  {
   "cell_type": "code",
   "execution_count": 11,
   "metadata": {},
   "outputs": [],
   "source": [
    "# preds =  gbm.predict(X_test)\n",
    "# predictions = []\n",
    "# for x in preds:\n",
    "#     predictions.append(np.argmax(x))\n",
    "    \n",
    "# y_test_hat = predictions\n",
    "\n",
    "\n",
    "# skplt.metrics.plot_confusion_matrix(y_test_new, y_test_hat,normalize=True)\n",
    "# plt.xticks(rotation=45)\n",
    "# plt.show()\n",
    "\n",
    "# acc = accuracy_score(y_true=y_test_new, y_pred=y_test_hat)\n",
    "\n",
    "# #print('Accuracy in test: {}'.format(acc))\n",
    "# display(Markdown('## Accuracy in test: {} '.format(acc*100)))"
   ]
  },
  {
   "cell_type": "code",
   "execution_count": 19,
   "metadata": {},
   "outputs": [
    {
     "data": {
      "image/png": "[encoded data removed]",
      "text/plain": [
       "<Figure size 432x288 with 2 Axes>"
      ]
     },
     "metadata": {},
     "output_type": "display_data"
    },
    {
     "data": {
      "text/markdown": [
       "## Accuracy in test: 86.01494865326033 "
      ],
      "text/plain": [
       "<IPython.core.display.Markdown object>"
      ]
     },
     "metadata": {},
     "output_type": "display_data"
    }
   ],
   "source": [
    "import scikitplot as skplt\n",
    "\n",
    "preds =  gbm.predict(X_train)\n",
    "predictions = []\n",
    "for x in preds:\n",
    "    predictions.append(np.argmax(x))\n",
    "    \n",
    "y_train_hat = predictions\n",
    "\n",
    "\n",
    "skplt.metrics.plot_confusion_matrix(y_train_new, y_train_hat,normalize=True)\n",
    "plt.xticks(rotation=45)\n",
    "plt.show()\n",
    "\n",
    "acc = accuracy_score(y_true=y_train_new, y_pred=y_train_hat)\n",
    "\n",
    "#print('Accuracy in test: {}'.format(acc))\n",
    "display(Markdown('## Accuracy in test: {} '.format(acc*100)))"
   ]
  },
  {
   "cell_type": "code",
   "execution_count": null,
   "metadata": {},
   "outputs": [],
   "source": []
  }
 ],
 "metadata": {
  "kernelspec": {
   "display_name": "Python 3",
   "language": "python",
   "name": "python3"
  },
  "language_info": {
   "codemirror_mode": {
    "name": "ipython",
    "version": 3
   },
   "file_extension": ".py",
   "mimetype": "text/x-python",
   "name": "python",
   "nbconvert_exporter": "python",
   "pygments_lexer": "ipython3",
   "version": "3.6.5"
  },
  "widgets": {
   "application/vnd.jupyter.widget-state+json": {
    "state": {},
    "version_major": 2,
    "version_minor": 0
   }
  }
 },
 "nbformat": 4,
 "nbformat_minor": 2
}

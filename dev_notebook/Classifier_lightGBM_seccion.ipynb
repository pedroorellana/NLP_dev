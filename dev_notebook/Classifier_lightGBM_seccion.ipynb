{
 "cells": [
  {
   "cell_type": "code",
   "execution_count": 1,
   "metadata": {},
   "outputs": [],
   "source": [
    "# Utils\n",
    "import os, sys, re, time, gc, types, string, unicodedata, unidecode, string, warnings, inspect\n",
    "\n",
    "import pandas as pd\n",
    "import matplotlib.pyplot as plt\n",
    "\n",
    "import numpy as np\n",
    "import time\n",
    "#import _pickle as pickle\n",
    "import pickle\n",
    "import re, sys, unidecode\n",
    "#import unidecode\n",
    "\n",
    "from sklearn.metrics import accuracy_score\n",
    "from IPython.display import display, Markdown, Latex\n",
    "\n",
    "import shutil\n",
    "import os\n",
    "\n",
    "# Representation\n",
    "import nltk\n",
    "from nltk.corpus import stopwords\n",
    "import scikitplot as skplt\n",
    "\n",
    "#plt.style.use('fivethirtyeight')\n",
    "\n",
    "\n",
    "import lightgbm as lgb\n",
    "from sklearn.metrics import mean_squared_error"
   ]
  },
  {
   "cell_type": "markdown",
   "metadata": {},
   "source": [
    "# Parameters"
   ]
  },
  {
   "cell_type": "code",
   "execution_count": 2,
   "metadata": {},
   "outputs": [],
   "source": [
    "root_path = \"../\"\n",
    "path_model = root_path + 'models/test'\n",
    "features_path = root_path + 'data/features/dataset_tfid_hash28_n1000.p'\n",
    "\n",
    "delete_old_model = True\n",
    "if delete_old_model:\n",
    "    try:\n",
    "        os.system(\"rm -rf \"+path_model)\n",
    "        os.system(\"mkdir \"+path_model)\n",
    "    except:\n",
    "        print(\"error\")"
   ]
  },
  {
   "cell_type": "markdown",
   "metadata": {},
   "source": [
    "# Load Data"
   ]
  },
  {
   "cell_type": "code",
   "execution_count": 3,
   "metadata": {},
   "outputs": [],
   "source": [
    "X_train,y_train,X_test,y_test = pickle.load( open( features_path, \"rb\" ) )\n"
   ]
  },
  {
   "cell_type": "code",
   "execution_count": 4,
   "metadata": {},
   "outputs": [],
   "source": [
    "labels = list(set(y_train))\n",
    "labels.sort()\n",
    "nClasses = len(labels)\n",
    "\n",
    "def calcWeights(y):\n",
    "    sizes = {label: y_train[y_train == label].shape[0] for label in labels}\n",
    "    weights = np.asarray([float(len(y_train))/(sizes[label]*nClasses) for label in y]) #n_samples / (n_classes * np.bincount(y))\n",
    "    weights = np.power(weights,2) # 1.4\n",
    "    return weights \n",
    "\n",
    "# #lerko\n",
    "# scale_factor = 10e3\n",
    "# sizes = {label: y_train[y_train == label].shape[0] for label in labels}\n",
    "# weights = np.asarray([scale_factor/sizes[label] for label in y])\n",
    "\n",
    "weights_train = calcWeights(y_train)\n",
    "weights_test = calcWeights(y_test)\n"
   ]
  },
  {
   "cell_type": "code",
   "execution_count": 5,
   "metadata": {},
   "outputs": [
    {
     "data": {
      "text/plain": [
       "{0.15264421200110437,\n",
       " 0.1578951896320362,\n",
       " 0.8812478724488313,\n",
       " 1.0281105869222957,\n",
       " 10.791044257978275,\n",
       " 17.6036413826886,\n",
       " 19.675337603358503,\n",
       " 92.13646452530024}"
      ]
     },
     "execution_count": 5,
     "metadata": {},
     "output_type": "execute_result"
    }
   ],
   "source": [
    "set(weights_train)"
   ]
  },
  {
   "cell_type": "code",
   "execution_count": 6,
   "metadata": {},
   "outputs": [],
   "source": [
    "labels\n",
    "\n",
    "y_train_new = []\n",
    "for yTmp in y_train:\n",
    "    for idx, label in enumerate(labels):\n",
    "        if yTmp==label: \n",
    "            y_train_new.append(idx)\n",
    "            \n",
    "y_test_new = []\n",
    "for yTmp in y_test:\n",
    "    for idx, label in enumerate(labels):\n",
    "        if yTmp==label: \n",
    "            y_test_new.append(idx)            \n"
   ]
  },
  {
   "cell_type": "markdown",
   "metadata": {},
   "source": [
    "# Model\n",
    "\n"
   ]
  },
  {
   "cell_type": "code",
   "execution_count": 7,
   "metadata": {},
   "outputs": [],
   "source": [
    "# create dataset for lightgbm\n",
    "lgb_train = lgb.Dataset(X_train, y_train_new, weight= weights_train)\n",
    "#lgb_train = lgb.Dataset(X_train, y_train_new)\n",
    "lgb_eval = lgb.Dataset(X_test, y_test_new, reference=lgb_train)\n"
   ]
  },
  {
   "cell_type": "code",
   "execution_count": 8,
   "metadata": {},
   "outputs": [
    {
     "name": "stdout",
     "output_type": "stream",
     "text": [
      "Start training...\n",
      "[1]\tvalid_0's multi_logloss: 1.62498\n",
      "Training until validation scores don't improve for 6 rounds.\n",
      "[2]\tvalid_0's multi_logloss: 1.48626\n",
      "[3]\tvalid_0's multi_logloss: 1.40055\n",
      "[4]\tvalid_0's multi_logloss: 1.33728\n",
      "[5]\tvalid_0's multi_logloss: 1.28472\n",
      "[6]\tvalid_0's multi_logloss: 1.24581\n",
      "[7]\tvalid_0's multi_logloss: 1.20942\n",
      "[8]\tvalid_0's multi_logloss: 1.17029\n",
      "[9]\tvalid_0's multi_logloss: 1.13596\n",
      "[10]\tvalid_0's multi_logloss: 1.09763\n",
      "[11]\tvalid_0's multi_logloss: 1.06418\n",
      "[12]\tvalid_0's multi_logloss: 1.03717\n",
      "[13]\tvalid_0's multi_logloss: 1.01033\n",
      "[14]\tvalid_0's multi_logloss: 0.978823\n",
      "[15]\tvalid_0's multi_logloss: 0.950413\n",
      "[16]\tvalid_0's multi_logloss: 0.926412\n",
      "[17]\tvalid_0's multi_logloss: 0.901131\n",
      "[18]\tvalid_0's multi_logloss: 0.87831\n",
      "[19]\tvalid_0's multi_logloss: 0.857128\n",
      "[20]\tvalid_0's multi_logloss: 0.835833\n",
      "[21]\tvalid_0's multi_logloss: 0.818945\n",
      "[22]\tvalid_0's multi_logloss: 0.802258\n",
      "[23]\tvalid_0's multi_logloss: 0.783765\n",
      "[24]\tvalid_0's multi_logloss: 0.768932\n",
      "[25]\tvalid_0's multi_logloss: 0.752138\n",
      "[26]\tvalid_0's multi_logloss: 0.736006\n",
      "[27]\tvalid_0's multi_logloss: 0.723771\n",
      "[28]\tvalid_0's multi_logloss: 0.72209\n",
      "[29]\tvalid_0's multi_logloss: 0.700102\n",
      "[30]\tvalid_0's multi_logloss: 0.6928\n",
      "[31]\tvalid_0's multi_logloss: 0.683722\n",
      "[32]\tvalid_0's multi_logloss: 0.672398\n",
      "[33]\tvalid_0's multi_logloss: 0.670714\n",
      "[34]\tvalid_0's multi_logloss: 0.659979\n",
      "[35]\tvalid_0's multi_logloss: 0.652505\n",
      "[36]\tvalid_0's multi_logloss: 0.647868\n",
      "[37]\tvalid_0's multi_logloss: 0.649206\n",
      "[38]\tvalid_0's multi_logloss: 0.625981\n",
      "[39]\tvalid_0's multi_logloss: 0.64126\n",
      "[40]\tvalid_0's multi_logloss: 0.615477\n",
      "[41]\tvalid_0's multi_logloss: 0.627895\n",
      "[42]\tvalid_0's multi_logloss: 0.620479\n",
      "[43]\tvalid_0's multi_logloss: 0.620953\n",
      "[44]\tvalid_0's multi_logloss: 0.649741\n",
      "[45]\tvalid_0's multi_logloss: 0.654817\n",
      "[46]\tvalid_0's multi_logloss: 0.672985\n",
      "Early stopping, best iteration is:\n",
      "[40]\tvalid_0's multi_logloss: 0.615477\n",
      "training time :108.55117177963257\n"
     ]
    }
   ],
   "source": [
    "# specify your configurations as a dict\n",
    "# params = {\n",
    "#     'task': 'train',\n",
    "#     'boosting_type': 'gbdt',\n",
    "#     'objective': 'multiclass',\n",
    "#     'num_class':nClasses,\n",
    "#     'metric' : \"multi_logloss\",\n",
    "#     'num_leaves': 31,\n",
    "#     'learning_rate': 0.05,\n",
    "#     'feature_fraction': 0.9,\n",
    "#     'bagging_fraction': 0.8,\n",
    "#     'bagging_freq': 5,\n",
    "#     'verbose': 1,\n",
    "#     #'\n",
    "# }\n",
    "\n",
    "# leave 31 def\n",
    "params = {'task': 'train',\n",
    "    'boosting_type': 'gbdt',\n",
    "    'objective': 'multiclass',\n",
    "    'num_class':nClasses,\n",
    "    'metric': 'multi_logloss',\n",
    "    'learning_rate': 0.4,#0.4\n",
    "    'min_data_in_leaf':50, #60 ,50     \n",
    "    'max_depth':-1,\n",
    "    'num_leaves': 71,#31 , 71\n",
    "    'feature_fraction': 1.0,\n",
    "    'bagging_fraction': 1.0,\n",
    "    'bagging_freq': -1,\n",
    "    'verbose': 1,    \n",
    "    'num_threads':24}\n",
    "\n",
    "start = time.time()\n",
    "print('Start training...')\n",
    "# train\n",
    "gbm = lgb.train(params,\n",
    "                lgb_train,\n",
    "                num_boost_round=200,\n",
    "                valid_sets=lgb_eval,\n",
    "                early_stopping_rounds=6,\n",
    "                )\n",
    "\n",
    "end = time.time()\n",
    "print(\"training time :\" + str(end - start) )"
   ]
  },
  {
   "cell_type": "markdown",
   "metadata": {},
   "source": [
    "# performance\n"
   ]
  },
  {
   "cell_type": "code",
   "execution_count": 9,
   "metadata": {},
   "outputs": [
    {
     "name": "stderr",
     "output_type": "stream",
     "text": [
      "/root/anaconda3/lib/python3.6/site-packages/matplotlib/cbook/deprecation.py:107: MatplotlibDeprecationWarning: Passing one of 'on', 'true', 'off', 'false' as a boolean is deprecated; use an actual boolean (True/False) instead.\n",
      "  warnings.warn(message, mplDeprecation, stacklevel=1)\n"
     ]
    },
    {
     "data": {
      "image/png": "[encoded data removed]",
      "text/plain": [
       "<Figure size 432x288 with 2 Axes>"
      ]
     },
     "metadata": {},
     "output_type": "display_data"
    },
    {
     "data": {
      "text/markdown": [
       "## Accuracy in test: 79.34636965078302 "
      ],
      "text/plain": [
       "<IPython.core.display.Markdown object>"
      ]
     },
     "metadata": {},
     "output_type": "display_data"
    }
   ],
   "source": [
    "preds =  gbm.predict(X_test)\n",
    "predictions = []\n",
    "for x in preds:\n",
    "    predictions.append(np.argmax(x))\n",
    "    \n",
    "y_test_hat = predictions\n",
    "\n",
    "\n",
    "skplt.metrics.plot_confusion_matrix(y_test_new, y_test_hat,normalize=True)\n",
    "plt.xticks(rotation=45)\n",
    "plt.show()\n",
    "\n",
    "acc = accuracy_score(y_true=y_test_new, y_pred=y_test_hat)\n",
    "\n",
    "#print('Accuracy in test: {}'.format(acc))\n",
    "display(Markdown('## Accuracy in test: {} '.format(acc*100)))"
   ]
  },
  {
   "cell_type": "code",
   "execution_count": 10,
   "metadata": {},
   "outputs": [
    {
     "name": "stderr",
     "output_type": "stream",
     "text": [
      "/root/anaconda3/lib/python3.6/site-packages/matplotlib/cbook/deprecation.py:107: MatplotlibDeprecationWarning: Passing one of 'on', 'true', 'off', 'false' as a boolean is deprecated; use an actual boolean (True/False) instead.\n",
      "  warnings.warn(message, mplDeprecation, stacklevel=1)\n"
     ]
    },
    {
     "data": {
      "image/png": "[encoded data removed]",
      "text/plain": [
       "<Figure size 432x288 with 2 Axes>"
      ]
     },
     "metadata": {},
     "output_type": "display_data"
    },
    {
     "data": {
      "text/markdown": [
       "## Accuracy in test: 79.34636965078302 "
      ],
      "text/plain": [
       "<IPython.core.display.Markdown object>"
      ]
     },
     "metadata": {},
     "output_type": "display_data"
    }
   ],
   "source": [
    "preds =  gbm.predict(X_test)\n",
    "predictions = []\n",
    "for x in preds:\n",
    "    predictions.append(np.argmax(x))\n",
    "    \n",
    "y_test_hat = predictions\n",
    "\n",
    "\n",
    "skplt.metrics.plot_confusion_matrix(y_test_new, y_test_hat,normalize=True)\n",
    "plt.xticks(rotation=45)\n",
    "plt.show()\n",
    "\n",
    "acc = accuracy_score(y_true=y_test_new, y_pred=y_test_hat)\n",
    "\n",
    "#print('Accuracy in test: {}'.format(acc))\n",
    "display(Markdown('## Accuracy in test: {} '.format(acc*100)))"
   ]
  },
  {
   "cell_type": "code",
   "execution_count": null,
   "metadata": {},
   "outputs": [],
   "source": []
  }
 ],
 "metadata": {
  "kernelspec": {
   "display_name": "Python 3",
   "language": "python",
   "name": "python3"
  },
  "language_info": {
   "codemirror_mode": {
    "name": "ipython",
    "version": 3
   },
   "file_extension": ".py",
   "mimetype": "text/x-python",
   "name": "python",
   "nbconvert_exporter": "python",
   "pygments_lexer": "ipython3",
   "version": "3.6.4"
  },
  "widgets": {
   "application/vnd.jupyter.widget-state+json": {
    "state": {},
    "version_major": 2,
    "version_minor": 0
   }
  }
 },
 "nbformat": 4,
 "nbformat_minor": 2
}

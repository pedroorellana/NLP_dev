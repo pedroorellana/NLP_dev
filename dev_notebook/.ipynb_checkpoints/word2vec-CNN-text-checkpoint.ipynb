{
 "cells": [
  {
   "cell_type": "code",
   "execution_count": null,
   "metadata": {},
   "outputs": [],
   "source": []
  },
  {
   "cell_type": "code",
   "execution_count": 44,
   "metadata": {},
   "outputs": [
    {
     "name": "stdout",
     "output_type": "stream",
     "text": [
      "[nltk_data] Downloading package stopwords to /root/nltk_data...\n",
      "[nltk_data]   Package stopwords is already up-to-date!\n",
      "[nltk_data] Downloading package punkt to /root/nltk_data...\n",
      "[nltk_data]   Package punkt is already up-to-date!\n"
     ]
    },
    {
     "data": {
      "text/plain": [
       "True"
      ]
     },
     "execution_count": 44,
     "metadata": {},
     "output_type": "execute_result"
    }
   ],
   "source": [
    "# Utils\n",
    "import os, sys, re, time, gc, types, string, unicodedata, unidecode, string, warnings, inspect\n",
    "\n",
    "#import tensorflow as tf\n",
    "import pandas as pd\n",
    "import matplotlib.pyplot as plt\n",
    "\n",
    "import numpy as np\n",
    "import time\n",
    "import pickle\n",
    "import re, sys, unidecode\n",
    "\n",
    "from sklearn.metrics import accuracy_score\n",
    "from IPython.display import display, Markdown, Latex\n",
    "\n",
    "import shutil\n",
    "import os\n",
    "\n",
    "# Representation\n",
    "import nltk\n",
    "from nltk.corpus import stopwords\n",
    "from sklearn.decomposition import TruncatedSVD\n",
    "\n",
    "\n",
    "import wordbatch\n",
    "from wordbatch.extractors import WordBag, WordHash\n",
    "from wordbatch.models import FTRL\n",
    "\n",
    "#plt.style.use('fivethirtyeight')\n",
    "from nltk.stem.snowball import SnowballStemmer\n",
    "\n",
    "#Carga stop word\n",
    "nltk.download('stopwords')\n",
    "spanish_stopwords = nltk.corpus.stopwords.words('spanish')\n",
    "\n",
    "# punkt:  módulo contiene modelos para la tokenización de textos\n",
    "nltk.download('punkt')"
   ]
  },
  {
   "cell_type": "markdown",
   "metadata": {},
   "source": [
    "# Parameters"
   ]
  },
  {
   "cell_type": "code",
   "execution_count": 45,
   "metadata": {},
   "outputs": [],
   "source": [
    "root_path = \"../\"\n",
    "path_data_clean = root_path + \"data/clean/\"\n",
    "path_model = root_path + 'models/'\n",
    "features_path = root_path + 'data/features/'\n",
    "model_name = \"tfidf10000_svd1000\"\n",
    "path_model += model_name\n",
    "\n",
    "delete_old_model = True\n",
    "if delete_old_model:\n",
    "    try:\n",
    "        os.system(\"rm -rf \"+path_model)\n",
    "        os.system(\"mkdir \"+path_model)\n",
    "    except:\n",
    "        print(\"error\")"
   ]
  },
  {
   "cell_type": "markdown",
   "metadata": {},
   "source": [
    "# Load Data"
   ]
  },
  {
   "cell_type": "markdown",
   "metadata": {},
   "source": [
    "falta agregar data v2 y beatiful soup para limpiar html en data 2"
   ]
  },
  {
   "cell_type": "code",
   "execution_count": 46,
   "metadata": {},
   "outputs": [],
   "source": [
    "dfNoticias = pd.read_pickle(path_data_clean + \"/dfNoticiasCleanV2.p\")\n"
   ]
  },
  {
   "cell_type": "code",
   "execution_count": 47,
   "metadata": {},
   "outputs": [
    {
     "data": {
      "text/html": [
       "<div>\n",
       "<style scoped>\n",
       "    .dataframe tbody tr th:only-of-type {\n",
       "        vertical-align: middle;\n",
       "    }\n",
       "\n",
       "    .dataframe tbody tr th {\n",
       "        vertical-align: top;\n",
       "    }\n",
       "\n",
       "    .dataframe thead th {\n",
       "        text-align: right;\n",
       "    }\n",
       "</style>\n",
       "<table border=\"1\" class=\"dataframe\">\n",
       "  <thead>\n",
       "    <tr style=\"text-align: right;\">\n",
       "      <th></th>\n",
       "      <th>Cuerpo</th>\n",
       "      <th>Fecha</th>\n",
       "      <th>Hora</th>\n",
       "      <th>ID</th>\n",
       "      <th>Resumen</th>\n",
       "      <th>Seccion_1</th>\n",
       "      <th>Seccion_2</th>\n",
       "      <th>Seccion_3</th>\n",
       "      <th>Subtema_1</th>\n",
       "      <th>Subtema_2</th>\n",
       "      <th>Subtema_3</th>\n",
       "      <th>Tema_1</th>\n",
       "      <th>Tema_2</th>\n",
       "      <th>Tema_3</th>\n",
       "      <th>Titular</th>\n",
       "      <th>Type</th>\n",
       "    </tr>\n",
       "  </thead>\n",
       "  <tbody>\n",
       "    <tr>\n",
       "      <th>0</th>\n",
       "      <td>\\nLa presidenta argentina, Cristina Fernández,...</td>\n",
       "      <td>2013-11-20</td>\n",
       "      <td>21:37</td>\n",
       "      <td>20131120214139</td>\n",
       "      <td>\\nEste fue el primer acto público de la mandat...</td>\n",
       "      <td>mundo</td>\n",
       "      <td>None</td>\n",
       "      <td>None</td>\n",
       "      <td>None</td>\n",
       "      <td>None</td>\n",
       "      <td>None</td>\n",
       "      <td>argentina</td>\n",
       "      <td>None</td>\n",
       "      <td>None</td>\n",
       "      <td>\\nPresidenta argentina tomó juramento a tres n...</td>\n",
       "      <td>fid_noticia</td>\n",
       "    </tr>\n",
       "    <tr>\n",
       "      <th>1</th>\n",
       "      <td>\\nPor problemas de agenda de la jueza del Trib...</td>\n",
       "      <td>2013-11-20</td>\n",
       "      <td>17:09</td>\n",
       "      <td>20131120164254</td>\n",
       "      <td>\\nAudiencia se realizará el próximo lunes 2 de...</td>\n",
       "      <td>pais</td>\n",
       "      <td>None</td>\n",
       "      <td>None</td>\n",
       "      <td>None</td>\n",
       "      <td>None</td>\n",
       "      <td>None</td>\n",
       "      <td>region de la araucania</td>\n",
       "      <td>None</td>\n",
       "      <td>None</td>\n",
       "      <td>\\nNuevamente se postergó preparación del juici...</td>\n",
       "      <td>fid_noticia</td>\n",
       "    </tr>\n",
       "    <tr>\n",
       "      <th>2</th>\n",
       "      <td>\\nEl presidente uruguayo, José Mujica, sufre u...</td>\n",
       "      <td>2013-11-20</td>\n",
       "      <td>12:45</td>\n",
       "      <td>20131120124736</td>\n",
       "      <td>\\nPresidente uruguayo está afectado por un \"es...</td>\n",
       "      <td>mundo</td>\n",
       "      <td>None</td>\n",
       "      <td>None</td>\n",
       "      <td>None</td>\n",
       "      <td>None</td>\n",
       "      <td>None</td>\n",
       "      <td>uruguay</td>\n",
       "      <td>None</td>\n",
       "      <td>None</td>\n",
       "      <td>\\nResfrío que afecta a José Mujica obligó a su...</td>\n",
       "      <td>fid_noticia</td>\n",
       "    </tr>\n",
       "    <tr>\n",
       "      <th>4</th>\n",
       "      <td>\\nEl Reino Unido considera que el Ejecutivo es...</td>\n",
       "      <td>2013-11-20</td>\n",
       "      <td>11:43</td>\n",
       "      <td>20131120114123</td>\n",
       "      <td>\\nGobierno hispano ha ejercido medidas de pres...</td>\n",
       "      <td>mundo</td>\n",
       "      <td>None</td>\n",
       "      <td>None</td>\n",
       "      <td>None</td>\n",
       "      <td>None</td>\n",
       "      <td>None</td>\n",
       "      <td>europa</td>\n",
       "      <td>None</td>\n",
       "      <td>None</td>\n",
       "      <td>\\nReino Unido arremete contra España ante incu...</td>\n",
       "      <td>fid_noticia</td>\n",
       "    </tr>\n",
       "    <tr>\n",
       "      <th>5</th>\n",
       "      <td>\\nFuncionarios municipales de Santiago y otras...</td>\n",
       "      <td>2013-11-20</td>\n",
       "      <td>12:44</td>\n",
       "      <td>20131120124031</td>\n",
       "      <td>\\nUfemuch desconoce acuerdo con el Gobierno pa...</td>\n",
       "      <td>pais</td>\n",
       "      <td>None</td>\n",
       "      <td>None</td>\n",
       "      <td>gremios</td>\n",
       "      <td>None</td>\n",
       "      <td>None</td>\n",
       "      <td>trabajo</td>\n",
       "      <td>None</td>\n",
       "      <td>None</td>\n",
       "      <td>\\nFuncionarios municipales de Santiago siguen ...</td>\n",
       "      <td>fid_noticia</td>\n",
       "    </tr>\n",
       "  </tbody>\n",
       "</table>\n",
       "</div>"
      ],
      "text/plain": [
       "                                              Cuerpo       Fecha   Hora  \\\n",
       "0  \\nLa presidenta argentina, Cristina Fernández,...  2013-11-20  21:37   \n",
       "1  \\nPor problemas de agenda de la jueza del Trib...  2013-11-20  17:09   \n",
       "2  \\nEl presidente uruguayo, José Mujica, sufre u...  2013-11-20  12:45   \n",
       "4  \\nEl Reino Unido considera que el Ejecutivo es...  2013-11-20  11:43   \n",
       "5  \\nFuncionarios municipales de Santiago y otras...  2013-11-20  12:44   \n",
       "\n",
       "               ID                                            Resumen  \\\n",
       "0  20131120214139  \\nEste fue el primer acto público de la mandat...   \n",
       "1  20131120164254  \\nAudiencia se realizará el próximo lunes 2 de...   \n",
       "2  20131120124736  \\nPresidente uruguayo está afectado por un \"es...   \n",
       "4  20131120114123  \\nGobierno hispano ha ejercido medidas de pres...   \n",
       "5  20131120124031  \\nUfemuch desconoce acuerdo con el Gobierno pa...   \n",
       "\n",
       "  Seccion_1 Seccion_2 Seccion_3 Subtema_1 Subtema_2 Subtema_3  \\\n",
       "0     mundo      None      None      None      None      None   \n",
       "1      pais      None      None      None      None      None   \n",
       "2     mundo      None      None      None      None      None   \n",
       "4     mundo      None      None      None      None      None   \n",
       "5      pais      None      None   gremios      None      None   \n",
       "\n",
       "                   Tema_1 Tema_2 Tema_3  \\\n",
       "0               argentina   None   None   \n",
       "1  region de la araucania   None   None   \n",
       "2                 uruguay   None   None   \n",
       "4                  europa   None   None   \n",
       "5                 trabajo   None   None   \n",
       "\n",
       "                                             Titular         Type  \n",
       "0  \\nPresidenta argentina tomó juramento a tres n...  fid_noticia  \n",
       "1  \\nNuevamente se postergó preparación del juici...  fid_noticia  \n",
       "2  \\nResfrío que afecta a José Mujica obligó a su...  fid_noticia  \n",
       "4  \\nReino Unido arremete contra España ante incu...  fid_noticia  \n",
       "5  \\nFuncionarios municipales de Santiago siguen ...  fid_noticia  "
      ]
     },
     "execution_count": 47,
     "metadata": {},
     "output_type": "execute_result"
    }
   ],
   "source": [
    "dfNoticias.head()"
   ]
  },
  {
   "cell_type": "markdown",
   "metadata": {},
   "source": [
    "# pre procesing\n",
    "\n"
   ]
  },
  {
   "cell_type": "code",
   "execution_count": null,
   "metadata": {},
   "outputs": [],
   "source": [
    "\n"
   ]
  },
  {
   "cell_type": "code",
   "execution_count": 48,
   "metadata": {},
   "outputs": [],
   "source": [
    "_map = {}\n",
    "_map[\"Cuerpo\"] = []\n",
    "_map[\"Seccion\"] = []\n",
    "_map[\"Tema\"] = []\n",
    "_map[\"Subtema\"] = []\n",
    "\n",
    "count = 0\n",
    "for index, row in dfNoticias.iterrows():    \n",
    "    _map[\"Cuerpo\"].append(row[\"Cuerpo\"]) \n",
    "    _map[\"Seccion\"].append(row[\"Seccion_1\"])\n",
    "    _map[\"Tema\"].append(row[\"Tema_1\"])\n",
    "    _map[\"Subtema\"].append(row[\"Subtema_1\"])\n",
    "\n",
    "df = pd.DataFrame(_map)\n",
    "# Elimino clase corporativo, muy pocos ejemplos\n",
    "df = df[df.Seccion != \"corporativo\"]\n",
    "\n",
    "    \n",
    "X_untransformed = df['Cuerpo'].reset_index(drop=True)\n",
    "y1 = df['Seccion'].reset_index(drop=True)\n",
    "y2 = df['Tema'].reset_index(drop=True)\n",
    "y3 = df['Subtema'].reset_index(drop=True)\n"
   ]
  },
  {
   "cell_type": "markdown",
   "metadata": {},
   "source": [
    "# Feature Extraccion\n",
    "\n",
    "### Data representation\n",
    "* Normalisacion\n",
    "* TFID calculation"
   ]
  },
  {
   "cell_type": "code",
   "execution_count": 49,
   "metadata": {},
   "outputs": [],
   "source": [
    "\n",
    "def normalize_text(text):\n",
    "    \"\"\" Funcion de normalizacion \"\"\"    \n",
    "    # split into words\n",
    "    tokens = nltk.tokenize.word_tokenize(text,language='spanish', preserve_line=False)\n",
    "    # convert to lower case\n",
    "    tokens = [w.lower() for w in tokens]    \n",
    "    \n",
    "    # remove punctuation from each word\n",
    "    table = str.maketrans('', '', string.punctuation)\n",
    "    stripped = [w.translate(table) for w in tokens]\n",
    "    \n",
    "    # remove remaining tokens that are n<<<<<<<<<<<<<<<<<<<<<\n",
    "    words = [word for word in stripped if word.isalpha()]\n",
    "    \n",
    "    # stop word and remove accent\n",
    "    def strip_accents(s):\n",
    "        return ''.join(c for c in unicodedata.normalize('NFD', s) if unicodedata.category(c) != 'Mn')\n",
    "    stop_words = set(spanish_stopwords)\n",
    "    words = [strip_accents(w) for w in words if not w in stop_words]\n",
    "    return words\n",
    "#    return u\" \".join(words)\n",
    "    \n",
    "#     stemmer = SnowballStemmer(\"spanish\")\n",
    "#     out = \"\"\n",
    "#     for word in words:\n",
    "#         out += stemmer.stem(word)+\" \"    \n",
    "#     return out\n",
    "\n",
    "\n",
    "\n",
    "# spanish_stopwords = stopwords.words('spanish')\n",
    "# def normalize_text(text):\n",
    "#     return u\" \".join([x for x in [y for y in text.lower().strip().split(\" \")] \n",
    "#                       if len(x) > 1 and x not in spanish_stopwords])"
   ]
  },
  {
   "cell_type": "code",
   "execution_count": null,
   "metadata": {},
   "outputs": [],
   "source": []
  },
  {
   "cell_type": "code",
   "execution_count": 50,
   "metadata": {},
   "outputs": [
    {
     "data": {
      "text/plain": [
       "'\\nLa presidenta argentina, Cristina Fernández, tomó juramento a los tres nuevos ministros de su Gabinete que designó el pasado lunes, en su primer acto público tras regresar a las funciones de Gobierno tras 40 días de reposo por una neurocirugía.\\nFernández, que alivió el riguroso luto que vestía desde la muerte de su esposo, el ex presidente Néstor Kirchner, en 2010, había aparecido en un acto en la Casa Rosada por última vez el 4 de octubre, en vísperas de la intervención a la que se sometió por un hematoma craneal.\\nCientos de militantes, en su mayoría de La Cámpora, que agrupa a las juventudes kirchneristas, abarrotaron el patio de las Palmeras, en el corazón de la Casa Rosada, para dar la bienvenida a la presidenta con banderas, ovaciones y cánticos peronistas.\\nLa ceremonia de asunción de los nuevos ministros marcó el retorno de Fernández a la Casa Rosada, sede del Ejecutivo, ya que desde su reincorporación a las funciones oficiales la mandataria había desarrollado sus actividades en la residencia presidencial de Olivos, a las afueras de Buenos Aires.\\nLos nuevos ministros\\nEn un acto breve y sin discursos, el primero en prestar juramento fue el nuevo jefe de Gabinete, Jorge Capitanich, hasta ahora gobernador de la norteña provincia de Chaco y quien reemplaza en el cargo a Juan Manuel Abal Medina.\\nFernández tomó luego juramento al nuevo ministro de Economía, el hasta ahora viceministro de esa cartera Axel Kicillof.\\nEl joven economista reemplaza a Hernán Lorenzino, quien fue designado por Fernández como embajador argentino ante la Unión Europea y que comandará además una unidad ejecutiva de reestructuración de deuda que será creada en el ámbito del Ministerio de Economía.\\nEl último en prestar juramento fue Carlos Casamiquela, hasta ahora presidente del Instituto Nacional de Tecnología Agropecuaria (INTA) de Argentina, quien sustituirá a Norberto Yauhar al frente del Ministerio de Agricultura.\\nLos tres nuevos ministros fueron designados por la presidenta el pasado lunes como parte de una renovación que también incluye el nombramiento de Juan Carlos Fábrega, presidente del estatal Banco de la Nación Argentina, como nuevo titular del Banco Central argentino, en sustitución de Mercedes Marcó del Pont.\\n'"
      ]
     },
     "execution_count": 50,
     "metadata": {},
     "output_type": "execute_result"
    }
   ],
   "source": [
    "X_untransformed[0]"
   ]
  },
  {
   "cell_type": "code",
   "execution_count": 51,
   "metadata": {},
   "outputs": [],
   "source": [
    "\n",
    "\n",
    "\n",
    "X_sample = X_untransformed[0:10]\n",
    "\n"
   ]
  },
  {
   "cell_type": "code",
   "execution_count": 52,
   "metadata": {},
   "outputs": [
    {
     "data": {
      "text/plain": [
       "'\\nLa presidenta argentina, Cristina Fernández, tomó juramento a los tres nuevos ministros de su Gabinete que designó el pasado lunes, en su primer acto público tras regresar a las funciones de Gobierno tras 40 días de reposo por una neurocirugía.\\nFernández, que alivió el riguroso luto que vestía desde la muerte de su esposo, el ex presidente Néstor Kirchner, en 2010, había aparecido en un acto en la Casa Rosada por última vez el 4 de octubre, en vísperas de la intervención a la que se sometió por un hematoma craneal.\\nCientos de militantes, en su mayoría de La Cámpora, que agrupa a las juventudes kirchneristas, abarrotaron el patio de las Palmeras, en el corazón de la Casa Rosada, para dar la bienvenida a la presidenta con banderas, ovaciones y cánticos peronistas.\\nLa ceremonia de asunción de los nuevos ministros marcó el retorno de Fernández a la Casa Rosada, sede del Ejecutivo, ya que desde su reincorporación a las funciones oficiales la mandataria había desarrollado sus actividades en la residencia presidencial de Olivos, a las afueras de Buenos Aires.\\nLos nuevos ministros\\nEn un acto breve y sin discursos, el primero en prestar juramento fue el nuevo jefe de Gabinete, Jorge Capitanich, hasta ahora gobernador de la norteña provincia de Chaco y quien reemplaza en el cargo a Juan Manuel Abal Medina.\\nFernández tomó luego juramento al nuevo ministro de Economía, el hasta ahora viceministro de esa cartera Axel Kicillof.\\nEl joven economista reemplaza a Hernán Lorenzino, quien fue designado por Fernández como embajador argentino ante la Unión Europea y que comandará además una unidad ejecutiva de reestructuración de deuda que será creada en el ámbito del Ministerio de Economía.\\nEl último en prestar juramento fue Carlos Casamiquela, hasta ahora presidente del Instituto Nacional de Tecnología Agropecuaria (INTA) de Argentina, quien sustituirá a Norberto Yauhar al frente del Ministerio de Agricultura.\\nLos tres nuevos ministros fueron designados por la presidenta el pasado lunes como parte de una renovación que también incluye el nombramiento de Juan Carlos Fábrega, presidente del estatal Banco de la Nación Argentina, como nuevo titular del Banco Central argentino, en sustitución de Mercedes Marcó del Pont.\\n'"
      ]
     },
     "execution_count": 52,
     "metadata": {},
     "output_type": "execute_result"
    }
   ],
   "source": [
    "X_sample[0]"
   ]
  },
  {
   "cell_type": "code",
   "execution_count": 67,
   "metadata": {},
   "outputs": [],
   "source": [
    "all_words = []\n",
    "X_new=[]\n",
    "lengths = []\n",
    "for idx, sample in enumerate(X_sample):\n",
    "    tmp = normalize_text(sample)\n",
    "    X_new.append(tmp)\n",
    "    all_words.extend(tmp)\n",
    "    lengths.append(len(tmp))"
   ]
  },
  {
   "cell_type": "code",
   "execution_count": 69,
   "metadata": {},
   "outputs": [
    {
     "data": {
      "text/plain": [
       "509"
      ]
     },
     "execution_count": 69,
     "metadata": {},
     "output_type": "execute_result"
    }
   ],
   "source": [
    "max(lengths)"
   ]
  },
  {
   "cell_type": "code",
   "execution_count": 65,
   "metadata": {},
   "outputs": [],
   "source": [
    "VOCAB = sorted(list(set(all_words)))\n"
   ]
  },
  {
   "cell_type": "code",
   "execution_count": 12,
   "metadata": {},
   "outputs": [],
   "source": [
    "from gensim.test.utils import common_texts, get_tmpfile\n",
    "from gensim.models import Word2Vec\n",
    "import gensim\n",
    "\n",
    "#load_word2vec_format()\n",
    "\n",
    "path = get_tmpfile(\"/opt/NLP_dev/models/word2vec/sbw_vectors.bin\")\n",
    "#Word2Vec.load(path)\n",
    "\n",
    "model = gensim.models.KeyedVectors.load_word2vec_format(path, binary=True)"
   ]
  },
  {
   "cell_type": "code",
   "execution_count": null,
   "metadata": {},
   "outputs": [],
   "source": [
    "from keras.preprocessing.text import Tokenizer\n",
    "from keras.preprocessing.sequence import pad_sequences\n",
    "from keras.utils import to_categorical\n",
    "\n",
    "EMBEDDING_DIM = 300\n",
    "MAX_SEQUENCE_LENGTH = max(lengths)\n",
    "VOCAB_SIZE = len(VOCAB)\n",
    "\n",
    "VALIDATION_SPLIT=.2\n",
    "tokenizer = Tokenizer(num_words=VOCAB_SIZE)\n",
    "tokenizer.fit_on_texts(clean_questions[\"text\"].tolist())\n",
    "sequences = tokenizer.texts_to_sequences(clean_questions[\"text\"].tolist())\n",
    "\n",
    "word_index = tokenizer.word_index\n",
    "print('Found %s unique tokens.' % len(word_index))\n",
    "\n",
    "cnn_data = pad_sequences(sequences, maxlen=MAX_SEQUENCE_LENGTH)\n",
    "labels = to_categorical(np.asarray(clean_questions[\"class_label\"]))\n",
    "\n",
    "indices = np.arange(cnn_data.shape[0])\n",
    "np.random.shuffle(indices)\n",
    "cnn_data = cnn_data[indices]\n",
    "labels = labels[indices]\n",
    "num_validation_samples = int(VALIDATION_SPLIT * cnn_data.shape[0])\n",
    "\n",
    "embedding_weights = np.zeros((len(word_index)+1, EMBEDDING_DIM))\n",
    "for word,index in word_index.items():\n",
    "    embedding_weights[index,:] = word2vec[word] if word in word2vec else np.random.rand(EMBEDDING_DIM)\n",
    "print(embedding_weights.shape)"
   ]
  },
  {
   "cell_type": "code",
   "execution_count": null,
   "metadata": {},
   "outputs": [],
   "source": [
    "for idx, word in enumerate(VOCAB):\n",
    "    hash_embedding"
   ]
  }
 ],
 "metadata": {
  "kernelspec": {
   "display_name": "tensorflow",
   "language": "python",
   "name": "tensorflow"
  },
  "language_info": {
   "codemirror_mode": {
    "name": "ipython",
    "version": 3
   },
   "file_extension": ".py",
   "mimetype": "text/x-python",
   "name": "python",
   "nbconvert_exporter": "python",
   "pygments_lexer": "ipython3",
   "version": "3.5.5"
  },
  "widgets": {
   "application/vnd.jupyter.widget-state+json": {
    "state": {},
    "version_major": 2,
    "version_minor": 0
   }
  }
 },
 "nbformat": 4,
 "nbformat_minor": 2
}

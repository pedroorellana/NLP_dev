{
 "cells": [
  {
   "cell_type": "code",
   "execution_count": 1,
   "metadata": {},
   "outputs": [
    {
     "name": "stderr",
     "output_type": "stream",
     "text": [
      "/root/anaconda3/envs/tensorflow/lib/python3.5/site-packages/h5py/__init__.py:36: FutureWarning: Conversion of the second argument of issubdtype from `float` to `np.floating` is deprecated. In future, it will be treated as `np.float64 == np.dtype(float).type`.\n",
      "  from ._conv import register_converters as _register_converters\n",
      "Using TensorFlow backend.\n"
     ]
    }
   ],
   "source": [
    "import numpy\n",
    "from keras.models import Sequential\n",
    "from keras.layers import Dense\n",
    "from keras.layers import Dropout\n",
    "from keras.layers import LSTM\n",
    "from keras.callbacks import ModelCheckpoint\n",
    "from keras.utils import np_utils\n",
    "import pandas as pd\n"
   ]
  },
  {
   "cell_type": "code",
   "execution_count": 2,
   "metadata": {},
   "outputs": [
    {
     "name": "stdout",
     "output_type": "stream",
     "text": [
      "<class 'pandas.core.frame.DataFrame'>\n",
      "Int64Index: 351681 entries, 0 to 367147\n",
      "Data columns (total 16 columns):\n",
      "Cuerpo       351681 non-null object\n",
      "Fecha        351681 non-null object\n",
      "Hora         351681 non-null object\n",
      "ID           351681 non-null object\n",
      "Resumen      350517 non-null object\n",
      "Seccion_1    351681 non-null object\n",
      "Seccion_2    187037 non-null object\n",
      "Seccion_3    59174 non-null object\n",
      "Subtema_1    255959 non-null object\n",
      "Subtema_2    114189 non-null object\n",
      "Subtema_3    39513 non-null object\n",
      "Tema_1       349253 non-null object\n",
      "Tema_2       179833 non-null object\n",
      "Tema_3       57572 non-null object\n",
      "Titular      351681 non-null object\n",
      "Type         351680 non-null object\n",
      "dtypes: object(16)\n",
      "memory usage: 45.6+ MB\n"
     ]
    }
   ],
   "source": [
    "root_path = \"../\"\n",
    "path_data_clean = root_path + \"data/clean/\"\n",
    "dfNoticias = pd.read_pickle(path_data_clean + \"/dfNoticiasCleanV2.p\")\n",
    "\n",
    "\n",
    "dfNoticias.info()"
   ]
  },
  {
   "cell_type": "code",
   "execution_count": 3,
   "metadata": {},
   "outputs": [],
   "source": [
    "raw_text = \"\"\n",
    "\n",
    "count = 0\n",
    "for index, row in dfNoticias.iterrows():    \n",
    "    if index < 700:\n",
    "        raw_text += row[\"Cuerpo\"]"
   ]
  },
  {
   "cell_type": "code",
   "execution_count": null,
   "metadata": {},
   "outputs": [],
   "source": []
  },
  {
   "cell_type": "code",
   "execution_count": 4,
   "metadata": {},
   "outputs": [],
   "source": [
    "# load ascii text and covert to lowercase\n",
    "raw_text = raw_text.lower()\n",
    "\n",
    "# create mapping of unique chars to integers\n",
    "chars = sorted(list(set(raw_text)))\n",
    "char_to_int = dict((c, i) for i, c in enumerate(chars))"
   ]
  },
  {
   "cell_type": "code",
   "execution_count": null,
   "metadata": {},
   "outputs": [],
   "source": []
  },
  {
   "cell_type": "code",
   "execution_count": 5,
   "metadata": {},
   "outputs": [
    {
     "name": "stdout",
     "output_type": "stream",
     "text": [
      "Total Characters:  1118101\n",
      "Total Vocab:  90\n"
     ]
    }
   ],
   "source": [
    "n_chars = len(raw_text)\n",
    "n_vocab = len(chars)\n",
    "print (\"Total Characters: \", n_chars)\n",
    "print (\"Total Vocab: \", n_vocab)"
   ]
  },
  {
   "cell_type": "code",
   "execution_count": 6,
   "metadata": {},
   "outputs": [
    {
     "name": "stdout",
     "output_type": "stream",
     "text": [
      "Total Patterns:  1118001\n"
     ]
    }
   ],
   "source": [
    "\n",
    "\n",
    "# prepare the dataset of input to output pairs encoded as integers\n",
    "seq_length = 100\n",
    "dataX = []\n",
    "dataY = []\n",
    "for i in range(0, n_chars - seq_length, 1):\n",
    "\tseq_in = raw_text[i:i + seq_length]\n",
    "\tseq_out = raw_text[i + seq_length]\n",
    "\tdataX.append([char_to_int[char] for char in seq_in])\n",
    "\tdataY.append(char_to_int[seq_out])\n",
    "n_patterns = len(dataX)\n",
    "print( \"Total Patterns: \", n_patterns)\n"
   ]
  },
  {
   "cell_type": "code",
   "execution_count": 7,
   "metadata": {},
   "outputs": [],
   "source": [
    "\n",
    "\n",
    "# reshape X to be [samples, time steps, features]\n",
    "X = numpy.reshape(dataX, (n_patterns, seq_length, 1))\n",
    "# normalize\n",
    "X = X / float(n_vocab)\n",
    "# one hot encode the output variable\n",
    "y = np_utils.to_categorical(dataY)\n"
   ]
  },
  {
   "cell_type": "code",
   "execution_count": 8,
   "metadata": {},
   "outputs": [],
   "source": [
    "\n",
    "\n",
    "# define the LSTM model\n",
    "\n",
    "# model = Sequential()\n",
    "# model.add(LSTM(256, input_shape=(X.shape[1], X.shape[2])))\n",
    "# model.add(Dropout(0.5))\n",
    "# model.add(Dense(y.shape[1], activation='softmax'))\n",
    "# model.compile(loss='categorical_crossentropy', optimizer='adam')\n",
    "\n",
    "\n",
    "model = Sequential()\n",
    "model.add(LSTM(512, input_shape=(X.shape[1], X.shape[2]), return_sequences=True))\n",
    "model.add(Dropout(0.5))\n",
    "model.add(LSTM(512))\n",
    "model.add(Dropout(0.5))\n",
    "model.add(Dense(y.shape[1], activation='softmax'))\n",
    "model.compile(loss='categorical_crossentropy', optimizer='adam')\n",
    "\n",
    "\n"
   ]
  },
  {
   "cell_type": "code",
   "execution_count": 9,
   "metadata": {},
   "outputs": [],
   "source": [
    "# define the checkpoint\n",
    "#filepath=\"weights-improvement-{epoch:02d}-{loss:.4f}.hdf5\"\n",
    "\n",
    "\n",
    "filepath=\"weights-improvement-{epoch:02d}-{loss:.4f}-test1.hdf5\"\n",
    "checkpoint = ModelCheckpoint(filepath, monitor='loss', verbose=1, save_best_only=True, mode='min')\n",
    "callbacks_list = [checkpoint]"
   ]
  },
  {
   "cell_type": "markdown",
   "metadata": {},
   "source": [
    "Concatenating all pg essays over the last ~5 years we get approximately 1MB text file, or about 1 million characters (this is considered a very small dataset by the way). Technical: Lets train a 2-layer LSTM with 512 hidden nodes (approx. 3.5 million parameters), and with dropout of 0.5 after each layer. We’ll train with batches of 100 examples and truncated backpropagation through time of length 100 characters. With these settings one batch on a TITAN Z GPU takes about 0.46 seconds (this can be cut in half with 50 character BPTT at negligible cost in performance). Without further ado, lets see a sample from the RNN:"
   ]
  },
  {
   "cell_type": "code",
   "execution_count": 10,
   "metadata": {},
   "outputs": [
    {
     "name": "stdout",
     "output_type": "stream",
     "text": [
      "start\n",
      "Epoch 1/50\n",
      "1118001/1118001 [==============================] - 1921s 2ms/step - loss: 2.6158\n",
      "\n",
      "Epoch 00001: loss improved from inf to 2.61581, saving model to weights-improvement-01-2.6158-bigger.hdf5\n",
      "Epoch 2/50\n",
      "1118001/1118001 [==============================] - 1923s 2ms/step - loss: 2.2301\n",
      "\n",
      "Epoch 00002: loss improved from 2.61581 to 2.23013, saving model to weights-improvement-02-2.2301-bigger.hdf5\n",
      "Epoch 3/50\n",
      "1118001/1118001 [==============================] - 1923s 2ms/step - loss: 2.0392\n",
      "\n",
      "Epoch 00003: loss improved from 2.23013 to 2.03921, saving model to weights-improvement-03-2.0392-bigger.hdf5\n",
      "Epoch 4/50\n",
      "1118001/1118001 [==============================] - 1923s 2ms/step - loss: 1.9209\n",
      "\n",
      "Epoch 00004: loss improved from 2.03921 to 1.92088, saving model to weights-improvement-04-1.9209-bigger.hdf5\n",
      "Epoch 5/50\n",
      "1118001/1118001 [==============================] - 1924s 2ms/step - loss: 1.8413\n",
      "\n",
      "Epoch 00005: loss improved from 1.92088 to 1.84127, saving model to weights-improvement-05-1.8413-bigger.hdf5\n",
      "Epoch 6/50\n",
      "1118001/1118001 [==============================] - 1922s 2ms/step - loss: 1.7822\n",
      "\n",
      "Epoch 00006: loss improved from 1.84127 to 1.78219, saving model to weights-improvement-06-1.7822-bigger.hdf5\n",
      "Epoch 7/50\n",
      "1118001/1118001 [==============================] - 1923s 2ms/step - loss: 1.7358\n",
      "\n",
      "Epoch 00007: loss improved from 1.78219 to 1.73581, saving model to weights-improvement-07-1.7358-bigger.hdf5\n",
      "Epoch 8/50\n",
      "1118001/1118001 [==============================] - 1924s 2ms/step - loss: 1.6982\n",
      "\n",
      "Epoch 00008: loss improved from 1.73581 to 1.69815, saving model to weights-improvement-08-1.6982-bigger.hdf5\n",
      "Epoch 9/50\n",
      "1118001/1118001 [==============================] - 1924s 2ms/step - loss: 1.6671\n",
      "\n",
      "Epoch 00009: loss improved from 1.69815 to 1.66706, saving model to weights-improvement-09-1.6671-bigger.hdf5\n",
      "Epoch 10/50\n",
      "1118001/1118001 [==============================] - 1923s 2ms/step - loss: 1.6420\n",
      "\n",
      "Epoch 00010: loss improved from 1.66706 to 1.64204, saving model to weights-improvement-10-1.6420-bigger.hdf5\n",
      "Epoch 11/50\n",
      "1118001/1118001 [==============================] - 1924s 2ms/step - loss: 1.6201\n",
      "\n",
      "Epoch 00011: loss improved from 1.64204 to 1.62011, saving model to weights-improvement-11-1.6201-bigger.hdf5\n",
      "Epoch 12/50\n",
      "1118001/1118001 [==============================] - 1923s 2ms/step - loss: 1.6011\n",
      "\n",
      "Epoch 00012: loss improved from 1.62011 to 1.60106, saving model to weights-improvement-12-1.6011-bigger.hdf5\n",
      "Epoch 13/50\n",
      "1118001/1118001 [==============================] - 1922s 2ms/step - loss: 1.5851\n",
      "\n",
      "Epoch 00013: loss improved from 1.60106 to 1.58515, saving model to weights-improvement-13-1.5851-bigger.hdf5\n",
      "Epoch 14/50\n",
      "1118001/1118001 [==============================] - 1923s 2ms/step - loss: 1.5710\n",
      "\n",
      "Epoch 00014: loss improved from 1.58515 to 1.57098, saving model to weights-improvement-14-1.5710-bigger.hdf5\n",
      "Epoch 15/50\n",
      "1118001/1118001 [==============================] - 1922s 2ms/step - loss: 1.5571\n",
      "\n",
      "Epoch 00015: loss improved from 1.57098 to 1.55708, saving model to weights-improvement-15-1.5571-bigger.hdf5\n",
      "Epoch 16/50\n",
      "1118001/1118001 [==============================] - 1923s 2ms/step - loss: 1.5449\n",
      "\n",
      "Epoch 00016: loss improved from 1.55708 to 1.54495, saving model to weights-improvement-16-1.5449-bigger.hdf5\n",
      "Epoch 17/50\n",
      "1118001/1118001 [==============================] - 1923s 2ms/step - loss: 1.5357\n",
      "\n",
      "Epoch 00017: loss improved from 1.54495 to 1.53571, saving model to weights-improvement-17-1.5357-bigger.hdf5\n",
      "Epoch 18/50\n",
      "1118001/1118001 [==============================] - 1922s 2ms/step - loss: 1.5254\n",
      "\n",
      "Epoch 00018: loss improved from 1.53571 to 1.52545, saving model to weights-improvement-18-1.5254-bigger.hdf5\n",
      "Epoch 19/50\n",
      "1118001/1118001 [==============================] - 1924s 2ms/step - loss: 1.5162\n",
      "\n",
      "Epoch 00019: loss improved from 1.52545 to 1.51620, saving model to weights-improvement-19-1.5162-bigger.hdf5\n",
      "Epoch 20/50\n",
      "1118001/1118001 [==============================] - 1923s 2ms/step - loss: 1.5077\n",
      "\n",
      "Epoch 00020: loss improved from 1.51620 to 1.50767, saving model to weights-improvement-20-1.5077-bigger.hdf5\n",
      "Epoch 21/50\n",
      "1118001/1118001 [==============================] - 1924s 2ms/step - loss: 1.5008\n",
      "\n",
      "Epoch 00021: loss improved from 1.50767 to 1.50076, saving model to weights-improvement-21-1.5008-bigger.hdf5\n",
      "Epoch 22/50\n",
      "1118001/1118001 [==============================] - 1922s 2ms/step - loss: 1.4924\n",
      "\n",
      "Epoch 00022: loss improved from 1.50076 to 1.49241, saving model to weights-improvement-22-1.4924-bigger.hdf5\n",
      "Epoch 23/50\n",
      "1118001/1118001 [==============================] - 1924s 2ms/step - loss: 1.4859\n",
      "\n",
      "Epoch 00023: loss improved from 1.49241 to 1.48589, saving model to weights-improvement-23-1.4859-bigger.hdf5\n",
      "Epoch 24/50\n",
      "1118001/1118001 [==============================] - 1925s 2ms/step - loss: 1.4785\n",
      "\n",
      "Epoch 00024: loss improved from 1.48589 to 1.47846, saving model to weights-improvement-24-1.4785-bigger.hdf5\n",
      "Epoch 25/50\n",
      "1118001/1118001 [==============================] - 1921s 2ms/step - loss: 1.4919\n",
      "\n",
      "Epoch 00025: loss did not improve from 1.47846\n",
      "Epoch 26/50\n",
      "1118001/1118001 [==============================] - 1923s 2ms/step - loss: 1.4667\n",
      "\n",
      "Epoch 00026: loss improved from 1.47846 to 1.46672, saving model to weights-improvement-26-1.4667-bigger.hdf5\n",
      "Epoch 27/50\n",
      "1118001/1118001 [==============================] - 1923s 2ms/step - loss: 1.4641\n",
      "\n",
      "Epoch 00027: loss improved from 1.46672 to 1.46409, saving model to weights-improvement-27-1.4641-bigger.hdf5\n",
      "Epoch 28/50\n",
      "  99968/1118001 [=>............................] - ETA: 39:00 - loss: 1.4354"
     ]
    },
    {
     "ename": "KeyboardInterrupt",
     "evalue": "",
     "output_type": "error",
     "traceback": [
      "\u001b[0;31m---------------------------------------------------------------------------\u001b[0m",
      "\u001b[0;31mKeyboardInterrupt\u001b[0m                         Traceback (most recent call last)",
      "\u001b[0;32m<ipython-input-10-dff48cfcdfc6>\u001b[0m in \u001b[0;36m<module>\u001b[0;34m()\u001b[0m\n\u001b[1;32m      3\u001b[0m \u001b[0;31m# start = time.time()/\u001b[0m\u001b[0;34m\u001b[0m\u001b[0;34m\u001b[0m\u001b[0m\n\u001b[1;32m      4\u001b[0m \u001b[0;34m\u001b[0m\u001b[0m\n\u001b[0;32m----> 5\u001b[0;31m \u001b[0mmodel\u001b[0m\u001b[0;34m.\u001b[0m\u001b[0mfit\u001b[0m\u001b[0;34m(\u001b[0m\u001b[0mX\u001b[0m\u001b[0;34m,\u001b[0m \u001b[0my\u001b[0m\u001b[0;34m,\u001b[0m \u001b[0mepochs\u001b[0m\u001b[0;34m=\u001b[0m\u001b[0;36m50\u001b[0m\u001b[0;34m,\u001b[0m \u001b[0mbatch_size\u001b[0m\u001b[0;34m=\u001b[0m\u001b[0;36m128\u001b[0m\u001b[0;34m,\u001b[0m \u001b[0mcallbacks\u001b[0m\u001b[0;34m=\u001b[0m\u001b[0mcallbacks_list\u001b[0m\u001b[0;34m)\u001b[0m\u001b[0;34m\u001b[0m\u001b[0m\n\u001b[0m\u001b[1;32m      6\u001b[0m \u001b[0;34m\u001b[0m\u001b[0m\n\u001b[1;32m      7\u001b[0m \u001b[0mend\u001b[0m \u001b[0;34m=\u001b[0m \u001b[0mtime\u001b[0m\u001b[0;34m.\u001b[0m\u001b[0mtime\u001b[0m\u001b[0;34m(\u001b[0m\u001b[0;34m)\u001b[0m\u001b[0;34m\u001b[0m\u001b[0m\n",
      "\u001b[0;32m~/anaconda3/envs/tensorflow/lib/python3.5/site-packages/keras/engine/training.py\u001b[0m in \u001b[0;36mfit\u001b[0;34m(self, x, y, batch_size, epochs, verbose, callbacks, validation_split, validation_data, shuffle, class_weight, sample_weight, initial_epoch, steps_per_epoch, validation_steps, **kwargs)\u001b[0m\n\u001b[1;32m   1035\u001b[0m                                         \u001b[0minitial_epoch\u001b[0m\u001b[0;34m=\u001b[0m\u001b[0minitial_epoch\u001b[0m\u001b[0;34m,\u001b[0m\u001b[0;34m\u001b[0m\u001b[0m\n\u001b[1;32m   1036\u001b[0m                                         \u001b[0msteps_per_epoch\u001b[0m\u001b[0;34m=\u001b[0m\u001b[0msteps_per_epoch\u001b[0m\u001b[0;34m,\u001b[0m\u001b[0;34m\u001b[0m\u001b[0m\n\u001b[0;32m-> 1037\u001b[0;31m                                         validation_steps=validation_steps)\n\u001b[0m\u001b[1;32m   1038\u001b[0m \u001b[0;34m\u001b[0m\u001b[0m\n\u001b[1;32m   1039\u001b[0m     def evaluate(self, x=None, y=None,\n",
      "\u001b[0;32m~/anaconda3/envs/tensorflow/lib/python3.5/site-packages/keras/engine/training_arrays.py\u001b[0m in \u001b[0;36mfit_loop\u001b[0;34m(model, f, ins, out_labels, batch_size, epochs, verbose, callbacks, val_f, val_ins, shuffle, callback_metrics, initial_epoch, steps_per_epoch, validation_steps)\u001b[0m\n\u001b[1;32m    197\u001b[0m                     \u001b[0mins_batch\u001b[0m\u001b[0;34m[\u001b[0m\u001b[0mi\u001b[0m\u001b[0;34m]\u001b[0m \u001b[0;34m=\u001b[0m \u001b[0mins_batch\u001b[0m\u001b[0;34m[\u001b[0m\u001b[0mi\u001b[0m\u001b[0;34m]\u001b[0m\u001b[0;34m.\u001b[0m\u001b[0mtoarray\u001b[0m\u001b[0;34m(\u001b[0m\u001b[0;34m)\u001b[0m\u001b[0;34m\u001b[0m\u001b[0m\n\u001b[1;32m    198\u001b[0m \u001b[0;34m\u001b[0m\u001b[0m\n\u001b[0;32m--> 199\u001b[0;31m                 \u001b[0mouts\u001b[0m \u001b[0;34m=\u001b[0m \u001b[0mf\u001b[0m\u001b[0;34m(\u001b[0m\u001b[0mins_batch\u001b[0m\u001b[0;34m)\u001b[0m\u001b[0;34m\u001b[0m\u001b[0m\n\u001b[0m\u001b[1;32m    200\u001b[0m                 \u001b[0mouts\u001b[0m \u001b[0;34m=\u001b[0m \u001b[0mto_list\u001b[0m\u001b[0;34m(\u001b[0m\u001b[0mouts\u001b[0m\u001b[0;34m)\u001b[0m\u001b[0;34m\u001b[0m\u001b[0m\n\u001b[1;32m    201\u001b[0m                 \u001b[0;32mfor\u001b[0m \u001b[0ml\u001b[0m\u001b[0;34m,\u001b[0m \u001b[0mo\u001b[0m \u001b[0;32min\u001b[0m \u001b[0mzip\u001b[0m\u001b[0;34m(\u001b[0m\u001b[0mout_labels\u001b[0m\u001b[0;34m,\u001b[0m \u001b[0mouts\u001b[0m\u001b[0;34m)\u001b[0m\u001b[0;34m:\u001b[0m\u001b[0;34m\u001b[0m\u001b[0m\n",
      "\u001b[0;32m~/anaconda3/envs/tensorflow/lib/python3.5/site-packages/keras/backend/tensorflow_backend.py\u001b[0m in \u001b[0;36m__call__\u001b[0;34m(self, inputs)\u001b[0m\n\u001b[1;32m   2664\u001b[0m                 \u001b[0;32mreturn\u001b[0m \u001b[0mself\u001b[0m\u001b[0;34m.\u001b[0m\u001b[0m_legacy_call\u001b[0m\u001b[0;34m(\u001b[0m\u001b[0minputs\u001b[0m\u001b[0;34m)\u001b[0m\u001b[0;34m\u001b[0m\u001b[0m\n\u001b[1;32m   2665\u001b[0m \u001b[0;34m\u001b[0m\u001b[0m\n\u001b[0;32m-> 2666\u001b[0;31m             \u001b[0;32mreturn\u001b[0m \u001b[0mself\u001b[0m\u001b[0;34m.\u001b[0m\u001b[0m_call\u001b[0m\u001b[0;34m(\u001b[0m\u001b[0minputs\u001b[0m\u001b[0;34m)\u001b[0m\u001b[0;34m\u001b[0m\u001b[0m\n\u001b[0m\u001b[1;32m   2667\u001b[0m         \u001b[0;32melse\u001b[0m\u001b[0;34m:\u001b[0m\u001b[0;34m\u001b[0m\u001b[0m\n\u001b[1;32m   2668\u001b[0m             \u001b[0;32mif\u001b[0m \u001b[0mpy_any\u001b[0m\u001b[0;34m(\u001b[0m\u001b[0mis_tensor\u001b[0m\u001b[0;34m(\u001b[0m\u001b[0mx\u001b[0m\u001b[0;34m)\u001b[0m \u001b[0;32mfor\u001b[0m \u001b[0mx\u001b[0m \u001b[0;32min\u001b[0m \u001b[0minputs\u001b[0m\u001b[0;34m)\u001b[0m\u001b[0;34m:\u001b[0m\u001b[0;34m\u001b[0m\u001b[0m\n",
      "\u001b[0;32m~/anaconda3/envs/tensorflow/lib/python3.5/site-packages/keras/backend/tensorflow_backend.py\u001b[0m in \u001b[0;36m_call\u001b[0;34m(self, inputs)\u001b[0m\n\u001b[1;32m   2634\u001b[0m                                 \u001b[0msymbol_vals\u001b[0m\u001b[0;34m,\u001b[0m\u001b[0;34m\u001b[0m\u001b[0m\n\u001b[1;32m   2635\u001b[0m                                 session)\n\u001b[0;32m-> 2636\u001b[0;31m         \u001b[0mfetched\u001b[0m \u001b[0;34m=\u001b[0m \u001b[0mself\u001b[0m\u001b[0;34m.\u001b[0m\u001b[0m_callable_fn\u001b[0m\u001b[0;34m(\u001b[0m\u001b[0;34m*\u001b[0m\u001b[0marray_vals\u001b[0m\u001b[0;34m)\u001b[0m\u001b[0;34m\u001b[0m\u001b[0m\n\u001b[0m\u001b[1;32m   2637\u001b[0m         \u001b[0;32mreturn\u001b[0m \u001b[0mfetched\u001b[0m\u001b[0;34m[\u001b[0m\u001b[0;34m:\u001b[0m\u001b[0mlen\u001b[0m\u001b[0;34m(\u001b[0m\u001b[0mself\u001b[0m\u001b[0;34m.\u001b[0m\u001b[0moutputs\u001b[0m\u001b[0;34m)\u001b[0m\u001b[0;34m]\u001b[0m\u001b[0;34m\u001b[0m\u001b[0m\n\u001b[1;32m   2638\u001b[0m \u001b[0;34m\u001b[0m\u001b[0m\n",
      "\u001b[0;32m~/anaconda3/envs/tensorflow/lib/python3.5/site-packages/tensorflow/python/client/session.py\u001b[0m in \u001b[0;36m__call__\u001b[0;34m(self, *args, **kwargs)\u001b[0m\n\u001b[1;32m   1380\u001b[0m           ret = tf_session.TF_SessionRunCallable(\n\u001b[1;32m   1381\u001b[0m               \u001b[0mself\u001b[0m\u001b[0;34m.\u001b[0m\u001b[0m_session\u001b[0m\u001b[0;34m.\u001b[0m\u001b[0m_session\u001b[0m\u001b[0;34m,\u001b[0m \u001b[0mself\u001b[0m\u001b[0;34m.\u001b[0m\u001b[0m_handle\u001b[0m\u001b[0;34m,\u001b[0m \u001b[0margs\u001b[0m\u001b[0;34m,\u001b[0m \u001b[0mstatus\u001b[0m\u001b[0;34m,\u001b[0m\u001b[0;34m\u001b[0m\u001b[0m\n\u001b[0;32m-> 1382\u001b[0;31m               run_metadata_ptr)\n\u001b[0m\u001b[1;32m   1383\u001b[0m         \u001b[0;32mif\u001b[0m \u001b[0mrun_metadata\u001b[0m\u001b[0;34m:\u001b[0m\u001b[0;34m\u001b[0m\u001b[0m\n\u001b[1;32m   1384\u001b[0m           \u001b[0mproto_data\u001b[0m \u001b[0;34m=\u001b[0m \u001b[0mtf_session\u001b[0m\u001b[0;34m.\u001b[0m\u001b[0mTF_GetBuffer\u001b[0m\u001b[0;34m(\u001b[0m\u001b[0mrun_metadata_ptr\u001b[0m\u001b[0;34m)\u001b[0m\u001b[0;34m\u001b[0m\u001b[0m\n",
      "\u001b[0;31mKeyboardInterrupt\u001b[0m: "
     ]
    }
   ],
   "source": [
    "import time\n",
    "print(\"start\")\n",
    "# start = time.time()/\n",
    "\n",
    "model.fit(X, y, epochs=50, batch_size=128, callbacks=callbacks_list)\n",
    "\n",
    "end = time.time()\n",
    "print(\"Training time :\" + str(end - start) )"
   ]
  },
  {
   "cell_type": "code",
   "execution_count": null,
   "metadata": {},
   "outputs": [],
   "source": []
  }
 ],
 "metadata": {
  "kernelspec": {
   "display_name": "tensorflow_cpu",
   "language": "python",
   "name": "tensorflow_cpu"
  },
  "language_info": {
   "codemirror_mode": {
    "name": "ipython",
    "version": 3
   },
   "file_extension": ".py",
   "mimetype": "text/x-python",
   "name": "python",
   "nbconvert_exporter": "python",
   "pygments_lexer": "ipython3",
   "version": "3.5.5"
  }
 },
 "nbformat": 4,
 "nbformat_minor": 2
}

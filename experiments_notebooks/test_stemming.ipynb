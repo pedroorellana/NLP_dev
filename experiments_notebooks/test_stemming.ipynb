{
 "cells": [
  {
   "cell_type": "markdown",
   "metadata": {},
   "source": [
    "### stemming test"
   ]
  },
  {
   "cell_type": "code",
   "execution_count": 2,
   "metadata": {},
   "outputs": [],
   "source": [
    "from nltk.stem.snowball import SnowballStemmer"
   ]
  },
  {
   "cell_type": "code",
   "execution_count": 3,
   "metadata": {},
   "outputs": [
    {
     "name": "stdout",
     "output_type": "stream",
     "text": [
      "arabic danish dutch english finnish french german hungarian italian norwegian porter portuguese romanian russian spanish swedish\n"
     ]
    }
   ],
   "source": [
    "print(\" \".join(SnowballStemmer.languages))"
   ]
  },
  {
   "cell_type": "code",
   "execution_count": 4,
   "metadata": {},
   "outputs": [],
   "source": [
    "words = [\"game\",\"gaming\",\"gamed\",\"games\"]\n",
    "\n",
    "stemmer = SnowballStemmer(\"english\")\n",
    "\n",
    "\n",
    "for word in words:\n",
    "    print(stemmer.stem(word))"
   ]
  },
  {
   "cell_type": "code",
   "execution_count": 12,
   "metadata": {},
   "outputs": [
    {
     "name": "stdout",
     "output_type": "stream",
     "text": [
      "game\n",
      "game\n",
      "game\n",
      "game\n"
     ]
    }
   ],
   "source": [
    "from nltk.stem import PorterStemmer\n",
    "from nltk.tokenize import sent_tokenize, word_tokenize\n",
    " \n",
    "ps = PorterStemmer()\n",
    " \n",
    "for word in words:\n",
    "    print(ps.stem(word))"
   ]
  },
  {
   "cell_type": "code",
   "execution_count": 15,
   "metadata": {},
   "outputs": [
    {
     "name": "stdout",
     "output_type": "stream",
     "text": [
      "problemas agenda jueza tribunal garantia temuco encabeza preparacion juicio oral machi celestino cordova imputado ataque incendiario termino vida matrimonio luchsingermackay debio postergar audiencia proximo lunes diciembre situacion causo malestar ministerio publico querellantes debido sucesivas postergaciones procedimiento esperaba durara semana paulatinamente ido postergando abogada karina riquelme representacion defensa machi indico postergacion sirve demostrar inocencia imputado realizando todas pericias correspondientes poder probar antecedentes expuesto momento fiscalia unica podido acreditar cerca peritos testigos juicio oral ahora debido nueva postergacion realizaria principios proximo ano\n"
     ]
    }
   ],
   "source": [
    "test = \"problemas agenda jueza tribunal garantia temuco encabeza preparacion juicio oral machi celestino cordova imputado ataque incendiario termino vida matrimonio luchsingermackay debio postergar audiencia proximo lunes diciembre situacion causo malestar ministerio publico querellantes debido sucesivas postergaciones procedimiento esperaba durara semana paulatinamente ido postergando abogada karina riquelme representacion defensa machi indico postergacion sirve demostrar inocencia imputado realizando todas pericias correspondientes poder probar antecedentes expuesto momento fiscalia unica podido acreditar cerca peritos testigos juicio oral ahora debido nueva postergacion realizaria principios proximo ano\"\n",
    "print(test)"
   ]
  },
  {
   "cell_type": "code",
   "execution_count": 24,
   "metadata": {},
   "outputs": [
    {
     "name": "stdout",
     "output_type": "stream",
     "text": [
      "problem agend juez tribunal garanti temuc encabez preparacion juici oral machi celestin cordov imput ataqu incendiari termin vid matrimoni luchsingermackay debi posterg audienci proxim lun diciembr situacion caus malest ministeri public querell deb suces posterg proced esper dur seman paulatin ido posterg abog karin riquelm representacion defens machi indic postergacion sirv demostr inocent imput realiz tod perici correspondient pod prob antecedent expuest moment fiscali unic pod acredit cerc perit testig juici oral ahor deb nuev postergacion realizari principi proxim ano \n"
     ]
    }
   ],
   "source": [
    "stemmer = SnowballStemmer(\"spanish\")\n",
    "\n",
    "out = \"\"\n",
    "split_test = test.split(\" \")\n",
    "for word in split_test:\n",
    "    out += stemmer.stem(word)+\" \"\n",
    "print(out)"
   ]
  },
  {
   "cell_type": "code",
   "execution_count": null,
   "metadata": {},
   "outputs": [],
   "source": []
  }
 ],
 "metadata": {
  "kernelspec": {
   "display_name": "Python 3",
   "language": "python",
   "name": "python3"
  },
  "language_info": {
   "codemirror_mode": {
    "name": "ipython",
    "version": 3
   },
   "file_extension": ".py",
   "mimetype": "text/x-python",
   "name": "python",
   "nbconvert_exporter": "python",
   "pygments_lexer": "ipython3",
   "version": "3.6.4"
  }
 },
 "nbformat": 4,
 "nbformat_minor": 2
}

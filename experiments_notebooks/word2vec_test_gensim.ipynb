{
 "cells": [
  {
   "cell_type": "code",
   "execution_count": 7,
   "metadata": {},
   "outputs": [],
   "source": [
    "from gensim.test.utils import common_texts, get_tmpfile\n",
    "from gensim.models import Word2Vec\n",
    "import gensim\n",
    "\n",
    "#load_word2vec_format()\n",
    "\n",
    "path = get_tmpfile(\"/opt/NLP_dev/models/word2vec/sbw_vectors.bin\")\n",
    "#Word2Vec.load(path)\n",
    "\n",
    "model = gensim.models.KeyedVectors.load_word2vec_format(path, binary=True)"
   ]
  },
  {
   "cell_type": "code",
   "execution_count": 12,
   "metadata": {},
   "outputs": [
    {
     "data": {
      "text/plain": [
       "[('hija', 1.0861185789108276),\n",
       " ('esposa', 1.043683648109436),\n",
       " ('hermana', 1.0277693271636963),\n",
       " ('nieta', 1.024381399154663),\n",
       " ('sobrina', 1.0076571702957153),\n",
       " ('nuera', 1.0004957914352417),\n",
       " ('madre', 0.9996746182441711),\n",
       " ('esposo', 0.9956917762756348),\n",
       " ('cuñada', 0.9892187714576721),\n",
       " ('hijas', 0.9816705584526062)]"
      ]
     },
     "execution_count": 12,
     "metadata": {},
     "output_type": "execute_result"
    }
   ],
   "source": [
    "model.most_similar_cosmul(positive=['hijo','mujer'],negative=['hombre'])\n"
   ]
  },
  {
   "cell_type": "code",
   "execution_count": 16,
   "metadata": {},
   "outputs": [
    {
     "data": {
      "text/plain": [
       "array([ 2.51137972e-01, -2.13674977e-01, -2.05295905e-01, -1.04324967e-01,\n",
       "        3.96103524e-02, -1.18105717e-01, -4.38513756e-01, -3.66965160e-02,\n",
       "        1.83022365e-01,  3.79712731e-01, -2.59119928e-01, -6.90939650e-02,\n",
       "        4.26854938e-02, -2.79673692e-02,  8.63504484e-02,  1.79941669e-01,\n",
       "       -2.85969656e-02, -4.80267033e-02, -1.70048550e-01,  3.66727203e-01,\n",
       "       -9.68441293e-02, -2.90464740e-02,  3.72554399e-02, -7.84512609e-02,\n",
       "        1.95174783e-01, -2.51189381e-01,  1.59183547e-01,  3.05624902e-01,\n",
       "        9.86608416e-02,  1.42366990e-01,  1.91903904e-01,  7.06648640e-03,\n",
       "        2.22087592e-01,  3.57185692e-01,  1.52698055e-01, -1.00801364e-01,\n",
       "        5.36347888e-02, -2.43852168e-01, -5.62073514e-02, -2.70776331e-01,\n",
       "        7.79581144e-02,  2.41365746e-01, -1.82452396e-01,  1.61730543e-01,\n",
       "       -2.65811533e-01,  1.09112009e-01,  7.86614120e-02,  1.42224044e-01,\n",
       "       -9.48441997e-02,  5.83094239e-01,  3.09277654e-01,  1.04443133e-01,\n",
       "        2.35980496e-01,  1.95039555e-01, -4.13523428e-02, -1.04247242e-01,\n",
       "       -3.35019529e-01,  1.00880697e-01, -5.11458330e-02,  1.91788003e-01,\n",
       "       -1.70667440e-01,  2.59556234e-01,  8.30450132e-02,  1.63265765e-01,\n",
       "       -1.72586754e-01,  2.25207448e-01, -1.24592371e-01,  3.81521285e-01,\n",
       "        2.28357166e-01, -1.47988737e-01, -8.80270824e-02,  6.05788529e-02,\n",
       "        9.28656757e-02,  2.51038581e-01, -3.44394982e-01,  4.09289211e-01,\n",
       "       -1.38557702e-01,  2.18373835e-01,  4.57024761e-02, -2.02313587e-01,\n",
       "        2.76121367e-02, -1.81237571e-02,  8.97420049e-02,  2.21140012e-01,\n",
       "        3.56721789e-01, -1.92553237e-01, -8.45045969e-02, -1.37614191e-01,\n",
       "        1.98537380e-01,  4.52699922e-02,  9.31063667e-02,  7.54835531e-02,\n",
       "        2.80235969e-02,  6.30129203e-02,  3.11177343e-01, -2.58234054e-01,\n",
       "        1.30724624e-01, -3.01603526e-01,  1.41322631e-02,  3.91090184e-01,\n",
       "       -2.93475121e-01, -1.39871344e-01, -1.30018309e-01,  5.13906181e-01,\n",
       "        1.23269647e-01,  6.03318930e-01, -1.00532249e-01, -1.73618734e-01,\n",
       "        8.55423659e-02,  6.52207658e-02,  7.89389759e-02,  1.44181728e-01,\n",
       "        6.55180216e-02,  1.02174737e-01,  2.22571101e-02,  1.11491211e-01,\n",
       "        4.47209358e-01,  1.70903504e-01, -1.27623484e-01, -7.45329186e-02,\n",
       "       -2.59454727e-01, -1.15248514e-02, -1.80451542e-01, -2.03507259e-01,\n",
       "       -7.55327493e-02, -4.13131230e-02,  2.19161019e-01, -2.11972162e-01,\n",
       "        3.98257002e-02, -4.24108543e-02,  3.81549634e-02, -2.19947219e-01,\n",
       "        1.67410821e-01, -1.95951864e-01, -2.16396585e-01,  9.63556394e-02,\n",
       "       -1.27802357e-01, -5.94988048e-01,  3.26176345e-01,  2.44354770e-01,\n",
       "        1.72601119e-01,  3.40183556e-01, -3.04716229e-01,  1.06199710e-02,\n",
       "       -3.18329126e-01,  1.72177911e-01, -2.31153935e-01, -4.09000516e-02,\n",
       "       -2.21192613e-02, -1.37702033e-01,  6.23603119e-03, -2.29408708e-03,\n",
       "        4.53381576e-02, -4.00873065e-01,  1.80777386e-01, -1.90528199e-01,\n",
       "       -4.24373634e-02, -8.50291997e-02, -2.70550698e-01,  1.59823164e-01,\n",
       "       -2.11669713e-01, -2.30856389e-01,  1.45016164e-01,  1.26346827e-01,\n",
       "        2.74674475e-01, -5.22814319e-02, -2.96801375e-03,  1.36429846e-01,\n",
       "        3.76959145e-01, -2.50614971e-01,  7.71370456e-02, -1.27038583e-01,\n",
       "        1.01856492e-01,  1.52991980e-01, -2.96606451e-01, -2.15389639e-01,\n",
       "       -4.19675291e-01,  3.43353391e-01, -1.14420228e-01, -6.66695042e-03,\n",
       "       -1.94521531e-01,  1.45404130e-01, -2.15463862e-01,  1.22037053e-01,\n",
       "        7.93301687e-02, -2.23123670e-01, -8.17813650e-02,  3.76505144e-02,\n",
       "        8.54262859e-02,  1.70552999e-01,  3.54636133e-01,  2.12341491e-02,\n",
       "        3.28150690e-02, -4.96122502e-02, -4.57627513e-02, -1.51450098e-01,\n",
       "        2.46474817e-01, -1.00697890e-01,  1.05708651e-01, -8.11047256e-02,\n",
       "       -2.21799925e-01, -1.10350303e-01, -1.74749598e-01,  1.76460519e-01,\n",
       "        5.30770514e-03, -1.33857265e-01,  4.17053290e-02,  1.73752263e-01,\n",
       "        1.65423945e-01,  2.45938767e-02, -4.73631501e-01, -2.27514759e-01,\n",
       "       -3.43268700e-02,  4.04867716e-02,  1.70451239e-01, -5.57109490e-02,\n",
       "       -1.65999085e-01, -1.17461123e-02,  1.59532595e-02, -2.08304182e-01,\n",
       "        2.39957180e-02,  1.87044200e-02, -9.18322355e-02,  1.06383272e-01,\n",
       "       -4.98498678e-02, -7.18330517e-02,  1.16792634e-01, -2.18332577e-02,\n",
       "       -1.83304146e-01,  1.77086855e-03,  1.25191733e-01,  1.12874262e-01,\n",
       "        6.90464452e-02,  5.96609227e-02, -1.93888023e-01,  1.80623814e-01,\n",
       "       -2.85623610e-01, -8.68988857e-02, -2.00778916e-01,  3.34806472e-01,\n",
       "        6.20715201e-01,  2.74820119e-01, -4.59484843e-04, -1.87174436e-02,\n",
       "       -8.75954404e-02, -8.46729428e-02, -1.24877863e-01,  2.34023333e-01,\n",
       "        1.82235286e-01,  1.67194650e-01,  6.77550361e-02,  4.01454747e-01,\n",
       "        2.28632003e-01,  3.27687673e-02, -1.60128355e-01, -2.56967932e-01,\n",
       "       -2.00882196e-01, -1.49562582e-02, -1.35924220e-01,  5.85023575e-02,\n",
       "        2.98999190e-01,  1.09866492e-01,  1.04206428e-02,  2.04926934e-02,\n",
       "       -2.34499961e-01, -1.15668826e-01,  2.42533922e-01,  1.82884961e-01,\n",
       "        2.90358752e-01,  1.95813194e-01, -1.18327469e-01,  2.15230420e-01,\n",
       "        4.65226360e-03, -1.51361585e-01,  1.01286940e-01,  2.17141449e-01,\n",
       "        7.92236701e-02, -6.73362659e-03, -3.47900353e-02, -1.95170984e-01,\n",
       "        6.75915480e-02,  2.88736761e-01, -1.03866935e-01,  2.92953074e-01,\n",
       "        4.41217087e-02, -2.75558472e-01,  3.21181297e-01, -4.54544090e-02,\n",
       "       -2.23158374e-01, -2.66945124e-01, -4.52008337e-01, -1.60290241e-01,\n",
       "       -3.42849106e-01,  2.12525442e-01, -5.51894791e-02, -2.92060673e-01,\n",
       "       -9.39060599e-02, -7.76107535e-02, -2.21271709e-01,  3.26454878e-01],\n",
       "      dtype=float32)"
      ]
     },
     "execution_count": 16,
     "metadata": {},
     "output_type": "execute_result"
    }
   ],
   "source": [
    "model.get_vector(\"auto\")"
   ]
  },
  {
   "cell_type": "code",
   "execution_count": 25,
   "metadata": {},
   "outputs": [
    {
     "data": {
      "text/plain": [
       "[('Médford', 0.6699305772781372),\n",
       " ('artiguense', 0.661288857460022),\n",
       " ('venadense', 0.6607233285903931),\n",
       " ('básquetbol', 0.6597214937210083),\n",
       " ('argentino', 0.6594419479370117),\n",
       " ('tresarroyense', 0.6559701561927795),\n",
       " ('fubol', 0.6499344110488892),\n",
       " ('CABB', 0.649008572101593),\n",
       " ('tigrenses', 0.6467350721359253),\n",
       " ('balompié', 0.6452110409736633)]"
      ]
     },
     "execution_count": 25,
     "metadata": {},
     "output_type": "execute_result"
    }
   ],
   "source": [
    "model.most_similar([\"argentina\",\"futbol\"])"
   ]
  },
  {
   "cell_type": "code",
   "execution_count": 26,
   "metadata": {},
   "outputs": [],
   "source": [
    "a = model.get_keras_embedding()"
   ]
  },
  {
   "cell_type": "code",
   "execution_count": 27,
   "metadata": {},
   "outputs": [
    {
     "ename": "ValueError",
     "evalue": "Layer embedding_2 was called with an input that isn't a symbolic tensor. Received type: <class 'str'>. Full input: ['auto']. All inputs to the layer should be tensors.",
     "output_type": "error",
     "traceback": [
      "\u001b[0;31m---------------------------------------------------------------------------\u001b[0m",
      "\u001b[0;31mValueError\u001b[0m                                Traceback (most recent call last)",
      "\u001b[0;32m~/anaconda3/envs/tensorflow/lib/python3.5/site-packages/keras/engine/base_layer.py\u001b[0m in \u001b[0;36massert_input_compatibility\u001b[0;34m(self, inputs)\u001b[0m\n\u001b[1;32m    278\u001b[0m             \u001b[0;32mtry\u001b[0m\u001b[0;34m:\u001b[0m\u001b[0;34m\u001b[0m\u001b[0m\n\u001b[0;32m--> 279\u001b[0;31m                 \u001b[0mK\u001b[0m\u001b[0;34m.\u001b[0m\u001b[0mis_keras_tensor\u001b[0m\u001b[0;34m(\u001b[0m\u001b[0mx\u001b[0m\u001b[0;34m)\u001b[0m\u001b[0;34m\u001b[0m\u001b[0m\n\u001b[0m\u001b[1;32m    280\u001b[0m             \u001b[0;32mexcept\u001b[0m \u001b[0mValueError\u001b[0m\u001b[0;34m:\u001b[0m\u001b[0;34m\u001b[0m\u001b[0m\n",
      "\u001b[0;32m~/anaconda3/envs/tensorflow/lib/python3.5/site-packages/keras/backend/tensorflow_backend.py\u001b[0m in \u001b[0;36mis_keras_tensor\u001b[0;34m(x)\u001b[0m\n\u001b[1;32m    471\u001b[0m         raise ValueError('Unexpectedly found an instance of type `' +\n\u001b[0;32m--> 472\u001b[0;31m                          \u001b[0mstr\u001b[0m\u001b[0;34m(\u001b[0m\u001b[0mtype\u001b[0m\u001b[0;34m(\u001b[0m\u001b[0mx\u001b[0m\u001b[0;34m)\u001b[0m\u001b[0;34m)\u001b[0m \u001b[0;34m+\u001b[0m \u001b[0;34m'`. '\u001b[0m\u001b[0;34m\u001b[0m\u001b[0m\n\u001b[0m\u001b[1;32m    473\u001b[0m                          'Expected a symbolic tensor instance.')\n",
      "\u001b[0;31mValueError\u001b[0m: Unexpectedly found an instance of type `<class 'str'>`. Expected a symbolic tensor instance.",
      "\nDuring handling of the above exception, another exception occurred:\n",
      "\u001b[0;31mValueError\u001b[0m                                Traceback (most recent call last)",
      "\u001b[0;32m<ipython-input-27-7bae0b8fa9d5>\u001b[0m in \u001b[0;36m<module>\u001b[0;34m()\u001b[0m\n\u001b[0;32m----> 1\u001b[0;31m \u001b[0ma\u001b[0m\u001b[0;34m(\u001b[0m\u001b[0;34m\"auto\"\u001b[0m\u001b[0;34m)\u001b[0m\u001b[0;34m\u001b[0m\u001b[0m\n\u001b[0m",
      "\u001b[0;32m~/anaconda3/envs/tensorflow/lib/python3.5/site-packages/keras/engine/base_layer.py\u001b[0m in \u001b[0;36m__call__\u001b[0;34m(self, inputs, **kwargs)\u001b[0m\n\u001b[1;32m    412\u001b[0m                 \u001b[0;31m# Raise exceptions in case the input is not compatible\u001b[0m\u001b[0;34m\u001b[0m\u001b[0;34m\u001b[0m\u001b[0m\n\u001b[1;32m    413\u001b[0m                 \u001b[0;31m# with the input_spec specified in the layer constructor.\u001b[0m\u001b[0;34m\u001b[0m\u001b[0;34m\u001b[0m\u001b[0m\n\u001b[0;32m--> 414\u001b[0;31m                 \u001b[0mself\u001b[0m\u001b[0;34m.\u001b[0m\u001b[0massert_input_compatibility\u001b[0m\u001b[0;34m(\u001b[0m\u001b[0minputs\u001b[0m\u001b[0;34m)\u001b[0m\u001b[0;34m\u001b[0m\u001b[0m\n\u001b[0m\u001b[1;32m    415\u001b[0m \u001b[0;34m\u001b[0m\u001b[0m\n\u001b[1;32m    416\u001b[0m                 \u001b[0;31m# Collect input shapes to build layer.\u001b[0m\u001b[0;34m\u001b[0m\u001b[0;34m\u001b[0m\u001b[0m\n",
      "\u001b[0;32m~/anaconda3/envs/tensorflow/lib/python3.5/site-packages/keras/engine/base_layer.py\u001b[0m in \u001b[0;36massert_input_compatibility\u001b[0;34m(self, inputs)\u001b[0m\n\u001b[1;32m    283\u001b[0m                                  \u001b[0;34m'Received type: '\u001b[0m \u001b[0;34m+\u001b[0m\u001b[0;34m\u001b[0m\u001b[0m\n\u001b[1;32m    284\u001b[0m                                  \u001b[0mstr\u001b[0m\u001b[0;34m(\u001b[0m\u001b[0mtype\u001b[0m\u001b[0;34m(\u001b[0m\u001b[0mx\u001b[0m\u001b[0;34m)\u001b[0m\u001b[0;34m)\u001b[0m \u001b[0;34m+\u001b[0m \u001b[0;34m'. Full input: '\u001b[0m \u001b[0;34m+\u001b[0m\u001b[0;34m\u001b[0m\u001b[0m\n\u001b[0;32m--> 285\u001b[0;31m                                  \u001b[0mstr\u001b[0m\u001b[0;34m(\u001b[0m\u001b[0minputs\u001b[0m\u001b[0;34m)\u001b[0m \u001b[0;34m+\u001b[0m \u001b[0;34m'. All inputs to the layer '\u001b[0m\u001b[0;34m\u001b[0m\u001b[0m\n\u001b[0m\u001b[1;32m    286\u001b[0m                                  'should be tensors.')\n\u001b[1;32m    287\u001b[0m \u001b[0;34m\u001b[0m\u001b[0m\n",
      "\u001b[0;31mValueError\u001b[0m: Layer embedding_2 was called with an input that isn't a symbolic tensor. Received type: <class 'str'>. Full input: ['auto']. All inputs to the layer should be tensors."
     ]
    }
   ],
   "source": [
    "a(\"auto\")"
   ]
  },
  {
   "cell_type": "code",
   "execution_count": null,
   "metadata": {},
   "outputs": [],
   "source": []
  }
 ],
 "metadata": {
  "kernelspec": {
   "display_name": "tensorflow",
   "language": "python",
   "name": "tensorflow"
  },
  "language_info": {
   "codemirror_mode": {
    "name": "ipython",
    "version": 3
   },
   "file_extension": ".py",
   "mimetype": "text/x-python",
   "name": "python",
   "nbconvert_exporter": "python",
   "pygments_lexer": "ipython3",
   "version": "3.5.5"
  }
 },
 "nbformat": 4,
 "nbformat_minor": 2
}

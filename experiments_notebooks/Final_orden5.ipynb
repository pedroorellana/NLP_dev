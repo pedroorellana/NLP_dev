{
 "cells": [
  {
   "cell_type": "code",
   "execution_count": 17,
   "metadata": {},
   "outputs": [
    {
     "name": "stdout",
     "output_type": "stream",
     "text": [
      "/root/anaconda3/lib/python3.6/site-packages/tensorflow/python/_pywrap_tensorflow_internal.so | _pywrap_tensorflow_internal\n",
      "/root/anaconda3/lib/python3.6/site-packages/tensorflow/contrib/lite/toco/python/_tensorflow_wrap_toco.so | _tensorflow_wrap_toco\n"
     ]
    }
   ],
   "source": [
    "# Utils\n",
    "import tensorflow as tf\n",
    "import pandas as pd\n",
    "import matplotlib.pyplot as plt\n",
    "\n",
    "import numpy as np\n",
    "import time\n",
    "#import _pickle as pickle\n",
    "import pickle\n",
    "import re, sys, unidecode\n",
    "#import unidecode\n",
    "\n",
    "from sklearn.metrics import accuracy_score\n",
    "from IPython.display import display, Markdown, Latex\n",
    "\n",
    "import shutil\n",
    "import os\n",
    "\n",
    "# Representation\n",
    "import nltk\n",
    "from nltk.corpus import stopwords\n",
    "import scikitplot as skplt\n",
    "\n",
    "import wordbatch\n",
    "from wordbatch.extractors import WordBag, WordHash\n",
    "from wordbatch.models import FTRL\n",
    "\n",
    "from tensorflow.contrib.learn import DNNClassifier\n",
    "\n",
    "#from tecnosmartlib import DataObject"
   ]
  },
  {
   "cell_type": "code",
   "execution_count": 9,
   "metadata": {},
   "outputs": [
    {
     "name": "stdout",
     "output_type": "stream",
     "text": [
      "[nltk_data] Downloading package stopwords to /root/nltk_data...\n",
      "[nltk_data]   Package stopwords is already up-to-date!\n",
      "[nltk_data] Downloading package punkt to /root/nltk_data...\n",
      "[nltk_data]   Package punkt is already up-to-date!\n"
     ]
    },
    {
     "data": {
      "text/plain": [
       "True"
      ]
     },
     "execution_count": 9,
     "metadata": {},
     "output_type": "execute_result"
    }
   ],
   "source": [
    "#plt.style.use('fivethirtyeight')\n",
    "#Carga stop word\n",
    "nltk.download('stopwords')\n",
    "spanish_stopwords = nltk.corpus.stopwords.words('spanish')\n",
    "\n",
    "# punkt:  módulo contiene modelos para la tokenización de textos\n",
    "nltk.download('punkt')"
   ]
  },
  {
   "cell_type": "markdown",
   "metadata": {},
   "source": [
    "# Parameters"
   ]
  },
  {
   "cell_type": "code",
   "execution_count": 14,
   "metadata": {},
   "outputs": [],
   "source": [
    "\n",
    "path_model = './tmp10'\n",
    "\n",
    "try:\n",
    "    os.system(\"rm -rf \"+path_model)\n",
    "    os.system(\"mkdir \"+path_model)\n",
    "except:\n",
    "    print(\"error\")"
   ]
  },
  {
   "cell_type": "markdown",
   "metadata": {},
   "source": [
    "# Load Data"
   ]
  },
  {
   "cell_type": "code",
   "execution_count": 21,
   "metadata": {},
   "outputs": [],
   "source": [
    "dfNoticias = pd.read_pickle(\"../data/raw/dfNoticias\")"
   ]
  },
  {
   "cell_type": "markdown",
   "metadata": {},
   "source": [
    "# pre procesing and cleaning\n",
    "\n",
    "Cleaning data, select clases"
   ]
  },
  {
   "cell_type": "code",
   "execution_count": 38,
   "metadata": {},
   "outputs": [],
   "source": [
    "from bs4 import BeautifulSoup\n",
    "import nltk\n",
    "import os, sys, re, time, gc, types, string, unicodedata, unidecode, string, warnings, inspect\n",
    "\n",
    "\n",
    "def normalize_text(text):\n",
    "    \"\"\" Funcion de normalizacion \"\"\"\n",
    "    \n",
    "    # Get plain text from HTML\n",
    "    soup = BeautifulSoup(text, 'html.parser')\n",
    "    \n",
    "    # kill all script and style elements\n",
    "    for script in soup([\"script\", \"style\"]):\n",
    "        script.extract()    # rip it out    \n",
    "    \n",
    "    # get text\n",
    "    text = soup.get_text()\n",
    "    return text        \n",
    "    # break into lines and remove leading and trailing space on each\n",
    "    #lines = (line.strip() for line in text.splitlines())\n",
    "    # break multi-headlines into a line each\n",
    "    #chunks = (phrase.strip() for line in lines for phrase in line.split(\"  \"))\n",
    "    # drop blan\n",
    "    #k lines\n",
    "    #text = '\\n'.join(chunk for chunk in chunks if chunk)\n",
    "    \n",
    "#     # split into words\n",
    "#     tokens = nltk.tokenize.word_tokenize(text,language='spanish', preserve_line=False)\n",
    "#     # convert to lower case\n",
    "#     tokens = [w.lower() for w in tokens]    \n",
    "    \n",
    "#     # remove punctuation from each word\n",
    "#     table = str.maketrans('', '', string.punctuation)\n",
    "#     stripped = [w.translate(table) for w in tokens]\n",
    "    \n",
    "#     # remove remaining tokens that are n<<<<<<<<<<<<<<<<<<<<<\n",
    "#     words = [word for word in stripped if word.isalpha()]\n",
    "    \n",
    "#     # stop word and remove accent\n",
    "#     def strip_accents(s):\n",
    "#         return ''.join(c for c in unicodedata.normalize('NFD', s) if unicodedata.category(c) != 'Mn')\n",
    "#     stop_words = set(spanish_stopwords)\n",
    "#     words = [strip_accents(w) for w in words if not w in stop_words]\n",
    "    \n",
    "#     return u\" \".join(words)\n"
   ]
  },
  {
   "cell_type": "code",
   "execution_count": 40,
   "metadata": {},
   "outputs": [
    {
     "name": "stdout",
     "output_type": "stream",
     "text": [
      "0.004897594451904297\n"
     ]
    }
   ],
   "source": [
    "start = time.time()\n",
    "normalize_text('\\n<p>Por problemas de agenda de la jueza del <strong>Tribunal de Garantía de Temuco</strong> que encabeza la <strong>preparación de juicio oral contra el machi Celestino Córdova </strong>-imputado por <a href=\"/noticias/pais/region-de-la-araucania/incendio-intencional-destruyo-casa-de-la-familia-luchsinger-en-vilcun/2013-01-04/062322.html\" target=\"_blank\">ataque incendiario que terminó con la vida del matrimonio Luchsinger-Mackay</a>-\\xa0se debió postergar la audiencia para el próximo lunes 2 de diciembre.</p>\\n<p>Esta situación <strong>causó malestar tanto en el Ministerio Público como entre los querellantes</strong>, <a href=\"/noticias/pais/region-de-la-araucania/caso-luchsinger-vuelven-a-postergar-audiencia-contra-celestino-cordova/2013-11-06/161047.html\" target=\"_blank\">debido a las sucesivas postergaciones</a> que ha tenido este procedimiento, el cual se esperaba que no durara más de una semana y el que, paulatinamente, se ha ido postergando.</p>\\n<p>La <strong>abogada Karina Riquelme</strong>, en representación de la defensa del machi, indicó que esta postergación <strong>sirve para demostrar la inocencia del imputado</strong> y que \"estamos realizando todas las pericias correspondientes para poder probar los antecedentes que he expuesto\".</p>\\n<p>Hasta el momento, la Fiscalía <a href=\"/noticias/pais/region-de-la-araucania/caso-luchsinger-mackay-fiscalia-logro-acreditar-37-testigos/2013-11-04/163156.html\" target=\"_blank\">es la única que ha podido acreditar a cerca de 40 peritos y testigos</a> para el juicio oral, el que ahora -debido a esta nueva postergación- se realizaría a principios del próximo año.</p>\\n')\n",
    "end = time.time()-start\n",
    "print(end)"
   ]
  },
  {
   "cell_type": "code",
   "execution_count": 47,
   "metadata": {},
   "outputs": [
    {
     "name": "stdout",
     "output_type": "stream",
     "text": [
      "<class 'pandas.core.frame.DataFrame'>\n",
      "Int64Index: 250759 entries, 1 to 389889\n",
      "Data columns (total 16 columns):\n",
      "Cuerpo       250639 non-null object\n",
      "Fecha        250759 non-null object\n",
      "Hora         250759 non-null object\n",
      "ID           250759 non-null object\n",
      "Resumen      249632 non-null object\n",
      "Seccion_1    250459 non-null object\n",
      "Seccion_2    123240 non-null object\n",
      "Seccion_3    37532 non-null object\n",
      "Subtema_1    182753 non-null object\n",
      "Subtema_2    74385 non-null object\n",
      "Subtema_3    24247 non-null object\n",
      "Tema_1       248508 non-null object\n",
      "Tema_2       116973 non-null object\n",
      "Tema_3       36153 non-null object\n",
      "Titular      250759 non-null object\n",
      "Type         250759 non-null object\n",
      "dtypes: object(16)\n",
      "memory usage: 32.5+ MB\n"
     ]
    }
   ],
   "source": [
    "dfNoticias.info()"
   ]
  },
  {
   "cell_type": "code",
   "execution_count": 50,
   "metadata": {},
   "outputs": [
    {
     "data": {
      "text/plain": [
       "'\\nLas conversaciones comenzaron el año 2010 y no dieron fruto durante la administración Piñera.\\nMichelle Bachelet analiza el tema, pero no lo tiene como \"prioridad\".\\n'"
      ]
     },
     "execution_count": 50,
     "metadata": {},
     "output_type": "execute_result"
    }
   ],
   "source": [
    "dfNoticias.iloc[1][\"Resumen\"]"
   ]
  },
  {
   "cell_type": "code",
   "execution_count": 46,
   "metadata": {},
   "outputs": [
    {
     "data": {
      "text/plain": [
       "'\\nEl Gobierno de\\xa0Barack Obama ha enviado\\xa0cuatro solicitudes a Chile desde el año 2010 para que reciba a presos de la cárcel de Guantánamo, ubicada en Cuba.\\nSegún recuerda este lunes el diario La Tercera, el primer acercamiento que tuvo la Casa Blanca con La Moneda en relación con esta materia fue durante el primer año de Gobierno de Sebastián Piñera.\\nLa petición se basó principalmente en el envío de dos personas pertenecientes a un grupo étnico de China que fueron encerradas en Guantánamo por enfrentarse con el gobierno asiátic, \"cargos que nunca fueron comprobados por la justicia norteamericana\".\\nDurante el 2012 existieron nuevos intercambios verbales, \"pero, al igual que las conversaciones que se efectuaron dos años antes, no arrojaron resultados positivos para la Casa Blanca. En esa oportunidad los prisioneros fueron enviados a otros países\".\\nLa tercera solicitud se realizó en los últimos meses de la administración de Piñera. \"A diferencia de las otras peticiones, esta se efectuó con un tono más formal y con reuniones de por medio\", dice el matutino.\\nLa petición fue denegada por Piñera \"por no querer hacerse cargo de recibir a detenidos provenientes de Guantánamo ante un eventual cambio de Gobierno\".\\nLa administración de la Presidenta Michelle Bachelet se encuentra analizando la última solicitud que llegó desde Estados Unidos para recibir a cuatro prisioneros.\\nSin embargo, \"el proceso es largo y Guantánamo no está dentro de las acciones prioritarias del Gobierno\", ha dicho el\\xa0canciller Heraldo Muñoz.\\nEn el caso de que Chile acoja la solicitud de la Casa Blanca las personas que eventualmente lleguen a nuestro país quedarían inmediatamente en libertad. \"Esto se debe a que tales reos no han enfrentado ninguna condena ni proceso judicial\", apunta La Tercera.\\nBarack Obama prometió durante su primera campaña presidencial -en 2008- que su gobierno cerraría la prisión ubicada en territorio cubano, pero la promesa se ha visto complicada\\xa0por la falta de una definición para ubicar a los 149 presos que residen en ese centro de detención.\\nLa administración Obama inició hace un par de años un proceso de diálogo con varios países del mundo y, dentro de los latinoamericanos, El Salvador y Uruguay ya han aceptado recibir a prisioneros, mientras Perú está estudiando la solicitud de EE.UU.\\n'"
      ]
     },
     "execution_count": 46,
     "metadata": {},
     "output_type": "execute_result"
    }
   ],
   "source": []
  },
  {
   "cell_type": "code",
   "execution_count": 42,
   "metadata": {},
   "outputs": [
    {
     "name": "stdout",
     "output_type": "stream",
     "text": [
      "Selecting useful information...done.\n"
     ]
    }
   ],
   "source": [
    "print('Selecting useful information...', end='')\n",
    "_map = {}\n",
    "_map[\"Cuerpo\"] = []\n",
    "_map[\"Seccion\"] = []\n",
    "_map[\"Subtema\"] = []\n",
    "\n",
    "\n",
    "count = 0\n",
    "for index, row in dfNoticias.iterrows():\n",
    "    if (row[\"Seccion_1\"] != None and row[\"Cuerpo\"] != None):\n",
    "        _map[\"Cuerpo\"].append(normalize_text(row[\"Cuerpo\"])) \n",
    "        _map[\"Seccion\"].append(row[\"Seccion_1\"])\n",
    "        _map[\"Subtema\"].append(row[\"Subtema_1\"])\n",
    "print('done.')\n",
    "\n"
   ]
  },
  {
   "cell_type": "code",
   "execution_count": null,
   "metadata": {},
   "outputs": [],
   "source": [
    "dfNoticias.head"
   ]
  },
  {
   "cell_type": "code",
   "execution_count": 6,
   "metadata": {},
   "outputs": [
    {
     "name": "stdout",
     "output_type": "stream",
     "text": [
      "Number of data before dropping duplicates: 250339\n",
      "Number of data after dropping duplicates : 238909\n",
      "\n",
      "Number of duplicated data : 11430\n"
     ]
    }
   ],
   "source": [
    "df = pd.DataFrame(_map)\n",
    "\n",
    "numberOfDuplicates = df.shape[0]\n",
    "print('Number of data before dropping duplicates: {}'.format(df.shape[0]))\n",
    "df = df.drop_duplicates(inplace= False)\n",
    "df.reset_index(drop=True, inplace= True)\n",
    "numberOfDuplicates -= df.shape[0]\n",
    "print('Number of data after dropping duplicates : {}'.format(df.shape[0]))\n",
    "print('\\nNumber of duplicated data : {}'.format(numberOfDuplicates))\n",
    "\n"
   ]
  },
  {
   "cell_type": "code",
   "execution_count": 7,
   "metadata": {},
   "outputs": [],
   "source": [
    "X_untransformed = df['Cuerpo'].reset_index(drop=True)\n",
    "y_untransformed = df['Seccion'].reset_index(drop=True)\n",
    "\n",
    "def remove_accents(a):\n",
    "    return unidecode.unidecode(a)\n",
    "\n",
    "y = y_untransformed.apply(remove_accents)\n",
    "y = y.values"
   ]
  },
  {
   "cell_type": "code",
   "execution_count": null,
   "metadata": {},
   "outputs": [],
   "source": []
  },
  {
   "cell_type": "markdown",
   "metadata": {},
   "source": [
    "# Feature Extraccion\n",
    "\n",
    "### Data representation\n",
    "\n",
    "TFID calculation"
   ]
  },
  {
   "cell_type": "code",
   "execution_count": 8,
   "metadata": {},
   "outputs": [],
   "source": [
    "calc_tfid = False\n",
    "save_file = \"tfid_features_hash20.p\"\n",
    "\n",
    "if calc_tfid :\n",
    "    start = time.time()\n",
    "    print(\"start\")\n",
    "\n",
    "\n",
    "    spanish_stopwords = stopwords.words('spanish')\n",
    "    def normalize_text(text):\n",
    "        return u\" \".join([x for x in [y for y in text.lower().strip().split(\" \")] \n",
    "                          if len(x) > 1 and x not in spanish_stopwords])\n",
    "\n",
    "    X_untransformed = X_untransformed\n",
    "    n_docs = X_untransformed.shape[0]\n",
    "    n_cpu = 20\n",
    "\n",
    "    batch_size = int(n_docs/n_cpu)\n",
    "\n",
    "    #'log', \"idf\":50.0\n",
    "    wb = wordbatch.WordBatch(normalize_text, \n",
    "                             extractor=(WordBag, {\"hash_ngrams\": 1, \"hash_ngrams_weights\": [1.0, 1.0],\n",
    "                                                  \"hash_size\": 2**20, \"norm\": \"l2\", \"tf\": 1.0,\n",
    "                                                  \"idf\": 1.0}), procs=n_cpu, n_words=1000, minibatch_size=batch_size)\n",
    "    wb.dictionary_freeze = True\n",
    "    word_comment = wb.fit_transform(list(X_untransformed),reset= False)\n",
    "    X_transformed = word_comment[:, np.array(np.clip(word_comment.getnnz(axis=0) - 1, 0, 1), dtype = bool)]\n",
    "\n",
    "    end = time.time()\n",
    "    print(\"TFIDF end time :\" + str(end - start) )\n",
    "\n",
    "\n",
    "    X = X_transformed\n",
    "\n",
    "\n",
    "    #X = X.todense()\n",
    "    print('Number of features: {}'.format(X.shape[1]))\n",
    "\n",
    "    pickle.dump( X, open( save_file, \"wb\" ) )\n",
    "else:    \n",
    "    X = pickle.load( open( save_file, \"rb\" ) )"
   ]
  },
  {
   "cell_type": "markdown",
   "metadata": {},
   "source": [
    "### filter clases"
   ]
  },
  {
   "cell_type": "code",
   "execution_count": 9,
   "metadata": {},
   "outputs": [],
   "source": [
    "labels = list(set(y))\n",
    "umbral = 100\n",
    "sizes = [ [label,y[y== label].shape[0]] for label in labels ]\n",
    "filter_sizes = list(filter(lambda x:x[1]>umbral ,sizes ))\n",
    "names_clases = set( map(lambda x:x[0], filter_sizes ) )\n",
    "\n",
    "index = list(map(lambda x: {x}.issubset(names_clases), y ))\n",
    "\n",
    "y = y[index]\n",
    "X = X[np.nonzero(index)]\n"
   ]
  },
  {
   "cell_type": "code",
   "execution_count": null,
   "metadata": {},
   "outputs": [],
   "source": []
  },
  {
   "cell_type": "markdown",
   "metadata": {},
   "source": [
    "### Output"
   ]
  },
  {
   "cell_type": "code",
   "execution_count": 10,
   "metadata": {},
   "outputs": [],
   "source": [
    "np.random.seed(42)\n",
    "\n",
    "train_fraction = 0.8\n",
    "\n",
    "train_indices = np.random.choice(X.shape[0], round(train_fraction*X.shape[0]), replace=False)\n",
    "test_indices = np.array(list(set(range(X.shape[0])) - set(train_indices)))\n",
    "\n",
    "X_train = X[train_indices]\n",
    "y_train = y[train_indices]\n",
    "X_test = X[test_indices]\n",
    "y_test = y[test_indices]"
   ]
  },
  {
   "cell_type": "code",
   "execution_count": null,
   "metadata": {},
   "outputs": [],
   "source": []
  },
  {
   "cell_type": "code",
   "execution_count": 11,
   "metadata": {},
   "outputs": [],
   "source": [
    "labels = list(set(y))\n",
    "nClasses = len(labels)\n",
    "\n",
    "# lerko\n",
    "scale_factor = 10e3\n",
    "sizes = {label: y_train[y_train == label].shape[0] for label in labels}\n",
    "weights = np.asarray([scale_factor/sizes[label] for label in y])\n",
    "\n",
    "# sizes = {label: y_train[y_train == label].shape[0] for label in labels}\n",
    "# weights = np.asarray([len(y_train)/(sizes[label]*nClasses) for label in y])\n",
    "\n",
    "weights = weights[:,np.newaxis]\n",
    "weights_train = weights[train_indices]\n",
    "weights_test = weights[test_indices]\n"
   ]
  },
  {
   "cell_type": "markdown",
   "metadata": {},
   "source": [
    "# Model\n",
    "\n",
    "### DNN graph generation"
   ]
  },
  {
   "cell_type": "code",
   "execution_count": 12,
   "metadata": {},
   "outputs": [
    {
     "data": {
      "text/plain": [
       "191062"
      ]
     },
     "execution_count": 12,
     "metadata": {},
     "output_type": "execute_result"
    }
   ],
   "source": [
    "len(y_train)"
   ]
  },
  {
   "cell_type": "code",
   "execution_count": 13,
   "metadata": {},
   "outputs": [],
   "source": [
    "epochs = 14000\n",
    "\n",
    "# Define the test inputs\n",
    "def get_train_inputs():    \n",
    "    dataset = tf.estimator.inputs.numpy_input_fn({'x': X_train.todense(),'class_weights': weights_train},\n",
    "                                                  y_train[:,np.newaxis],\n",
    "                                                  shuffle=True,\n",
    "                                                  batch_size=500,\n",
    "                                                  num_epochs=epochs)\n",
    "    return dataset\n",
    "\n",
    "def get_test_inputs():\n",
    "    dataset = tf.estimator.inputs.numpy_input_fn({'x': X_test.todense(),'class_weights': weights_test},\n",
    "                                                  y_test[:,np.newaxis],\n",
    "                                                  shuffle=False)\n",
    "    return dataset"
   ]
  },
  {
   "cell_type": "markdown",
   "metadata": {},
   "source": [
    "### functions graph tensorflow"
   ]
  },
  {
   "cell_type": "code",
   "execution_count": 14,
   "metadata": {},
   "outputs": [
    {
     "name": "stdout",
     "output_type": "stream",
     "text": [
      "INFO:tensorflow:Using config: {'_task_type': None, '_task_id': 0, '_cluster_spec': <tensorflow.python.training.server_lib.ClusterSpec object at 0x7f4b329236d8>, '_master': '', '_num_ps_replicas': 0, '_num_worker_replicas': 0, '_environment': 'local', '_is_chief': True, '_evaluation_master': '', '_tf_config': gpu_options {\n",
      "  per_process_gpu_memory_fraction: 1.0\n",
      "}\n",
      ", '_tf_random_seed': None, '_save_summary_steps': 100, '_save_checkpoints_secs': None, '_log_step_count_steps': 100, '_session_config': None, '_save_checkpoints_steps': 500, '_keep_checkpoint_max': 5, '_keep_checkpoint_every_n_hours': 10000, '_model_dir': './tmp10'}\n"
     ]
    }
   ],
   "source": [
    "\n",
    "\n",
    "tf.set_random_seed(42)\n",
    "\n",
    "feature_columns = [tf.contrib.layers.real_valued_column('x', dimension=1000)]\n",
    "\n",
    "classifier = DNNClassifier(                                \n",
    "                           n_classes=len(labels), label_keys=labels, feature_columns=feature_columns,\n",
    "                           hidden_units=[2000, 1000, 100],\n",
    "                           dropout=0.5,\n",
    "                           weight_column_name='class_weights',\n",
    "                           model_dir = path_model,\n",
    "                           config = tf.contrib.learn.RunConfig(save_checkpoints_steps = 500,\n",
    "                           save_checkpoints_secs = None)                           \n",
    "                          )"
   ]
  },
  {
   "cell_type": "markdown",
   "metadata": {},
   "source": [
    "# Training\n",
    "\n"
   ]
  },
  {
   "cell_type": "code",
   "execution_count": 15,
   "metadata": {},
   "outputs": [
    {
     "name": "stdout",
     "output_type": "stream",
     "text": [
      "WARNING:tensorflow:From /root/anaconda3/lib/python3.6/site-packages/tensorflow/contrib/learn/python/learn/monitors.py:267: BaseMonitor.__init__ (from tensorflow.contrib.learn.python.learn.monitors) is deprecated and will be removed after 2016-12-05.\n",
      "Instructions for updating:\n",
      "Monitors are deprecated. Please use tf.train.SessionRunHook.\n",
      "start\n",
      "INFO:tensorflow:Create CheckpointSaverHook.\n",
      "INFO:tensorflow:Saving checkpoints for 1 into ./tmp10/model.ckpt.\n",
      "INFO:tensorflow:loss = 0.84173393, step = 1\n",
      "INFO:tensorflow:global_step/sec: 22.8641\n",
      "INFO:tensorflow:loss = 0.96353453, step = 101 (4.376 sec)\n",
      "INFO:tensorflow:global_step/sec: 23.4301\n",
      "INFO:tensorflow:loss = 0.8389761, step = 201 (4.270 sec)\n",
      "INFO:tensorflow:global_step/sec: 23.5222\n",
      "INFO:tensorflow:loss = 0.8106085, step = 301 (4.251 sec)\n",
      "INFO:tensorflow:global_step/sec: 24.0835\n",
      "INFO:tensorflow:loss = 0.81804836, step = 401 (4.152 sec)\n",
      "INFO:tensorflow:Starting evaluation at 2018-08-29-20:34:42\n",
      "INFO:tensorflow:Restoring parameters from ./tmp10/model.ckpt-1\n",
      "INFO:tensorflow:Finished evaluation at 2018-08-29-20:34:46\n",
      "INFO:tensorflow:Saving dict for global step 1: accuracy = 0.12714045, global_step = 1, loss = 2.0791414\n",
      "INFO:tensorflow:Validation (step 500): loss = 2.0791414, accuracy = 0.12714045, global_step = 1\n",
      "INFO:tensorflow:Saving checkpoints for 501 into ./tmp10/model.ckpt.\n",
      "INFO:tensorflow:global_step/sec: 10.8719\n",
      "INFO:tensorflow:loss = 0.7757148, step = 501 (9.198 sec)\n",
      "INFO:tensorflow:global_step/sec: 23.7111\n",
      "INFO:tensorflow:loss = 0.76007026, step = 601 (4.216 sec)\n",
      "INFO:tensorflow:global_step/sec: 23.4789\n",
      "INFO:tensorflow:loss = 0.61425084, step = 701 (4.260 sec)\n",
      "INFO:tensorflow:global_step/sec: 23.5501\n",
      "INFO:tensorflow:loss = 0.5483711, step = 801 (4.246 sec)\n",
      "INFO:tensorflow:global_step/sec: 23.8421\n",
      "INFO:tensorflow:loss = 0.53643495, step = 901 (4.194 sec)\n",
      "INFO:tensorflow:Starting evaluation at 2018-08-29-20:35:08\n",
      "INFO:tensorflow:Restoring parameters from ./tmp10/model.ckpt-501\n",
      "INFO:tensorflow:Finished evaluation at 2018-08-29-20:35:12\n",
      "INFO:tensorflow:Saving dict for global step 501: accuracy = 0.5308916, global_step = 501, loss = 1.834209\n",
      "INFO:tensorflow:Validation (step 1000): loss = 1.834209, accuracy = 0.5308916, global_step = 501\n",
      "INFO:tensorflow:Saving checkpoints for 1001 into ./tmp10/model.ckpt.\n",
      "INFO:tensorflow:global_step/sec: 10.7847\n",
      "INFO:tensorflow:loss = 0.47748554, step = 1001 (9.272 sec)\n",
      "INFO:tensorflow:global_step/sec: 23.0203\n",
      "INFO:tensorflow:loss = 0.48408908, step = 1101 (4.345 sec)\n",
      "INFO:tensorflow:global_step/sec: 23.5097\n",
      "INFO:tensorflow:loss = 0.41844946, step = 1201 (4.254 sec)\n",
      "INFO:tensorflow:global_step/sec: 23.2626\n",
      "INFO:tensorflow:loss = 0.44307506, step = 1301 (4.299 sec)\n",
      "INFO:tensorflow:global_step/sec: 23.5342\n",
      "INFO:tensorflow:loss = 0.39571324, step = 1401 (4.247 sec)\n",
      "INFO:tensorflow:Starting evaluation at 2018-08-29-20:35:34\n",
      "INFO:tensorflow:Restoring parameters from ./tmp10/model.ckpt-1001\n",
      "INFO:tensorflow:Finished evaluation at 2018-08-29-20:35:38\n",
      "INFO:tensorflow:Saving dict for global step 1001: accuracy = 0.663909, global_step = 1001, loss = 1.0745149\n",
      "INFO:tensorflow:Validation (step 1500): loss = 1.0745149, accuracy = 0.663909, global_step = 1001\n",
      "INFO:tensorflow:Saving checkpoints for 1501 into ./tmp10/model.ckpt.\n",
      "INFO:tensorflow:global_step/sec: 10.693\n",
      "INFO:tensorflow:loss = 0.43162373, step = 1501 (9.357 sec)\n",
      "INFO:tensorflow:global_step/sec: 23.1328\n",
      "INFO:tensorflow:loss = 0.42421967, step = 1601 (4.318 sec)\n",
      "INFO:tensorflow:global_step/sec: 23.2894\n",
      "INFO:tensorflow:loss = 0.38980594, step = 1701 (4.294 sec)\n",
      "INFO:tensorflow:global_step/sec: 23.456\n",
      "INFO:tensorflow:loss = 0.36604485, step = 1801 (4.263 sec)\n",
      "INFO:tensorflow:global_step/sec: 23.5864\n",
      "INFO:tensorflow:loss = 0.36397523, step = 1901 (4.238 sec)\n",
      "INFO:tensorflow:Starting evaluation at 2018-08-29-20:36:00\n",
      "INFO:tensorflow:Restoring parameters from ./tmp10/model.ckpt-1501\n",
      "INFO:tensorflow:Finished evaluation at 2018-08-29-20:36:04\n",
      "INFO:tensorflow:Saving dict for global step 1501: accuracy = 0.7135167, global_step = 1501, loss = 0.8608138\n",
      "INFO:tensorflow:Validation (step 2000): loss = 0.8608138, accuracy = 0.7135167, global_step = 1501\n",
      "INFO:tensorflow:Saving checkpoints for 2001 into ./tmp10/model.ckpt.\n",
      "INFO:tensorflow:global_step/sec: 11.3514\n",
      "INFO:tensorflow:loss = 0.34257993, step = 2001 (8.810 sec)\n",
      "INFO:tensorflow:global_step/sec: 23.0607\n",
      "INFO:tensorflow:loss = 0.37875268, step = 2101 (4.336 sec)\n",
      "INFO:tensorflow:global_step/sec: 23.0503\n",
      "INFO:tensorflow:loss = 0.3346413, step = 2201 (4.340 sec)\n",
      "INFO:tensorflow:global_step/sec: 23.1115\n",
      "INFO:tensorflow:loss = 0.33909404, step = 2301 (4.326 sec)\n",
      "INFO:tensorflow:global_step/sec: 23.218\n",
      "INFO:tensorflow:loss = 0.35272333, step = 2401 (4.307 sec)\n",
      "INFO:tensorflow:Starting evaluation at 2018-08-29-20:36:27\n",
      "INFO:tensorflow:Restoring parameters from ./tmp10/model.ckpt-2001\n",
      "INFO:tensorflow:Finished evaluation at 2018-08-29-20:36:31\n",
      "INFO:tensorflow:Saving dict for global step 2001: accuracy = 0.72954214, global_step = 2001, loss = 0.7836308\n",
      "INFO:tensorflow:Validation (step 2500): loss = 0.7836308, accuracy = 0.72954214, global_step = 2001\n",
      "INFO:tensorflow:Saving checkpoints for 2501 into ./tmp10/model.ckpt.\n",
      "INFO:tensorflow:global_step/sec: 10.6884\n",
      "INFO:tensorflow:loss = 0.43735057, step = 2501 (9.359 sec)\n",
      "INFO:tensorflow:global_step/sec: 23.3401\n",
      "INFO:tensorflow:loss = 0.32782495, step = 2601 (4.282 sec)\n",
      "INFO:tensorflow:global_step/sec: 22.9484\n",
      "INFO:tensorflow:loss = 0.36693582, step = 2701 (4.358 sec)\n",
      "INFO:tensorflow:global_step/sec: 23.3385\n",
      "INFO:tensorflow:loss = 0.42106026, step = 2801 (4.285 sec)\n",
      "INFO:tensorflow:global_step/sec: 23.026\n",
      "INFO:tensorflow:loss = 0.31811914, step = 2901 (4.343 sec)\n",
      "INFO:tensorflow:Starting evaluation at 2018-08-29-20:36:53\n",
      "INFO:tensorflow:Restoring parameters from ./tmp10/model.ckpt-2501\n",
      "INFO:tensorflow:Finished evaluation at 2018-08-29-20:36:57\n",
      "INFO:tensorflow:Saving dict for global step 2501: accuracy = 0.7429719, global_step = 2501, loss = 0.744872\n",
      "INFO:tensorflow:Validation (step 3000): loss = 0.744872, accuracy = 0.7429719, global_step = 2501\n",
      "INFO:tensorflow:Saving checkpoints for 3001 into ./tmp10/model.ckpt.\n",
      "INFO:tensorflow:global_step/sec: 11.4597\n",
      "INFO:tensorflow:loss = 0.3749413, step = 3001 (8.725 sec)\n",
      "INFO:tensorflow:global_step/sec: 23.0407\n",
      "INFO:tensorflow:loss = 0.39397594, step = 3101 (4.341 sec)\n",
      "INFO:tensorflow:global_step/sec: 23.2424\n",
      "INFO:tensorflow:loss = 0.31740046, step = 3201 (4.300 sec)\n",
      "INFO:tensorflow:global_step/sec: 23.2681\n",
      "INFO:tensorflow:loss = 0.23352972, step = 3301 (4.299 sec)\n",
      "INFO:tensorflow:global_step/sec: 23.5058\n",
      "INFO:tensorflow:loss = 0.315306, step = 3401 (4.255 sec)\n",
      "INFO:tensorflow:Starting evaluation at 2018-08-29-20:37:19\n",
      "INFO:tensorflow:Restoring parameters from ./tmp10/model.ckpt-3001\n",
      "INFO:tensorflow:Finished evaluation at 2018-08-29-20:37:24\n",
      "INFO:tensorflow:Saving dict for global step 3001: accuracy = 0.7500217, global_step = 3001, loss = 0.7212759\n",
      "INFO:tensorflow:Validation (step 3500): loss = 0.7212759, accuracy = 0.7500217, global_step = 3001\n",
      "INFO:tensorflow:Saving checkpoints for 3501 into ./tmp10/model.ckpt.\n",
      "INFO:tensorflow:global_step/sec: 10.7494\n",
      "INFO:tensorflow:loss = 0.38676658, step = 3501 (9.302 sec)\n",
      "INFO:tensorflow:global_step/sec: 23.2066\n",
      "INFO:tensorflow:loss = 0.2934022, step = 3601 (4.309 sec)\n",
      "INFO:tensorflow:global_step/sec: 23.0236\n",
      "INFO:tensorflow:loss = 0.2889675, step = 3701 (4.345 sec)\n",
      "INFO:tensorflow:global_step/sec: 23.695\n",
      "INFO:tensorflow:loss = 0.3864208, step = 3801 (4.221 sec)\n",
      "INFO:tensorflow:global_step/sec: 23.5778\n",
      "INFO:tensorflow:loss = 0.30672428, step = 3901 (4.240 sec)\n",
      "INFO:tensorflow:Starting evaluation at 2018-08-29-20:37:46\n",
      "INFO:tensorflow:Restoring parameters from ./tmp10/model.ckpt-3501\n",
      "INFO:tensorflow:Finished evaluation at 2018-08-29-20:37:50\n",
      "INFO:tensorflow:Saving dict for global step 3501: accuracy = 0.75313485, global_step = 3501, loss = 0.7174947\n",
      "INFO:tensorflow:Validation (step 4000): loss = 0.7174947, accuracy = 0.75313485, global_step = 3501\n",
      "INFO:tensorflow:Saving checkpoints for 4001 into ./tmp10/model.ckpt.\n",
      "INFO:tensorflow:global_step/sec: 10.8174\n",
      "INFO:tensorflow:loss = 0.3469991, step = 4001 (9.244 sec)\n",
      "INFO:tensorflow:global_step/sec: 22.8248\n",
      "INFO:tensorflow:loss = 0.26408678, step = 4101 (4.382 sec)\n"
     ]
    },
    {
     "name": "stdout",
     "output_type": "stream",
     "text": [
      "INFO:tensorflow:global_step/sec: 23.0287\n",
      "INFO:tensorflow:loss = 0.23677096, step = 4201 (4.343 sec)\n",
      "INFO:tensorflow:global_step/sec: 22.7744\n",
      "INFO:tensorflow:loss = 0.3608305, step = 4301 (4.391 sec)\n",
      "INFO:tensorflow:global_step/sec: 22.9818\n",
      "INFO:tensorflow:loss = 0.42772946, step = 4401 (4.351 sec)\n",
      "INFO:tensorflow:Starting evaluation at 2018-08-29-20:38:13\n",
      "INFO:tensorflow:Restoring parameters from ./tmp10/model.ckpt-4001\n",
      "INFO:tensorflow:Finished evaluation at 2018-08-29-20:38:17\n",
      "INFO:tensorflow:Saving dict for global step 4001: accuracy = 0.7581858, global_step = 4001, loss = 0.70343167\n",
      "INFO:tensorflow:Validation (step 4500): loss = 0.70343167, accuracy = 0.7581858, global_step = 4001\n",
      "INFO:tensorflow:Saving checkpoints for 4501 into ./tmp10/model.ckpt.\n",
      "INFO:tensorflow:global_step/sec: 10.3609\n",
      "INFO:tensorflow:loss = 0.29208043, step = 4501 (9.656 sec)\n",
      "INFO:tensorflow:global_step/sec: 23.1601\n",
      "INFO:tensorflow:loss = 0.30496258, step = 4601 (4.313 sec)\n",
      "INFO:tensorflow:global_step/sec: 23.6394\n",
      "INFO:tensorflow:loss = 0.25526118, step = 4701 (4.230 sec)\n",
      "INFO:tensorflow:global_step/sec: 23.1915\n",
      "INFO:tensorflow:loss = 0.29962626, step = 4801 (4.312 sec)\n",
      "INFO:tensorflow:global_step/sec: 23.4606\n",
      "INFO:tensorflow:loss = 0.2923688, step = 4901 (4.263 sec)\n",
      "INFO:tensorflow:Starting evaluation at 2018-08-29-20:38:39\n",
      "INFO:tensorflow:Restoring parameters from ./tmp10/model.ckpt-4501\n",
      "INFO:tensorflow:Finished evaluation at 2018-08-29-20:38:44\n",
      "INFO:tensorflow:Saving dict for global step 4501: accuracy = 0.76117563, global_step = 4501, loss = 0.6966458\n",
      "INFO:tensorflow:Validation (step 5000): loss = 0.6966458, accuracy = 0.76117563, global_step = 4501\n",
      "INFO:tensorflow:Saving checkpoints for 5001 into ./tmp10/model.ckpt.\n",
      "INFO:tensorflow:global_step/sec: 10.6995\n",
      "INFO:tensorflow:loss = 0.3177111, step = 5001 (9.346 sec)\n",
      "INFO:tensorflow:global_step/sec: 23.114\n",
      "INFO:tensorflow:loss = 0.27684674, step = 5101 (4.326 sec)\n",
      "INFO:tensorflow:global_step/sec: 23.0508\n",
      "INFO:tensorflow:loss = 0.34189567, step = 5201 (4.338 sec)\n",
      "INFO:tensorflow:global_step/sec: 23.1772\n",
      "INFO:tensorflow:loss = 0.26997048, step = 5301 (4.314 sec)\n",
      "INFO:tensorflow:global_step/sec: 22.7144\n",
      "INFO:tensorflow:loss = 0.29059812, step = 5401 (4.404 sec)\n",
      "INFO:tensorflow:Starting evaluation at 2018-08-29-20:39:06\n",
      "INFO:tensorflow:Restoring parameters from ./tmp10/model.ckpt-5001\n",
      "INFO:tensorflow:Finished evaluation at 2018-08-29-20:39:10\n",
      "INFO:tensorflow:Saving dict for global step 5001: accuracy = 0.76122135, global_step = 5001, loss = 0.6876281\n",
      "INFO:tensorflow:Validation (step 5500): loss = 0.6876281, accuracy = 0.76122135, global_step = 5001\n",
      "INFO:tensorflow:Saving checkpoints for 5501 into ./tmp10/model.ckpt.\n",
      "INFO:tensorflow:global_step/sec: 10.8757\n",
      "INFO:tensorflow:loss = 0.29849735, step = 5501 (9.193 sec)\n",
      "INFO:tensorflow:global_step/sec: 22.971\n",
      "INFO:tensorflow:loss = 0.33681, step = 5601 (4.354 sec)\n",
      "INFO:tensorflow:global_step/sec: 23.1142\n",
      "INFO:tensorflow:loss = 0.3293379, step = 5701 (4.326 sec)\n",
      "INFO:tensorflow:global_step/sec: 22.9289\n",
      "INFO:tensorflow:loss = 0.28846458, step = 5801 (4.361 sec)\n",
      "INFO:tensorflow:global_step/sec: 23.0464\n",
      "INFO:tensorflow:loss = 0.2958844, step = 5901 (4.340 sec)\n",
      "INFO:tensorflow:Starting evaluation at 2018-08-29-20:39:33\n",
      "INFO:tensorflow:Restoring parameters from ./tmp10/model.ckpt-5501\n",
      "INFO:tensorflow:Finished evaluation at 2018-08-29-20:39:37\n",
      "INFO:tensorflow:Saving dict for global step 5501: accuracy = 0.76339006, global_step = 5501, loss = 0.68579346\n",
      "INFO:tensorflow:Validation (step 6000): loss = 0.68579346, accuracy = 0.76339006, global_step = 5501\n",
      "INFO:tensorflow:Saving checkpoints for 6001 into ./tmp10/model.ckpt.\n",
      "INFO:tensorflow:global_step/sec: 10.8763\n",
      "INFO:tensorflow:loss = 0.3179032, step = 6001 (9.198 sec)\n",
      "INFO:tensorflow:global_step/sec: 22.9708\n",
      "INFO:tensorflow:loss = 0.33756557, step = 6101 (4.349 sec)\n",
      "INFO:tensorflow:global_step/sec: 23.0278\n",
      "INFO:tensorflow:loss = 0.268741, step = 6201 (4.343 sec)\n",
      "INFO:tensorflow:global_step/sec: 22.6789\n",
      "INFO:tensorflow:loss = 0.30861998, step = 6301 (4.410 sec)\n",
      "INFO:tensorflow:global_step/sec: 23.6212\n",
      "INFO:tensorflow:loss = 0.26016486, step = 6401 (4.233 sec)\n",
      "INFO:tensorflow:Starting evaluation at 2018-08-29-20:39:59\n",
      "INFO:tensorflow:Restoring parameters from ./tmp10/model.ckpt-6001\n",
      "INFO:tensorflow:Finished evaluation at 2018-08-29-20:40:03\n",
      "INFO:tensorflow:Saving dict for global step 6001: accuracy = 0.76480085, global_step = 6001, loss = 0.6842718\n",
      "INFO:tensorflow:Validation (step 6500): loss = 0.6842718, accuracy = 0.76480085, global_step = 6001\n",
      "INFO:tensorflow:Saving checkpoints for 6501 into ./tmp10/model.ckpt.\n",
      "INFO:tensorflow:global_step/sec: 11.3964\n",
      "INFO:tensorflow:loss = 0.29493836, step = 6501 (8.779 sec)\n",
      "INFO:tensorflow:global_step/sec: 22.735\n",
      "INFO:tensorflow:loss = 0.3082093, step = 6601 (4.394 sec)\n",
      "INFO:tensorflow:global_step/sec: 23.1462\n",
      "INFO:tensorflow:loss = 0.323174, step = 6701 (4.321 sec)\n",
      "INFO:tensorflow:global_step/sec: 23.4065\n",
      "INFO:tensorflow:loss = 0.26144943, step = 6801 (4.272 sec)\n",
      "INFO:tensorflow:global_step/sec: 23.1068\n",
      "INFO:tensorflow:loss = 0.24801962, step = 6901 (4.328 sec)\n",
      "INFO:tensorflow:Starting evaluation at 2018-08-29-20:40:25\n",
      "INFO:tensorflow:Restoring parameters from ./tmp10/model.ckpt-6501\n",
      "INFO:tensorflow:Finished evaluation at 2018-08-29-20:40:29\n",
      "INFO:tensorflow:Saving dict for global step 6501: accuracy = 0.7674813, global_step = 6501, loss = 0.6751759\n",
      "INFO:tensorflow:Validation (step 7000): loss = 0.6751759, accuracy = 0.7674813, global_step = 6501\n",
      "INFO:tensorflow:Saving checkpoints for 7001 into ./tmp10/model.ckpt.\n",
      "INFO:tensorflow:global_step/sec: 11.0951\n",
      "INFO:tensorflow:loss = 0.29544973, step = 7001 (9.011 sec)\n",
      "INFO:tensorflow:global_step/sec: 23.2597\n",
      "INFO:tensorflow:loss = 0.28540266, step = 7101 (4.302 sec)\n",
      "INFO:tensorflow:global_step/sec: 26.2495\n",
      "INFO:tensorflow:loss = 0.281139, step = 7201 (3.807 sec)\n",
      "INFO:tensorflow:global_step/sec: 23.6461\n",
      "INFO:tensorflow:loss = 0.22977355, step = 7301 (4.229 sec)\n",
      "INFO:tensorflow:global_step/sec: 24.9071\n",
      "INFO:tensorflow:loss = 0.30038685, step = 7401 (4.019 sec)\n",
      "INFO:tensorflow:Starting evaluation at 2018-08-29-20:40:50\n",
      "INFO:tensorflow:Restoring parameters from ./tmp10/model.ckpt-7001\n",
      "INFO:tensorflow:Finished evaluation at 2018-08-29-20:40:53\n",
      "INFO:tensorflow:Saving dict for global step 7001: accuracy = 0.7688384, global_step = 7001, loss = 0.6742267\n",
      "INFO:tensorflow:Validation (step 7500): loss = 0.6742267, accuracy = 0.7688384, global_step = 7001\n",
      "INFO:tensorflow:Saving checkpoints for 7501 into ./tmp10/model.ckpt.\n",
      "INFO:tensorflow:global_step/sec: 12.6417\n",
      "INFO:tensorflow:loss = 0.27176455, step = 7501 (7.912 sec)\n",
      "INFO:tensorflow:global_step/sec: 27.454\n",
      "INFO:tensorflow:loss = 0.33115867, step = 7601 (3.639 sec)\n",
      "INFO:tensorflow:global_step/sec: 24.224\n",
      "INFO:tensorflow:loss = 0.2560995, step = 7701 (4.128 sec)\n",
      "INFO:tensorflow:global_step/sec: 21.6609\n",
      "INFO:tensorflow:loss = 0.2750206, step = 7801 (4.616 sec)\n",
      "INFO:tensorflow:global_step/sec: 23.1373\n",
      "INFO:tensorflow:loss = 0.23110943, step = 7901 (4.322 sec)\n",
      "INFO:tensorflow:Starting evaluation at 2018-08-29-20:41:15\n",
      "INFO:tensorflow:Restoring parameters from ./tmp10/model.ckpt-7501\n",
      "INFO:tensorflow:Finished evaluation at 2018-08-29-20:41:19\n",
      "INFO:tensorflow:Saving dict for global step 7501: accuracy = 0.7695247, global_step = 7501, loss = 0.6709299\n",
      "INFO:tensorflow:Validation (step 8000): loss = 0.6709299, accuracy = 0.7695247, global_step = 7501\n",
      "INFO:tensorflow:Saving checkpoints for 8001 into ./tmp10/model.ckpt.\n",
      "INFO:tensorflow:global_step/sec: 11.6286\n",
      "INFO:tensorflow:loss = 0.25556988, step = 8001 (8.607 sec)\n",
      "INFO:tensorflow:global_step/sec: 23.8547\n",
      "INFO:tensorflow:loss = 0.28773904, step = 8101 (4.184 sec)\n",
      "INFO:tensorflow:global_step/sec: 23.6088\n",
      "INFO:tensorflow:loss = 0.3074645, step = 8201 (4.235 sec)\n",
      "INFO:tensorflow:global_step/sec: 24.5722\n",
      "INFO:tensorflow:loss = 0.24159396, step = 8301 (4.070 sec)\n",
      "INFO:tensorflow:global_step/sec: 23.9831\n",
      "INFO:tensorflow:loss = 0.22332571, step = 8401 (4.170 sec)\n",
      "INFO:tensorflow:Starting evaluation at 2018-08-29-20:41:40\n",
      "INFO:tensorflow:Restoring parameters from ./tmp10/model.ckpt-8001\n",
      "INFO:tensorflow:Finished evaluation at 2018-08-29-20:41:44\n",
      "INFO:tensorflow:Saving dict for global step 8001: accuracy = 0.767451, global_step = 8001, loss = 0.6798925\n"
     ]
    },
    {
     "name": "stdout",
     "output_type": "stream",
     "text": [
      "INFO:tensorflow:Validation (step 8500): loss = 0.6798925, accuracy = 0.767451, global_step = 8001\n",
      "INFO:tensorflow:Saving checkpoints for 8501 into ./tmp10/model.ckpt.\n",
      "INFO:tensorflow:global_step/sec: 11.3054\n",
      "INFO:tensorflow:loss = 0.2456361, step = 8501 (8.848 sec)\n",
      "INFO:tensorflow:global_step/sec: 24.0229\n",
      "INFO:tensorflow:loss = 0.2514162, step = 8601 (4.160 sec)\n",
      "INFO:tensorflow:global_step/sec: 23.5689\n",
      "INFO:tensorflow:loss = 0.28371418, step = 8701 (4.244 sec)\n",
      "INFO:tensorflow:global_step/sec: 21.091\n",
      "INFO:tensorflow:loss = 0.26184332, step = 8801 (4.742 sec)\n",
      "INFO:tensorflow:global_step/sec: 19.9095\n",
      "INFO:tensorflow:loss = 0.21149644, step = 8901 (5.021 sec)\n",
      "INFO:tensorflow:Starting evaluation at 2018-08-29-20:42:09\n",
      "INFO:tensorflow:Restoring parameters from ./tmp10/model.ckpt-8501\n",
      "INFO:tensorflow:Finished evaluation at 2018-08-29-20:42:14\n",
      "INFO:tensorflow:Saving dict for global step 8501: accuracy = 0.77091044, global_step = 8501, loss = 0.6676922\n",
      "INFO:tensorflow:Validation (step 9000): loss = 0.6676922, accuracy = 0.77091044, global_step = 8501\n",
      "INFO:tensorflow:Saving checkpoints for 9001 into ./tmp10/model.ckpt.\n",
      "INFO:tensorflow:global_step/sec: 8.42118\n",
      "INFO:tensorflow:loss = 0.23244253, step = 9001 (11.884 sec)\n",
      "INFO:tensorflow:global_step/sec: 21.7535\n",
      "INFO:tensorflow:loss = 0.25292462, step = 9101 (4.588 sec)\n",
      "INFO:tensorflow:global_step/sec: 21.4152\n",
      "INFO:tensorflow:loss = 0.22129402, step = 9201 (4.670 sec)\n",
      "INFO:tensorflow:global_step/sec: 21.6403\n",
      "INFO:tensorflow:loss = 0.19839434, step = 9301 (4.620 sec)\n",
      "INFO:tensorflow:global_step/sec: 22.3039\n",
      "INFO:tensorflow:loss = 0.23277679, step = 9401 (4.490 sec)\n",
      "INFO:tensorflow:Starting evaluation at 2018-08-29-20:42:38\n",
      "INFO:tensorflow:Restoring parameters from ./tmp10/model.ckpt-9001\n",
      "INFO:tensorflow:Finished evaluation at 2018-08-29-20:42:43\n",
      "INFO:tensorflow:Saving dict for global step 9001: accuracy = 0.7704031, global_step = 9001, loss = 0.66993636\n",
      "INFO:tensorflow:Validation (step 9500): loss = 0.66993636, accuracy = 0.7704031, global_step = 9001\n",
      "INFO:tensorflow:Saving checkpoints for 9501 into ./tmp10/model.ckpt.\n",
      "INFO:tensorflow:global_step/sec: 9.34308\n",
      "INFO:tensorflow:loss = 0.24027768, step = 9501 (10.703 sec)\n",
      "INFO:tensorflow:global_step/sec: 21.6141\n",
      "INFO:tensorflow:loss = 0.25415364, step = 9601 (4.621 sec)\n",
      "INFO:tensorflow:global_step/sec: 20.7803\n",
      "INFO:tensorflow:loss = 0.17799829, step = 9701 (4.816 sec)\n",
      "INFO:tensorflow:global_step/sec: 20.3561\n",
      "INFO:tensorflow:loss = 0.23484012, step = 9801 (4.916 sec)\n",
      "INFO:tensorflow:global_step/sec: 20.2246\n",
      "INFO:tensorflow:loss = 0.2631344, step = 9901 (4.946 sec)\n",
      "INFO:tensorflow:Starting evaluation at 2018-08-29-20:43:08\n",
      "INFO:tensorflow:Restoring parameters from ./tmp10/model.ckpt-9501\n",
      "INFO:tensorflow:Finished evaluation at 2018-08-29-20:43:14\n",
      "INFO:tensorflow:Saving dict for global step 9501: accuracy = 0.7715064, global_step = 9501, loss = 0.67619437\n",
      "INFO:tensorflow:Validation (step 10000): loss = 0.67619437, accuracy = 0.7715064, global_step = 9501\n",
      "INFO:tensorflow:Saving checkpoints for 10001 into ./tmp10/model.ckpt.\n",
      "INFO:tensorflow:global_step/sec: 8.75844\n",
      "INFO:tensorflow:loss = 0.24058048, step = 10001 (11.421 sec)\n",
      "INFO:tensorflow:global_step/sec: 21.1965\n",
      "INFO:tensorflow:loss = 0.20769982, step = 10101 (4.708 sec)\n",
      "INFO:tensorflow:global_step/sec: 19.4083\n",
      "INFO:tensorflow:loss = 0.20472577, step = 10201 (5.157 sec)\n",
      "INFO:tensorflow:global_step/sec: 20.9818\n",
      "INFO:tensorflow:loss = 0.23266815, step = 10301 (4.760 sec)\n",
      "INFO:tensorflow:global_step/sec: 20.4331\n",
      "INFO:tensorflow:loss = 0.24244812, step = 10401 (4.894 sec)\n",
      "INFO:tensorflow:Starting evaluation at 2018-08-29-20:43:39\n",
      "INFO:tensorflow:Restoring parameters from ./tmp10/model.ckpt-10001\n",
      "INFO:tensorflow:Finished evaluation at 2018-08-29-20:43:44\n",
      "INFO:tensorflow:Saving dict for global step 10001: accuracy = 0.7731773, global_step = 10001, loss = 0.67478746\n",
      "INFO:tensorflow:Validation (step 10500): loss = 0.67478746, accuracy = 0.7731773, global_step = 10001\n",
      "INFO:tensorflow:Saving checkpoints for 10501 into ./tmp10/model.ckpt.\n",
      "INFO:tensorflow:global_step/sec: 9.38632\n",
      "INFO:tensorflow:loss = 0.2003165, step = 10501 (10.664 sec)\n",
      "INFO:tensorflow:global_step/sec: 20.4728\n",
      "INFO:tensorflow:loss = 0.25483844, step = 10601 (4.876 sec)\n",
      "INFO:tensorflow:global_step/sec: 21.343\n",
      "INFO:tensorflow:loss = 0.21557684, step = 10701 (4.688 sec)\n",
      "INFO:tensorflow:global_step/sec: 19.7497\n",
      "INFO:tensorflow:loss = 0.25123698, step = 10801 (5.065 sec)\n",
      "INFO:tensorflow:global_step/sec: 22.0342\n",
      "INFO:tensorflow:loss = 0.20410223, step = 10901 (4.534 sec)\n",
      "INFO:tensorflow:Starting evaluation at 2018-08-29-20:44:09\n",
      "INFO:tensorflow:Restoring parameters from ./tmp10/model.ckpt-10501\n",
      "INFO:tensorflow:Finished evaluation at 2018-08-29-20:44:13\n",
      "INFO:tensorflow:Saving dict for global step 10501: accuracy = 0.7720481, global_step = 10501, loss = 0.67910075\n",
      "INFO:tensorflow:Validation (step 11000): loss = 0.67910075, accuracy = 0.7720481, global_step = 10501\n",
      "INFO:tensorflow:Stopping. Best step: 9000 with loss = 0.6676921844482422.\n",
      "INFO:tensorflow:Saving checkpoints for 11000 into ./tmp10/model.ckpt.\n",
      "INFO:tensorflow:Loss for final step: 0.20577909.\n",
      "Training time :599.1283521652222\n"
     ]
    }
   ],
   "source": [
    "\n",
    "    \n",
    "validation_monitor = tf.contrib.learn.monitors.ValidationMonitor(\n",
    "    #input_fn= get_train_inputs(),\n",
    "    input_fn= get_test_inputs(),\n",
    "    \n",
    "    every_n_steps=500,\n",
    "    #early_stopping_metric=\"accuracy\",#loss\n",
    "    early_stopping_metric=\"loss\",\n",
    "    early_stopping_metric_minimize=True,\n",
    "    early_stopping_rounds=2000)\n",
    "\n",
    "start = time.time()\n",
    "print(\"start\")\n",
    "\n",
    "#classifier.fit(input_fn=get_train_inputs(), monitors=[validation_monitor], steps=epochs, max_steps=None)\n",
    "classifier.fit(input_fn=get_train_inputs(), monitors=[validation_monitor], steps=epochs, max_steps=None)\n",
    "\n",
    "end = time.time()\n",
    "print(\"Training time :\" + str(end - start) )\n"
   ]
  },
  {
   "cell_type": "markdown",
   "metadata": {},
   "source": [
    "# Evaluation performance\n"
   ]
  },
  {
   "cell_type": "code",
   "execution_count": 16,
   "metadata": {},
   "outputs": [
    {
     "name": "stdout",
     "output_type": "stream",
     "text": [
      "INFO:tensorflow:Restoring parameters from ./tmp10/model.ckpt-11000\n"
     ]
    },
    {
     "name": "stderr",
     "output_type": "stream",
     "text": [
      "/root/anaconda3/lib/python3.6/site-packages/matplotlib/cbook/deprecation.py:107: MatplotlibDeprecationWarning: Passing one of 'on', 'true', 'off', 'false' as a boolean is deprecated; use an actual boolean (True/False) instead.\n",
      "  warnings.warn(message, mplDeprecation, stacklevel=1)\n"
     ]
    },
    {
     "data": {
      "image/png": "[encoded data removed]",
      "text/plain": [
       "<Figure size 432x288 with 2 Axes>"
      ]
     },
     "metadata": {},
     "output_type": "display_data"
    },
    {
     "data": {
      "text/markdown": [
       "## Accuracy in test: 82.64000837433268 "
      ],
      "text/plain": [
       "<IPython.core.display.Markdown object>"
      ]
     },
     "metadata": {},
     "output_type": "display_data"
    }
   ],
   "source": [
    "def input_fn_evaluate():\n",
    "    dataset = {'x': tf.constant(X_test.todense())}    \n",
    "    return dataset\n",
    "\n",
    "pred_test = classifier.predict_classes(input_fn=input_fn_evaluate)\n",
    "y_test_hat = np.asarray([x.decode('UTF-8') for x in list(pred_test)])\n",
    "y_test_hat = y_test_hat.astype(str)\n",
    "\n",
    "\n",
    "acc = accuracy_score(y_true=y_test, y_pred=y_test_hat)\n",
    "\n",
    "skplt.metrics.plot_confusion_matrix(y_test, y_test_hat,normalize=True)\n",
    "plt.xticks(rotation=45)\n",
    "plt.show()\n",
    "\n",
    "#print('Accuracy in test: {}'.format(acc))\n",
    "display(Markdown('## Accuracy in test: {} '.format(acc*100)))"
   ]
  },
  {
   "cell_type": "code",
   "execution_count": 17,
   "metadata": {},
   "outputs": [],
   "source": [
    "# from numba import cuda\n"
   ]
  },
  {
   "cell_type": "code",
   "execution_count": 18,
   "metadata": {},
   "outputs": [],
   "source": [
    "# cuda.select_device(0)\n",
    "# cuda.close()\n"
   ]
  },
  {
   "cell_type": "code",
   "execution_count": 19,
   "metadata": {},
   "outputs": [
    {
     "ename": "TypeError",
     "evalue": "close() missing 1 required positional argument: 'self'",
     "output_type": "error",
     "traceback": [
      "\u001b[0;31m---------------------------------------------------------------------------\u001b[0m",
      "\u001b[0;31mTypeError\u001b[0m                                 Traceback (most recent call last)",
      "\u001b[0;32m<ipython-input-19-74261a3defec>\u001b[0m in \u001b[0;36m<module>\u001b[0;34m()\u001b[0m\n\u001b[0;32m----> 1\u001b[0;31m \u001b[0mtf\u001b[0m\u001b[0;34m.\u001b[0m\u001b[0mSession\u001b[0m\u001b[0;34m.\u001b[0m\u001b[0mclose\u001b[0m\u001b[0;34m(\u001b[0m\u001b[0;34m)\u001b[0m\u001b[0;34m\u001b[0m\u001b[0m\n\u001b[0m",
      "\u001b[0;31mTypeError\u001b[0m: close() missing 1 required positional argument: 'self'"
     ]
    }
   ],
   "source": [
    "# tf.Session.close()"
   ]
  },
  {
   "cell_type": "code",
   "execution_count": null,
   "metadata": {},
   "outputs": [],
   "source": [
    "# classifier._session.close()"
   ]
  },
  {
   "cell_type": "code",
   "execution_count": null,
   "metadata": {},
   "outputs": [],
   "source": [
    "# tf.Session()"
   ]
  },
  {
   "cell_type": "code",
   "execution_count": null,
   "metadata": {},
   "outputs": [],
   "source": []
  }
 ],
 "metadata": {
  "kernelspec": {
   "display_name": "Python 3",
   "language": "python",
   "name": "python3"
  },
  "language_info": {
   "codemirror_mode": {
    "name": "ipython",
    "version": 3
   },
   "file_extension": ".py",
   "mimetype": "text/x-python",
   "name": "python",
   "nbconvert_exporter": "python",
   "pygments_lexer": "ipython3",
   "version": "3.6.5"
  },
  "widgets": {
   "application/vnd.jupyter.widget-state+json": {
    "state": {},
    "version_major": 2,
    "version_minor": 0
   }
  }
 },
 "nbformat": 4,
 "nbformat_minor": 2
}

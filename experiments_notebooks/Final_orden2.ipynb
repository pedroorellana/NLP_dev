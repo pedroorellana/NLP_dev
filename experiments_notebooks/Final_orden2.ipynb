{
 "cells": [
  {
   "cell_type": "code",
   "execution_count": 1,
   "metadata": {},
   "outputs": [
    {
     "name": "stdout",
     "output_type": "stream",
     "text": [
      "/root/anaconda3/lib/python3.6/site-packages/tensorflow/python/_pywrap_tensorflow_internal.so | _pywrap_tensorflow_internal\n",
      "/root/anaconda3/lib/python3.6/site-packages/tensorflow/contrib/lite/toco/python/_tensorflow_wrap_toco.so | _tensorflow_wrap_toco\n"
     ]
    }
   ],
   "source": [
    "# Utils\n",
    "import tensorflow as tf\n",
    "import pandas as pd\n",
    "import matplotlib.pyplot as plt\n",
    "\n",
    "import numpy as np\n",
    "import time\n",
    "#import _pickle as pickle\n",
    "import pickle\n",
    "import re, sys, unidecode\n",
    "#import unidecode\n",
    "\n",
    "# Representation\n",
    "import nltk\n",
    "from nltk.corpus import stopwords\n",
    "import scikitplot.plotters as skplt\n",
    "\n",
    "import wordbatch\n",
    "from wordbatch.extractors import WordBag, WordHash\n",
    "from wordbatch.models import FTRL\n",
    "\n",
    "from tensorflow.contrib.learn import DNNClassifier\n",
    "\n",
    "#from tecnosmartlib import DataObject"
   ]
  },
  {
   "cell_type": "code",
   "execution_count": 2,
   "metadata": {},
   "outputs": [
    {
     "name": "stdout",
     "output_type": "stream",
     "text": [
      "[nltk_data] Downloading package stopwords to /root/nltk_data...\n",
      "[nltk_data]   Package stopwords is already up-to-date!\n",
      "[nltk_data] Downloading package punkt to /root/nltk_data...\n",
      "[nltk_data]   Package punkt is already up-to-date!\n"
     ]
    },
    {
     "data": {
      "text/plain": [
       "True"
      ]
     },
     "execution_count": 2,
     "metadata": {},
     "output_type": "execute_result"
    }
   ],
   "source": [
    "#plt.style.use('fivethirtyeight')\n",
    "\n",
    "nltk.download('stopwords')\n",
    "nltk.download('punkt')"
   ]
  },
  {
   "cell_type": "markdown",
   "metadata": {},
   "source": [
    "# Load Data"
   ]
  },
  {
   "cell_type": "code",
   "execution_count": 3,
   "metadata": {},
   "outputs": [],
   "source": [
    "dfNoticias = pd.read_pickle(\"dfNoticias\")"
   ]
  },
  {
   "cell_type": "markdown",
   "metadata": {},
   "source": [
    "# pre procesing\n",
    "\n",
    "Cleaning data, select clases"
   ]
  },
  {
   "cell_type": "code",
   "execution_count": 4,
   "metadata": {},
   "outputs": [
    {
     "name": "stdout",
     "output_type": "stream",
     "text": [
      "Selecting useful information...done.\n"
     ]
    }
   ],
   "source": [
    "print('Selecting useful information...', end='')\n",
    "_map = {}\n",
    "_map[\"Cuerpo\"] = []\n",
    "_map[\"Seccion\"] = []\n",
    "\n",
    "for index, row in dfNoticias.iterrows():\n",
    "    if (row[\"Seccion_1\"] != None and row[\"Cuerpo\"] != None):\n",
    "        _map[\"Cuerpo\"].append(row[\"Cuerpo\"]) \n",
    "        _map[\"Seccion\"].append(row[\"Seccion_1\"])\n",
    "    \n",
    "#     if (row[\"Seccion_2\"] != None and row[\"Cuerpo\"] != None):\n",
    "#         _map[\"Cuerpo\"].append(row[\"Cuerpo\"]) \n",
    "#         _map[\"Seccion\"].append(row[\"Seccion_2\"])\n",
    "        \n",
    "#     if (row[\"Seccion_3\"] != None and row[\"Cuerpo\"] != None):\n",
    "#         _map[\"Cuerpo\"].append(row[\"Cuerpo\"]) \n",
    "#         _map[\"Seccion\"].append(row[\"Seccion_3\"])\n",
    "        \n",
    "print('done.')\n",
    "\n",
    "#print(_map[\"Seccion\"])"
   ]
  },
  {
   "cell_type": "code",
   "execution_count": 5,
   "metadata": {},
   "outputs": [
    {
     "name": "stdout",
     "output_type": "stream",
     "text": [
      "Number of data before dropping duplicates: 250339\n",
      "Number of data after dropping duplicates : 238909\n",
      "\n",
      "Number of duplicated data : 11430\n"
     ]
    }
   ],
   "source": [
    "df = pd.DataFrame(_map)\n",
    "numberOfDuplicates = df.shape[0]\n",
    "print('Number of data before dropping duplicates: {}'.format(df.shape[0]))\n",
    "df = df.drop_duplicates(inplace= False)\n",
    "df.reset_index(drop=True, inplace= True)\n",
    "numberOfDuplicates -= df.shape[0]\n",
    "print('Number of data after dropping duplicates : {}'.format(df.shape[0]))\n",
    "print('\\nNumber of duplicated data : {}'.format(numberOfDuplicates))\n",
    "\n",
    "#df.head()"
   ]
  },
  {
   "cell_type": "code",
   "execution_count": 6,
   "metadata": {},
   "outputs": [
    {
     "name": "stdout",
     "output_type": "stream",
     "text": [
      "Number of data: 238909\n"
     ]
    }
   ],
   "source": [
    "X_untransformed = df['Cuerpo'].reset_index(drop=True)\n",
    "y_untransformed = df['Seccion'].reset_index(drop=True)\n",
    "\n",
    "assert X_untransformed.shape[0] == y_untransformed.shape[0], 'X and y dimenssion must be the same.'\n",
    "print('Number of data: {}'.format(X_untransformed.shape[0]))"
   ]
  },
  {
   "cell_type": "code",
   "execution_count": 7,
   "metadata": {},
   "outputs": [
    {
     "name": "stdout",
     "output_type": "stream",
     "text": [
      "Seccion\n",
      "Corporativo        82\n",
      "Cultura          3128\n",
      "Deportes        76458\n",
      "Economía         6750\n",
      "Entretención    29438\n",
      "Mundo           31664\n",
      "País            75180\n",
      "Sociedad         9079\n",
      "Tecnología       7130\n",
      "Name: Cuerpo, dtype: int64\n"
     ]
    }
   ],
   "source": [
    "classes = df.groupby('Seccion')['Cuerpo'].nunique()\n",
    "\n",
    "print(classes)\n",
    "nClasses = classes.shape[0]\n",
    "\n",
    "#print('\\nNumber of classes: {}'.format(nClasses))"
   ]
  },
  {
   "cell_type": "markdown",
   "metadata": {},
   "source": [
    "# Feature Extraccion\n",
    "\n",
    "### Data representation\n",
    "\n",
    "TFID calculation"
   ]
  },
  {
   "cell_type": "code",
   "execution_count": 8,
   "metadata": {},
   "outputs": [
    {
     "name": "stdout",
     "output_type": "stream",
     "text": [
      "start\n",
      "Normalize text\n",
      "Extract wordbags\n",
      "TFIDF end time :98.41584014892578\n",
      "Number of features: 1000\n"
     ]
    }
   ],
   "source": [
    "\n",
    "start = time.time()\n",
    "print(\"start\")\n",
    "\n",
    "\n",
    "spanish_stopwords = stopwords.words('spanish')\n",
    "def normalize_text(text):\n",
    "    return u\" \".join([x for x in [y for y in text.lower().strip().split(\" \")] \n",
    "                      if len(x) > 1 and x not in spanish_stopwords])\n",
    "\n",
    "X_untransformed = X_untransformed\n",
    "n_docs = X_untransformed.shape[0]\n",
    "n_cpu = 20\n",
    "\n",
    "batch_size = int(n_docs/n_cpu)\n",
    "\n",
    "wb = wordbatch.WordBatch(normalize_text, \n",
    "                         extractor=(WordBag, {\"hash_ngrams\": 1, \"hash_ngrams_weights\": [1.0, 1.0],\n",
    "                                              \"hash_size\": 2**28, \"norm\": \"l2\", \"tf\": 1.0,\n",
    "                                              \"idf\": 1.0}), procs=n_cpu, n_words=1000, minibatch_size=batch_size)\n",
    "wb.dictionary_freeze = True\n",
    "word_comment = wb.fit_transform(list(X_untransformed),reset= False)\n",
    "X_transformed = word_comment[:, np.array(np.clip(word_comment.getnnz(axis=0) - 1, 0, 1), dtype = bool)]\n",
    "\n",
    "end = time.time()\n",
    "print(\"TFIDF end time :\" + str(end - start) )\n",
    "\n",
    "\n",
    "X = X_transformed\n",
    "print('Number of features: {}'.format(X.shape[1]))"
   ]
  },
  {
   "cell_type": "code",
   "execution_count": 9,
   "metadata": {},
   "outputs": [],
   "source": [
    "# start = time.time()\n",
    "# print(\"start\")\n",
    "\n",
    "# from sklearn.decomposition import TruncatedSVD\n",
    "# from sklearn.preprocessing import Normalizer\n",
    "# from sklearn.pipeline import make_pipeline\n",
    "# from numpy import linalg as LA\n",
    "# import numpy as np\n",
    "\n",
    "# sr = 1000\n",
    "# svd = TruncatedSVD(sr)\n",
    "# lsa = make_pipeline(svd, Normalizer(copy=False))\n",
    "# # Run SVD on the training data, then project the training data.\n",
    "# X_transformed = lsa.fit_transform(X_transformed)\n",
    "\n",
    "\n",
    "# end = time.time()\n",
    "# print(\"SVD end time :\" + str( (end - start)/60) )"
   ]
  },
  {
   "cell_type": "code",
   "execution_count": null,
   "metadata": {},
   "outputs": [],
   "source": []
  },
  {
   "cell_type": "code",
   "execution_count": 10,
   "metadata": {},
   "outputs": [],
   "source": [
    "# X=X_transformed\n",
    "# import _pickle as pickle\n",
    "# with open('test1.pk', 'wb') as file:\n",
    "#     pickle.dump(X, file)\n",
    "\n",
    "# import pickle\n",
    "# X=X_transformed\n",
    "# pickle.dump( X, open( \"test2.p\", \"wb\" ) )"
   ]
  },
  {
   "cell_type": "code",
   "execution_count": 11,
   "metadata": {},
   "outputs": [],
   "source": [
    "# pkl_file = open('test2.p', 'rb')\n",
    "\n",
    "# X = pickle.load(pkl_file)\n",
    "# X.shape"
   ]
  },
  {
   "cell_type": "markdown",
   "metadata": {},
   "source": [
    "### Output"
   ]
  },
  {
   "cell_type": "code",
   "execution_count": 12,
   "metadata": {},
   "outputs": [
    {
     "data": {
      "text/plain": [
       "True"
      ]
     },
     "execution_count": 12,
     "metadata": {},
     "output_type": "execute_result"
    }
   ],
   "source": [
    "class DataObject():\n",
    "    def __init__(self, x, y):\n",
    "        self.X = x\n",
    "        self.Y = y\n",
    "\n",
    "        try:\n",
    "            self.Y.reset_index(drop=True, inplace=True)\n",
    "        except:\n",
    "            pass\n",
    "\n",
    "        self.X_train = self.X\n",
    "        self.Y_train = self.Y\n",
    "\n",
    "        self.X_test  = None\n",
    "        self.Y_test  = None\n",
    "\n",
    "        self.X_test_dense = None\n",
    "\n",
    "        self.k = 0\n",
    "    def next_train_batch(self, batch_size):\n",
    "        indexes = np.random.choice(self.X_train.shape[0], size=batch_size, replace=False)\n",
    "        return self.X_train[indexes], self.Y_train.reindex(indexes)\n",
    "\n",
    "    def set_train_test(self,train_fraction = None, test_fraction = None, dense=True):\n",
    "        # Tests for create subsets\n",
    "        if train_fraction == None and test_fraction == None:\n",
    "            train_fraction = 0.8\n",
    "        elif train_fraction == None:\n",
    "            assert 0 <= test_fraction and test_fraction < 1, 'Test fraction must be in [0,1)'\n",
    "            train_fraction = 1 - test_fraction\n",
    "        else:\n",
    "            assert 0 < train_fraction and train_fraction <= 1, 'Train fraction must be in (0,1]'\n",
    "\n",
    "        train_indices = np.random.choice(self.X.shape[0], round(train_fraction*self.X.shape[0]), replace=False)\n",
    "        test_indices = np.array(list(set(range(self.X.shape[0])) - set(train_indices)))\n",
    "\n",
    "        self.X_train = self.X[train_indices]\n",
    "        self.Y_train = self.Y.reindex(train_indices)\n",
    "        self.Y_train = self.Y_train.reset_index()\n",
    "\n",
    "        self.X_test = self.X[test_indices]\n",
    "        self.Y_test = self.Y.reindex(test_indices)\n",
    "        self.Y_test = self.Y_test.reset_index()\n",
    "        if dense:\n",
    "            self.X_test_dense = self.X_test.todense()\n",
    "\n",
    "        return True\n",
    "\n",
    "\n",
    "Y = y_untransformed\n",
    "Y = Y.reset_index(drop=True)\n",
    "\n",
    "def remove_accents(a):\n",
    "    return unidecode.unidecode(a)\n",
    "\n",
    "data = DataObject(X,Y.apply(remove_accents))\n",
    "\n",
    "labels = [remove_accents(x) for x in list(data.Y.unique())]\n",
    "#print(labels)\n",
    "\n",
    "data.set_train_test(0.8)\n",
    "#print(data.Y_train.reset_index(drop=True))"
   ]
  },
  {
   "cell_type": "markdown",
   "metadata": {},
   "source": [
    "# Model\n",
    "\n",
    "### DNN graph generation"
   ]
  },
  {
   "cell_type": "code",
   "execution_count": 13,
   "metadata": {},
   "outputs": [
    {
     "name": "stdout",
     "output_type": "stream",
     "text": [
      "INFO:tensorflow:Using config: {'_task_type': None, '_task_id': 0, '_cluster_spec': <tensorflow.python.training.server_lib.ClusterSpec object at 0x7f6f8ff390b8>, '_master': '', '_num_ps_replicas': 0, '_num_worker_replicas': 0, '_environment': 'local', '_is_chief': True, '_evaluation_master': '', '_tf_config': gpu_options {\n",
      "  per_process_gpu_memory_fraction: 1.0\n",
      "}\n",
      ", '_tf_random_seed': None, '_save_summary_steps': 100, '_save_checkpoints_secs': None, '_log_step_count_steps': 100, '_session_config': None, '_save_checkpoints_steps': None, '_keep_checkpoint_max': 5, '_keep_checkpoint_every_n_hours': 10000, '_model_dir': './model-parallel/seccion_dnn'}\n"
     ]
    }
   ],
   "source": [
    "tf.set_random_seed(42)\n",
    "\n",
    "feature_columns = [tf.contrib.layers.real_valued_column('x', dimension=1000)]\n",
    "\n",
    "classifier = DNNClassifier(n_classes=nClasses, label_keys=labels, feature_columns=feature_columns,\n",
    "                           hidden_units=[2000, 1000, 100],\n",
    "                           dropout=0.8,\n",
    "                           weight_column_name='class_weights',\n",
    "                           model_dir = './model-parallel/seccion_dnn',\n",
    "                           config = tf.contrib.learn.RunConfig(save_checkpoints_steps = None,\n",
    "                                                               save_checkpoints_secs = None)\n",
    "                          )"
   ]
  },
  {
   "cell_type": "markdown",
   "metadata": {},
   "source": [
    "### functions graph tensorflow"
   ]
  },
  {
   "cell_type": "code",
   "execution_count": 14,
   "metadata": {},
   "outputs": [],
   "source": [
    "epochs = 10000\n",
    "\n",
    "# Define the test inputs\n",
    "def get_train_inputs():\n",
    "    print(\"Paso por aca.........................\")\n",
    "    X_ = data.X_train\n",
    "    Y_ = data.Y_train\n",
    "    X_ = X_.todense()\n",
    "    x = X_\n",
    "    Y_ = Y_['Seccion'].reset_index(drop=True)\n",
    "#     y = y.apply(remove_accents)\n",
    "#     y = y.values\n",
    "\n",
    "    y = Y_.values\n",
    "    \n",
    "    # computing lengths of each class\n",
    "    sizes = {label: Y_[Y_ == label].shape[0] for label in labels}\n",
    "#     print(sizes)\n",
    "\n",
    "    # creating weights for each sample\n",
    "    scale_factor = 10e3\n",
    "    weights = np.asarray([1.0/sizes[label] for label in y])\n",
    "    weights = scale_factor*weights\n",
    "    weights = weights[:,np.newaxis]\n",
    "    print('weights shape: {}'.format(weights.shape))\n",
    "    \n",
    "    dataset = tf.estimator.inputs.numpy_input_fn({'x': x, 'class_weights': weights}, y[:,np.newaxis], shuffle=True, batch_size=500, num_epochs=epochs)\n",
    "    return dataset\n",
    "\n",
    "def get_test_inputs():\n",
    "    X_ = data.X_test_dense\n",
    "    Y_ = data.Y_test\n",
    "#     X_ = X_.todense()\n",
    "    x = X_\n",
    "    Y_ = Y_['Seccion'].reset_index(drop=True)\n",
    "    y = Y_.values\n",
    "    \n",
    "    # computing lengths of each class\n",
    "    sizes = {label: Y_[Y_ == label].shape[0] for label in labels}\n",
    "#     print(sizes)\n",
    "\n",
    "    # creating weights for each sample\n",
    "    scale_factor = 10e3\n",
    "    weights = np.asarray([1.0/sizes[label] for label in y])\n",
    "    weights = scale_factor*weights\n",
    "    weights = weights[:,np.newaxis]\n",
    "    print('weights shape: {}'.format(weights.shape))\n",
    "    \n",
    "    dataset = tf.estimator.inputs.numpy_input_fn({'x': x, 'class_weights': weights}, y[:,np.newaxis], shuffle=False)\n",
    "    return dataset\n",
    "\n",
    "\n"
   ]
  },
  {
   "cell_type": "code",
   "execution_count": 15,
   "metadata": {},
   "outputs": [
    {
     "name": "stdout",
     "output_type": "stream",
     "text": [
      "weights shape: (47782, 1)\n",
      "WARNING:tensorflow:From /root/anaconda3/lib/python3.6/site-packages/tensorflow/contrib/learn/python/learn/monitors.py:267: BaseMonitor.__init__ (from tensorflow.contrib.learn.python.learn.monitors) is deprecated and will be removed after 2016-12-05.\n",
      "Instructions for updating:\n",
      "Monitors are deprecated. Please use tf.train.SessionRunHook.\n",
      "Paso por aca.........................\n",
      "weights shape: (191127, 1)\n",
      "INFO:tensorflow:Restoring parameters from ./model-parallel/seccion_dnn/model.ckpt-108008\n",
      "INFO:tensorflow:Starting evaluation at 2018-08-06-18:15:47\n",
      "INFO:tensorflow:Restoring parameters from ./model-parallel/seccion_dnn/model.ckpt-108008\n",
      "INFO:tensorflow:Finished evaluation at 2018-08-06-18:15:51\n",
      "INFO:tensorflow:Saving dict for global step 108008: accuracy = 0.9689938, global_step = 108008, loss = 0.11808318\n",
      "INFO:tensorflow:Validation (step 108009): loss = 0.11808318, accuracy = 0.9689938, global_step = 108008\n",
      "INFO:tensorflow:loss = 0.13612369, step = 108009\n",
      "INFO:tensorflow:global_step/sec: 10.7131\n",
      "INFO:tensorflow:loss = 0.11299324, step = 108109 (4.501 sec)\n",
      "INFO:tensorflow:global_step/sec: 23.3783\n",
      "INFO:tensorflow:loss = 0.15419124, step = 108209 (4.278 sec)\n",
      "INFO:tensorflow:global_step/sec: 23.7659\n",
      "INFO:tensorflow:loss = 0.19646662, step = 108309 (4.207 sec)\n",
      "INFO:tensorflow:global_step/sec: 23.0489\n",
      "INFO:tensorflow:loss = 0.118071824, step = 108409 (4.338 sec)\n",
      "INFO:tensorflow:global_step/sec: 24.0153\n",
      "INFO:tensorflow:loss = 0.13981377, step = 108509 (4.171 sec)\n",
      "INFO:tensorflow:global_step/sec: 23.8069\n",
      "INFO:tensorflow:loss = 0.15383731, step = 108609 (4.195 sec)\n",
      "INFO:tensorflow:global_step/sec: 23.0364\n",
      "INFO:tensorflow:loss = 0.11056633, step = 108709 (4.341 sec)\n",
      "INFO:tensorflow:global_step/sec: 22.7319\n",
      "INFO:tensorflow:loss = 0.121876284, step = 108809 (4.400 sec)\n",
      "INFO:tensorflow:global_step/sec: 22.8406\n",
      "INFO:tensorflow:loss = 0.15257269, step = 108909 (4.377 sec)\n",
      "INFO:tensorflow:global_step/sec: 23.2641\n",
      "INFO:tensorflow:loss = 0.10174286, step = 109009 (4.305 sec)\n",
      "INFO:tensorflow:global_step/sec: 23.1073\n",
      "INFO:tensorflow:loss = 0.1576381, step = 109109 (4.320 sec)\n",
      "INFO:tensorflow:global_step/sec: 23.0267\n",
      "INFO:tensorflow:loss = 0.19465908, step = 109209 (4.345 sec)\n",
      "INFO:tensorflow:global_step/sec: 23.0799\n",
      "INFO:tensorflow:loss = 0.14895159, step = 109309 (4.331 sec)\n",
      "INFO:tensorflow:global_step/sec: 23.0143\n",
      "INFO:tensorflow:loss = 0.11581664, step = 109409 (4.346 sec)\n",
      "INFO:tensorflow:global_step/sec: 23.239\n",
      "INFO:tensorflow:loss = 0.13784316, step = 109509 (4.309 sec)\n",
      "INFO:tensorflow:global_step/sec: 22.7114\n",
      "INFO:tensorflow:loss = 0.16583548, step = 109609 (4.397 sec)\n",
      "INFO:tensorflow:global_step/sec: 22.7238\n",
      "INFO:tensorflow:loss = 0.113334894, step = 109709 (4.400 sec)\n",
      "INFO:tensorflow:global_step/sec: 22.6371\n",
      "INFO:tensorflow:loss = 0.13569729, step = 109809 (4.419 sec)\n",
      "INFO:tensorflow:global_step/sec: 22.7676\n",
      "INFO:tensorflow:loss = 0.109453715, step = 109909 (4.392 sec)\n",
      "INFO:tensorflow:global_step/sec: 23.0453\n",
      "INFO:tensorflow:loss = 0.11581172, step = 110009 (4.346 sec)\n",
      "INFO:tensorflow:global_step/sec: 22.7656\n",
      "INFO:tensorflow:loss = 0.27631164, step = 110109 (4.386 sec)\n",
      "INFO:tensorflow:global_step/sec: 23.3051\n",
      "INFO:tensorflow:loss = 0.14239813, step = 110209 (4.290 sec)\n",
      "INFO:tensorflow:global_step/sec: 23.5099\n",
      "INFO:tensorflow:loss = 0.14610937, step = 110309 (4.254 sec)\n",
      "INFO:tensorflow:global_step/sec: 23.2166\n",
      "INFO:tensorflow:loss = 0.19157462, step = 110409 (4.308 sec)\n",
      "INFO:tensorflow:global_step/sec: 22.5811\n",
      "INFO:tensorflow:loss = 0.16075842, step = 110509 (4.434 sec)\n",
      "INFO:tensorflow:global_step/sec: 22.6994\n",
      "INFO:tensorflow:loss = 0.17191802, step = 110609 (4.399 sec)\n",
      "INFO:tensorflow:global_step/sec: 22.8837\n",
      "INFO:tensorflow:loss = 0.12645721, step = 110709 (4.371 sec)\n",
      "INFO:tensorflow:global_step/sec: 22.9758\n",
      "INFO:tensorflow:loss = 0.12616369, step = 110809 (4.352 sec)\n",
      "INFO:tensorflow:global_step/sec: 22.9929\n",
      "INFO:tensorflow:loss = 0.19197214, step = 110909 (4.349 sec)\n",
      "INFO:tensorflow:global_step/sec: 23.5695\n",
      "INFO:tensorflow:loss = 0.13064069, step = 111009 (4.250 sec)\n",
      "INFO:tensorflow:global_step/sec: 23.3386\n",
      "INFO:tensorflow:loss = 0.09395605, step = 111109 (4.279 sec)\n",
      "INFO:tensorflow:global_step/sec: 22.7022\n",
      "INFO:tensorflow:loss = 0.12444429, step = 111209 (4.403 sec)\n",
      "INFO:tensorflow:global_step/sec: 23.0906\n",
      "INFO:tensorflow:loss = 0.12944236, step = 111309 (4.332 sec)\n",
      "INFO:tensorflow:global_step/sec: 23.1056\n",
      "INFO:tensorflow:loss = 0.111982785, step = 111409 (4.328 sec)\n",
      "INFO:tensorflow:global_step/sec: 23.0028\n",
      "INFO:tensorflow:loss = 0.13368045, step = 111509 (4.351 sec)\n",
      "INFO:tensorflow:global_step/sec: 23.1712\n",
      "INFO:tensorflow:loss = 0.1277756, step = 111609 (4.312 sec)\n",
      "INFO:tensorflow:global_step/sec: 22.894\n",
      "INFO:tensorflow:loss = 0.15009856, step = 111709 (4.368 sec)\n",
      "INFO:tensorflow:global_step/sec: 23.2994\n",
      "INFO:tensorflow:loss = 0.20208646, step = 111809 (4.291 sec)\n",
      "INFO:tensorflow:global_step/sec: 22.85\n",
      "INFO:tensorflow:loss = 0.103571646, step = 111909 (4.378 sec)\n",
      "INFO:tensorflow:global_step/sec: 23.4075\n",
      "INFO:tensorflow:loss = 0.11616944, step = 112009 (4.279 sec)\n",
      "INFO:tensorflow:global_step/sec: 23.2129\n",
      "INFO:tensorflow:loss = 0.107332654, step = 112109 (4.303 sec)\n",
      "INFO:tensorflow:global_step/sec: 22.6541\n",
      "INFO:tensorflow:loss = 0.12187255, step = 112209 (4.410 sec)\n",
      "INFO:tensorflow:global_step/sec: 23.1542\n",
      "INFO:tensorflow:loss = 0.12740122, step = 112309 (4.321 sec)\n",
      "INFO:tensorflow:global_step/sec: 23.6165\n",
      "INFO:tensorflow:loss = 0.09654789, step = 112409 (4.234 sec)\n",
      "INFO:tensorflow:global_step/sec: 22.9491\n",
      "INFO:tensorflow:loss = 0.15353921, step = 112509 (4.363 sec)\n",
      "INFO:tensorflow:global_step/sec: 23.571\n",
      "INFO:tensorflow:loss = 0.10107559, step = 112609 (4.237 sec)\n",
      "INFO:tensorflow:global_step/sec: 22.8278\n",
      "INFO:tensorflow:loss = 0.101032495, step = 112709 (4.380 sec)\n",
      "INFO:tensorflow:global_step/sec: 23.0504\n",
      "INFO:tensorflow:loss = 0.13182159, step = 112809 (4.339 sec)\n",
      "INFO:tensorflow:global_step/sec: 23.0065\n",
      "INFO:tensorflow:loss = 0.10306693, step = 112909 (4.348 sec)\n",
      "INFO:tensorflow:global_step/sec: 22.7486\n",
      "INFO:tensorflow:loss = 0.09254298, step = 113009 (4.401 sec)\n",
      "INFO:tensorflow:global_step/sec: 22.8922\n",
      "INFO:tensorflow:loss = 0.13330822, step = 113109 (4.362 sec)\n",
      "INFO:tensorflow:global_step/sec: 23.7608\n",
      "INFO:tensorflow:loss = 0.15514496, step = 113209 (4.209 sec)\n",
      "INFO:tensorflow:global_step/sec: 22.8296\n",
      "INFO:tensorflow:loss = 0.075876646, step = 113309 (4.380 sec)\n",
      "INFO:tensorflow:global_step/sec: 22.7278\n",
      "INFO:tensorflow:loss = 0.106829524, step = 113409 (4.400 sec)\n",
      "INFO:tensorflow:global_step/sec: 22.9304\n",
      "INFO:tensorflow:loss = 0.10556042, step = 113509 (4.368 sec)\n",
      "INFO:tensorflow:global_step/sec: 23.0614\n",
      "INFO:tensorflow:loss = 0.10650624, step = 113609 (4.329 sec)\n",
      "INFO:tensorflow:global_step/sec: 23.0096\n",
      "INFO:tensorflow:loss = 0.10884713, step = 113709 (4.345 sec)\n",
      "INFO:tensorflow:global_step/sec: 23.3389\n",
      "INFO:tensorflow:loss = 0.10377745, step = 113809 (4.286 sec)\n",
      "INFO:tensorflow:global_step/sec: 23.0271\n",
      "INFO:tensorflow:loss = 0.09783414, step = 113909 (4.343 sec)\n",
      "INFO:tensorflow:global_step/sec: 22.9598\n",
      "INFO:tensorflow:loss = 0.10014528, step = 114009 (4.363 sec)\n",
      "INFO:tensorflow:global_step/sec: 23.4752\n",
      "INFO:tensorflow:loss = 0.10033171, step = 114109 (4.251 sec)\n",
      "INFO:tensorflow:global_step/sec: 23.0009\n",
      "INFO:tensorflow:loss = 0.11751149, step = 114209 (4.349 sec)\n",
      "INFO:tensorflow:global_step/sec: 22.8268\n",
      "INFO:tensorflow:loss = 0.11703877, step = 114309 (4.381 sec)\n",
      "INFO:tensorflow:global_step/sec: 22.7497\n",
      "INFO:tensorflow:loss = 0.12098501, step = 114409 (4.395 sec)\n",
      "INFO:tensorflow:global_step/sec: 22.9637\n",
      "INFO:tensorflow:loss = 0.110451646, step = 114509 (4.360 sec)\n",
      "INFO:tensorflow:global_step/sec: 23.2138\n",
      "INFO:tensorflow:loss = 0.11487851, step = 114609 (4.302 sec)\n",
      "INFO:tensorflow:global_step/sec: 22.9988\n",
      "INFO:tensorflow:loss = 0.13087274, step = 114709 (4.348 sec)\n",
      "INFO:tensorflow:global_step/sec: 22.9073\n",
      "INFO:tensorflow:loss = 0.11361475, step = 114809 (4.366 sec)\n",
      "INFO:tensorflow:global_step/sec: 23.3957\n",
      "INFO:tensorflow:loss = 0.1342125, step = 114909 (4.274 sec)\n",
      "INFO:tensorflow:global_step/sec: 23.1971\n",
      "INFO:tensorflow:loss = 0.083043605, step = 115009 (4.318 sec)\n",
      "INFO:tensorflow:global_step/sec: 23.2287\n",
      "INFO:tensorflow:loss = 0.12316803, step = 115109 (4.297 sec)\n",
      "INFO:tensorflow:global_step/sec: 22.8136\n",
      "INFO:tensorflow:loss = 0.1049443, step = 115209 (4.384 sec)\n",
      "INFO:tensorflow:global_step/sec: 23.5836\n",
      "INFO:tensorflow:loss = 0.11698483, step = 115309 (4.240 sec)\n",
      "INFO:tensorflow:global_step/sec: 22.8317\n",
      "INFO:tensorflow:loss = 0.09363512, step = 115409 (4.380 sec)\n",
      "INFO:tensorflow:global_step/sec: 23.085\n",
      "INFO:tensorflow:loss = 0.12023649, step = 115509 (4.339 sec)\n",
      "INFO:tensorflow:global_step/sec: 23.0248\n",
      "INFO:tensorflow:loss = 0.11177722, step = 115609 (4.337 sec)\n",
      "INFO:tensorflow:global_step/sec: 23.0348\n",
      "INFO:tensorflow:loss = 0.12756547, step = 115709 (4.340 sec)\n",
      "INFO:tensorflow:global_step/sec: 23.3486\n",
      "INFO:tensorflow:loss = 0.1441726, step = 115809 (4.282 sec)\n",
      "INFO:tensorflow:global_step/sec: 22.8859\n",
      "INFO:tensorflow:loss = 0.13320586, step = 115909 (4.369 sec)\n",
      "INFO:tensorflow:global_step/sec: 23.2577\n",
      "INFO:tensorflow:loss = 0.1429301, step = 116009 (4.308 sec)\n",
      "INFO:tensorflow:global_step/sec: 23.5061\n",
      "INFO:tensorflow:loss = 0.13605516, step = 116109 (4.247 sec)\n",
      "INFO:tensorflow:global_step/sec: 23.1275\n",
      "INFO:tensorflow:loss = 0.087631114, step = 116209 (4.324 sec)\n",
      "INFO:tensorflow:global_step/sec: 23.3039\n",
      "INFO:tensorflow:loss = 0.122505836, step = 116309 (4.291 sec)\n",
      "INFO:tensorflow:global_step/sec: 23.689\n",
      "INFO:tensorflow:loss = 0.11458357, step = 116409 (4.221 sec)\n",
      "INFO:tensorflow:global_step/sec: 22.8786\n",
      "INFO:tensorflow:loss = 0.089796245, step = 116509 (4.377 sec)\n",
      "INFO:tensorflow:global_step/sec: 23.0266\n",
      "INFO:tensorflow:loss = 0.107444465, step = 116609 (4.336 sec)\n",
      "INFO:tensorflow:global_step/sec: 23.2028\n",
      "INFO:tensorflow:loss = 0.14205271, step = 116709 (4.311 sec)\n",
      "INFO:tensorflow:global_step/sec: 23.1593\n",
      "INFO:tensorflow:loss = 0.10016416, step = 116809 (4.319 sec)\n",
      "INFO:tensorflow:global_step/sec: 22.7867\n",
      "INFO:tensorflow:loss = 0.09601102, step = 116909 (4.387 sec)\n",
      "INFO:tensorflow:global_step/sec: 23.2824\n",
      "INFO:tensorflow:loss = 0.098515406, step = 117009 (4.304 sec)\n",
      "INFO:tensorflow:global_step/sec: 22.6953\n",
      "INFO:tensorflow:loss = 0.09638601, step = 117109 (4.398 sec)\n",
      "INFO:tensorflow:global_step/sec: 22.8509\n",
      "INFO:tensorflow:loss = 0.10218098, step = 117209 (4.377 sec)\n",
      "INFO:tensorflow:global_step/sec: 22.9414\n",
      "INFO:tensorflow:loss = 0.11436152, step = 117309 (4.358 sec)\n",
      "INFO:tensorflow:global_step/sec: 22.87\n",
      "INFO:tensorflow:loss = 0.12101733, step = 117409 (4.374 sec)\n",
      "INFO:tensorflow:global_step/sec: 23.2342\n",
      "INFO:tensorflow:loss = 0.11619649, step = 117509 (4.308 sec)\n",
      "INFO:tensorflow:global_step/sec: 23.104\n",
      "INFO:tensorflow:loss = 0.11744913, step = 117609 (4.324 sec)\n",
      "INFO:tensorflow:global_step/sec: 23.2467\n",
      "INFO:tensorflow:loss = 0.103671715, step = 117709 (4.302 sec)\n",
      "INFO:tensorflow:global_step/sec: 22.8032\n",
      "INFO:tensorflow:loss = 0.10020831, step = 117809 (4.386 sec)\n",
      "INFO:tensorflow:global_step/sec: 22.9589\n",
      "INFO:tensorflow:loss = 0.14144374, step = 117909 (4.354 sec)\n",
      "INFO:tensorflow:Loss for final step: 0.120273724.\n"
     ]
    },
    {
     "data": {
      "text/plain": [
       "DNNClassifier(params={'head': <tensorflow.contrib.learn.python.learn.estimators.head._MultiClassHead object at 0x7f6f8ff39c88>, 'hidden_units': [2000, 1000, 100], 'feature_columns': (_RealValuedColumn(column_name='x', dimension=1000, default_value=None, dtype=tf.float32, normalizer=None),), 'optimizer': None, 'activation_fn': <function relu at 0x7f7061598510>, 'dropout': 0.8, 'gradient_clip_norm': None, 'embedding_lr_multipliers': None, 'input_layer_min_slice_size': None})"
      ]
     },
     "execution_count": 15,
     "metadata": {},
     "output_type": "execute_result"
    }
   ],
   "source": [
    "validation_monitor = tf.contrib.learn.monitors.ValidationMonitor(\n",
    "    input_fn= get_test_inputs(),\n",
    "    every_n_steps=500,\n",
    "    early_stopping_metric=\"accuracy\",\n",
    "    early_stopping_rounds = 5000)\n",
    "\n",
    "classifier.fit(input_fn=get_train_inputs(), monitors=[validation_monitor], steps=epochs, max_steps=None)"
   ]
  },
  {
   "cell_type": "code",
   "execution_count": 16,
   "metadata": {},
   "outputs": [
    {
     "name": "stdout",
     "output_type": "stream",
     "text": [
      "INFO:tensorflow:Restoring parameters from ./model-parallel/seccion_dnn/model.ckpt-108008\n",
      "Test shape: (47782,)\n",
      "Real shape: (47782,)\n",
      "Accuracy in test: 0.9557364698003432\n"
     ]
    }
   ],
   "source": [
    "def input_fn_evaluate():\n",
    "    dataset = {'x': tf.constant(data.X_test_dense)}\n",
    "    \n",
    "    return dataset\n",
    "\n",
    "pred_test = classifier.predict_classes(input_fn=input_fn_evaluate)\n",
    "\n",
    "# print(pred_test)\n",
    "\n",
    "y_test_hat = np.asarray([x.decode('UTF-8') for x in list(pred_test)])\n",
    "y_test_hat = y_test_hat.astype(str)\n",
    "y_test = data.Y_test['Seccion'].values\n",
    "y_test = y_test.astype(str)\n",
    "print('Test shape: {}\\nReal shape: {}'.format(y_test_hat.shape, y_test.shape))\n",
    "\n",
    "from sklearn.metrics import accuracy_score\n",
    "acc = accuracy_score(y_true=y_test, y_pred=y_test_hat)\n",
    "print('Accuracy in test: {}'.format(acc))"
   ]
  },
  {
   "cell_type": "code",
   "execution_count": 17,
   "metadata": {},
   "outputs": [
    {
     "name": "stderr",
     "output_type": "stream",
     "text": [
      "/root/anaconda3/lib/python3.6/site-packages/sklearn/utils/deprecation.py:77: DeprecationWarning: Function plot_confusion_matrix is deprecated; This will be removed in v0.4.0. Please use scikitplot.metrics.plot_confusion_matrix instead.\n",
      "  warnings.warn(msg, category=DeprecationWarning)\n",
      "/root/anaconda3/lib/python3.6/site-packages/matplotlib/cbook/deprecation.py:107: MatplotlibDeprecationWarning: Passing one of 'on', 'true', 'off', 'false' as a boolean is deprecated; use an actual boolean (True/False) instead.\n",
      "  warnings.warn(message, mplDeprecation, stacklevel=1)\n"
     ]
    },
    {
     "data": {
      "text/plain": [
       "(array([0, 1, 2, 3, 4, 5, 6, 7, 8]), <a list of 9 Text xticklabel objects>)"
      ]
     },
     "execution_count": 17,
     "metadata": {},
     "output_type": "execute_result"
    },
    {
     "data": {
      "image/png": "[encoded data removed]",
      "text/plain": [
       "<Figure size 432x288 with 2 Axes>"
      ]
     },
     "metadata": {},
     "output_type": "display_data"
    }
   ],
   "source": [
    "import matplotlib.pyplot as plt2\n",
    "\n",
    "ax = skplt.plot_confusion_matrix(y_test, y_test_hat,normalize=True)\n",
    "# plt.xticks(rotation=45)\n",
    "\n",
    "for tick in ax.xaxis.get_minor_ticks():\n",
    "    tick.tick1line.set_markersize(0)\n",
    "    tick.tick2line.set_markersize(0)\n",
    "    tick.label1.set_horizontalalignment('center')\n",
    "\n",
    "plt2.xticks(rotation=70)"
   ]
  },
  {
   "cell_type": "code",
   "execution_count": null,
   "metadata": {},
   "outputs": [],
   "source": []
  }
 ],
 "metadata": {
  "kernelspec": {
   "display_name": "Python 3",
   "language": "python",
   "name": "python3"
  },
  "language_info": {
   "codemirror_mode": {
    "name": "ipython",
    "version": 3
   },
   "file_extension": ".py",
   "mimetype": "text/x-python",
   "name": "python",
   "nbconvert_exporter": "python",
   "pygments_lexer": "ipython3",
   "version": "3.6.4"
  }
 },
 "nbformat": 4,
 "nbformat_minor": 2
}

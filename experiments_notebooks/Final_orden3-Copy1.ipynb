{
 "cells": [
  {
   "cell_type": "code",
   "execution_count": 2,
   "metadata": {},
   "outputs": [
    {
     "name": "stdout",
     "output_type": "stream",
     "text": [
      "/root/anaconda3/lib/python3.6/site-packages/tensorflow/python/_pywrap_tensorflow_internal.so | _pywrap_tensorflow_internal\n",
      "/root/anaconda3/lib/python3.6/site-packages/tensorflow/contrib/lite/toco/python/_tensorflow_wrap_toco.so | _tensorflow_wrap_toco\n"
     ]
    }
   ],
   "source": [
    "# Utils\n",
    "import tensorflow as tf\n",
    "import pandas as pd\n",
    "import matplotlib.pyplot as plt\n",
    "\n",
    "import numpy as np\n",
    "import time\n",
    "#import _pickle as pickle\n",
    "import pickle\n",
    "import re, sys, unidecode\n",
    "#import unidecode\n",
    "\n",
    "\n",
    "# Representation\n",
    "import nltk\n",
    "from nltk.corpus import stopwords\n",
    "import scikitplot.plotters as skplt\n",
    "\n",
    "import wordbatch\n",
    "from wordbatch.extractors import WordBag, WordHash\n",
    "from wordbatch.models import FTRL\n",
    "\n",
    "from tensorflow.contrib.learn import DNNClassifier\n",
    "\n",
    "#from tecnosmartlib import DataObject"
   ]
  },
  {
   "cell_type": "code",
   "execution_count": 3,
   "metadata": {},
   "outputs": [
    {
     "name": "stdout",
     "output_type": "stream",
     "text": [
      "[nltk_data] Downloading package stopwords to /root/nltk_data...\n",
      "[nltk_data]   Package stopwords is already up-to-date!\n",
      "[nltk_data] Downloading package punkt to /root/nltk_data...\n",
      "[nltk_data]   Package punkt is already up-to-date!\n"
     ]
    },
    {
     "data": {
      "text/plain": [
       "True"
      ]
     },
     "execution_count": 3,
     "metadata": {},
     "output_type": "execute_result"
    }
   ],
   "source": [
    "#plt.style.use('fivethirtyeight')\n",
    "\n",
    "nltk.download('stopwords')\n",
    "nltk.download('punkt')"
   ]
  },
  {
   "cell_type": "markdown",
   "metadata": {},
   "source": [
    "# Load Data"
   ]
  },
  {
   "cell_type": "code",
   "execution_count": 4,
   "metadata": {},
   "outputs": [],
   "source": [
    "dfNoticias = pd.read_pickle(\"dfNoticias\")"
   ]
  },
  {
   "cell_type": "markdown",
   "metadata": {},
   "source": [
    "# pre procesing\n",
    "\n",
    "Cleaning data, select clases"
   ]
  },
  {
   "cell_type": "code",
   "execution_count": 5,
   "metadata": {},
   "outputs": [
    {
     "name": "stdout",
     "output_type": "stream",
     "text": [
      "Selecting useful information...done.\n"
     ]
    }
   ],
   "source": [
    "print('Selecting useful information...', end='')\n",
    "_map = {}\n",
    "_map[\"Cuerpo\"] = []\n",
    "_map[\"Seccion\"] = []\n",
    "_map[\"Seccion2\"] = []\n",
    "_map[\"Seccion3\"] = []\n",
    "\n",
    "count = 0\n",
    "for index, row in dfNoticias.iterrows():\n",
    "    if (row[\"Seccion_1\"] != None and row[\"Cuerpo\"] != None):\n",
    "        _map[\"Cuerpo\"].append(row[\"Cuerpo\"]) \n",
    "        _map[\"Seccion\"].append(row[\"Seccion_1\"])\n",
    "        _map[\"Seccion2\"].append(row[\"Seccion_2\"])\n",
    "        _map[\"Seccion3\"].append(row[\"Seccion_3\"])\n",
    "        if row[\"Seccion_1\"] == row[\"Seccion_2\"] and row[\"Seccion_2\"] == row[\"Seccion_3\"]:\n",
    "            count += 1\n",
    "        if row[\"Seccion_1\"] == row[\"Seccion_2\"] and row[\"Seccion_3\"] == None:\n",
    "            count += 1\n",
    "        if row[\"Seccion_1\"] == row[\"Seccion_3\"] and row[\"Seccion_2\"] == None:  \n",
    "            count += 1 \n",
    "        if row[\"Seccion_2\"] == None and row[\"Seccion_3\"] == None:\n",
    "            count += 1      \n",
    "print('done.')\n",
    "\n"
   ]
  },
  {
   "cell_type": "code",
   "execution_count": 6,
   "metadata": {},
   "outputs": [
    {
     "name": "stdout",
     "output_type": "stream",
     "text": [
      "250339\n",
      "220068\n"
     ]
    }
   ],
   "source": [
    "print( len(_map['Seccion2']) )\n",
    "print(count)"
   ]
  },
  {
   "cell_type": "code",
   "execution_count": 7,
   "metadata": {},
   "outputs": [
    {
     "name": "stdout",
     "output_type": "stream",
     "text": [
      "Number of data before dropping duplicates: 250339\n",
      "Number of data after dropping duplicates : 238931\n",
      "\n",
      "Number of duplicated data : 11408\n"
     ]
    }
   ],
   "source": [
    "df = pd.DataFrame(_map)\n",
    "numberOfDuplicates = df.shape[0]\n",
    "print('Number of data before dropping duplicates: {}'.format(df.shape[0]))\n",
    "df = df.drop_duplicates(inplace= False)\n",
    "df.reset_index(drop=True, inplace= True)\n",
    "numberOfDuplicates -= df.shape[0]\n",
    "print('Number of data after dropping duplicates : {}'.format(df.shape[0]))\n",
    "print('\\nNumber of duplicated data : {}'.format(numberOfDuplicates))\n",
    "\n",
    "#df.head()"
   ]
  },
  {
   "cell_type": "code",
   "execution_count": 8,
   "metadata": {},
   "outputs": [
    {
     "name": "stdout",
     "output_type": "stream",
     "text": [
      "Number of data: 238931\n"
     ]
    }
   ],
   "source": [
    "X_untransformed = df['Cuerpo'].reset_index(drop=True)\n",
    "y_untransformed = df['Seccion'].reset_index(drop=True)\n",
    "\n",
    "assert X_untransformed.shape[0] == y_untransformed.shape[0], 'X and y dimenssion must be the same.'\n",
    "print('Number of data: {}'.format(X_untransformed.shape[0]))"
   ]
  },
  {
   "cell_type": "code",
   "execution_count": 9,
   "metadata": {},
   "outputs": [
    {
     "name": "stdout",
     "output_type": "stream",
     "text": [
      "Seccion\n",
      "Corporativo        82\n",
      "Cultura          3128\n",
      "Deportes        76458\n",
      "Economía         6750\n",
      "Entretención    29438\n",
      "Mundo           31664\n",
      "País            75180\n",
      "Sociedad         9079\n",
      "Tecnología       7130\n",
      "Name: Cuerpo, dtype: int64\n"
     ]
    }
   ],
   "source": [
    "classes = df.groupby('Seccion')['Cuerpo'].nunique()\n",
    "\n",
    "print(classes)\n",
    "nClasses = classes.shape[0]\n",
    "\n",
    "#print('\\nNumber of classes: {}'.format(nClasses))"
   ]
  },
  {
   "cell_type": "markdown",
   "metadata": {},
   "source": [
    "# Feature Extraccion\n",
    "\n",
    "### Data representation\n",
    "\n",
    "TFID calculation"
   ]
  },
  {
   "cell_type": "code",
   "execution_count": 10,
   "metadata": {},
   "outputs": [
    {
     "name": "stdout",
     "output_type": "stream",
     "text": [
      "start\n",
      "Normalize text\n",
      "Extract wordbags\n",
      "TFIDF end time :97.16177678108215\n",
      "Number of features: 1000\n"
     ]
    }
   ],
   "source": [
    "\n",
    "start = time.time()\n",
    "print(\"start\")\n",
    "\n",
    "\n",
    "spanish_stopwords = stopwords.words('spanish')\n",
    "def normalize_text(text):\n",
    "    return u\" \".join([x for x in [y for y in text.lower().strip().split(\" \")] \n",
    "                      if len(x) > 1 and x not in spanish_stopwords])\n",
    "\n",
    "X_untransformed = X_untransformed\n",
    "n_docs = X_untransformed.shape[0]\n",
    "n_cpu = 20\n",
    "\n",
    "batch_size = int(n_docs/n_cpu)\n",
    "\n",
    "wb = wordbatch.WordBatch(normalize_text, \n",
    "                         extractor=(WordBag, {\"hash_ngrams\": 1, \"hash_ngrams_weights\": [1.0, 1.0],\n",
    "                                              \"hash_size\": 2**28, \"norm\": \"l2\", \"tf\": 1.0,\n",
    "                                              \"idf\": 1.0}), procs=n_cpu, n_words=1000, minibatch_size=batch_size)\n",
    "wb.dictionary_freeze = True\n",
    "word_comment = wb.fit_transform(list(X_untransformed),reset= False)\n",
    "X_transformed = word_comment[:, np.array(np.clip(word_comment.getnnz(axis=0) - 1, 0, 1), dtype = bool)]\n",
    "\n",
    "end = time.time()\n",
    "print(\"TFIDF end time :\" + str(end - start) )\n",
    "\n",
    "\n",
    "X = X_transformed\n",
    "print('Number of features: {}'.format(X.shape[1]))"
   ]
  },
  {
   "cell_type": "markdown",
   "metadata": {},
   "source": [
    "### Output"
   ]
  },
  {
   "cell_type": "code",
   "execution_count": 20,
   "metadata": {},
   "outputs": [
    {
     "data": {
      "text/plain": [
       "True"
      ]
     },
     "execution_count": 20,
     "metadata": {},
     "output_type": "execute_result"
    }
   ],
   "source": [
    "class DataObject():\n",
    "    def __init__(self, x, y):\n",
    "        self.X = x\n",
    "        self.Y = y\n",
    "\n",
    "        try:\n",
    "            self.Y.reset_index(drop=True, inplace=True)\n",
    "        except:\n",
    "            pass\n",
    "\n",
    "        self.X_train = self.X\n",
    "        self.Y_train = self.Y\n",
    "\n",
    "        self.X_test  = None\n",
    "        self.Y_test  = None\n",
    "\n",
    "        self.X_test_dense = None\n",
    "\n",
    "        self.k = 0\n",
    "#     def next_train_batch(self, batch_size):\n",
    "#         indexes = np.random.choice(self.X_train.shape[0], size=batch_size, replace=False)\n",
    "#         return self.X_train[indexes], self.Y_train.reindex(indexes)\n",
    "\n",
    "    def set_train_test(self,train_fraction = None, test_fraction = None, dense=True):\n",
    "        # Tests for create subsets\n",
    "        if train_fraction == None and test_fraction == None:\n",
    "            train_fraction = 0.8\n",
    "        elif train_fraction == None:\n",
    "            assert 0 <= test_fraction and test_fraction < 1, 'Test fraction must be in [0,1)'\n",
    "            train_fraction = 1 - test_fraction\n",
    "        else:\n",
    "            assert 0 < train_fraction and train_fraction <= 1, 'Train fraction must be in (0,1]'\n",
    "\n",
    "        train_indices = np.random.choice(self.X.shape[0], round(train_fraction*self.X.shape[0]), replace=False)\n",
    "        test_indices = np.array(list(set(range(self.X.shape[0])) - set(train_indices)))\n",
    "\n",
    "        self.X_train = self.X[train_indices]\n",
    "        self.Y_train = self.Y.reindex(train_indices)\n",
    "        self.Y_train = self.Y_train.reset_index()\n",
    "\n",
    "        self.X_test = self.X[test_indices]\n",
    "        self.Y_test = self.Y.reindex(test_indices)\n",
    "        self.Y_test = self.Y_test.reset_index()\n",
    "        if dense:\n",
    "            self.X_test_dense = self.X_test.todense()\n",
    "        return True\n",
    "\n",
    "\n",
    "Y = y_untransformed\n",
    "Y = Y.reset_index(drop=True)\n",
    "\n",
    "def remove_accents(a):\n",
    "    return unidecode.unidecode(a)\n",
    "\n",
    "data = DataObject(X,Y.apply(remove_accents))\n",
    "\n",
    "labels = [remove_accents(x) for x in list(data.Y.unique())]\n",
    "#print(labels)\n",
    "\n",
    "data.set_train_test(0.8)\n",
    "#print(data.Y_train.reset_index(drop=True))"
   ]
  },
  {
   "cell_type": "markdown",
   "metadata": {},
   "source": [
    "# Model\n",
    "\n",
    "### DNN graph generation"
   ]
  },
  {
   "cell_type": "code",
   "execution_count": 12,
   "metadata": {},
   "outputs": [
    {
     "name": "stdout",
     "output_type": "stream",
     "text": [
      "INFO:tensorflow:Using config: {'_task_type': None, '_task_id': 0, '_cluster_spec': <tensorflow.python.training.server_lib.ClusterSpec object at 0x7f22b55d59b0>, '_master': '', '_num_ps_replicas': 0, '_num_worker_replicas': 0, '_environment': 'local', '_is_chief': True, '_evaluation_master': '', '_tf_config': gpu_options {\n",
      "  per_process_gpu_memory_fraction: 1.0\n",
      "}\n",
      ", '_tf_random_seed': None, '_save_summary_steps': 100, '_save_checkpoints_secs': None, '_log_step_count_steps': 100, '_session_config': None, '_save_checkpoints_steps': 500, '_keep_checkpoint_max': 5, '_keep_checkpoint_every_n_hours': 10000, '_model_dir': './model-parallel/seccion_dnn4'}\n"
     ]
    }
   ],
   "source": [
    "tf.set_random_seed(42)\n",
    "\n",
    "feature_columns = [tf.contrib.layers.real_valued_column('x', dimension=1000)]\n",
    "\n",
    "classifier = DNNClassifier(                                \n",
    "                           n_classes=nClasses, label_keys=labels, feature_columns=feature_columns,\n",
    "                           hidden_units=[2000, 1000, 100],\n",
    "                           dropout=0.5,\n",
    "                           weight_column_name='class_weights',\n",
    "                           model_dir = './model-parallel/seccion_dnn4', #./model-parallel/seccion_dnn\n",
    "                           config = tf.contrib.learn.RunConfig(save_checkpoints_steps = 500,\n",
    "                           save_checkpoints_secs = None)                           \n",
    "                          )"
   ]
  },
  {
   "cell_type": "markdown",
   "metadata": {},
   "source": [
    "### functions graph tensorflow"
   ]
  },
  {
   "cell_type": "code",
   "execution_count": 27,
   "metadata": {},
   "outputs": [],
   "source": [
    "epochs = 14000\n",
    "\n",
    "# Define the test inputs\n",
    "def get_train_inputs():\n",
    "    print(\"Paso por aca.........................\")\n",
    "    X_ = data.X_train\n",
    "    Y_ = data.Y_train\n",
    "    X_ = X_.todense()\n",
    "    x = X_\n",
    "    Y_ = Y_['Seccion'].reset_index(drop=True)\n",
    "#     y = y.apply(remove_accents)\n",
    "#     y = y.values\n",
    "\n",
    "    y = Y_.values\n",
    "    \n",
    "    # computing lengths of each class\n",
    "    sizes = {label: Y_[Y_ == label].shape[0] for label in labels}\n",
    "#     print(sizes)\n",
    "\n",
    "    # creating weights for each sample\n",
    "    scale_factor = 10e3\n",
    "    weights = np.asarray([1.0/sizes[label] for label in y])\n",
    "    weights = scale_factor*weights\n",
    "    weights = weights[:,np.newaxis]\n",
    "    print('weights shape: {}'.format(weights.shape))\n",
    "    print(x)\n",
    "    print(type(x))\n",
    "    print(weights)\n",
    "    print(type(weights))\n",
    "    print(y)\n",
    "    print(type(y))    \n",
    "    dataset = tf.estimator.inputs.numpy_input_fn({'x': x, 'class_weights': weights}, y[:,np.newaxis], shuffle=True, batch_size=500, num_epochs=epochs)\n",
    "    return dataset\n",
    "\n",
    "def get_test_inputs():\n",
    "    X_ = data.X_test_dense\n",
    "    Y_ = data.Y_test\n",
    "#     X_ = X_.todense()\n",
    "    x = X_\n",
    "    Y_ = Y_['Seccion'].reset_index(drop=True)\n",
    "    y = Y_.values\n",
    "    \n",
    "    # computing lengths of each class\n",
    "    sizes = {label: Y_[Y_ == label].shape[0] for label in labels}\n",
    "#     print(sizes)\n",
    "\n",
    "    # creating weights for each sample\n",
    "    scale_factor = 10e3\n",
    "    weights = np.asarray([1.0/sizes[label] for label in y])\n",
    "    weights = scale_factor*weights\n",
    "    weights = weights[:,np.newaxis]\n",
    "    print('weights shape: {}'.format(weights.shape))\n",
    "    \n",
    "    dataset = tf.estimator.inputs.numpy_input_fn({'x': x, 'class_weights': weights}, y[:,np.newaxis], shuffle=False)\n",
    "    return dataset\n"
   ]
  },
  {
   "cell_type": "code",
   "execution_count": 28,
   "metadata": {},
   "outputs": [
    {
     "name": "stdout",
     "output_type": "stream",
     "text": [
      "Paso por aca.........................\n",
      "weights shape: (191145, 1)\n",
      "[[0. 0. 0. ... 0. 0. 0.]\n",
      " [0. 0. 0. ... 0. 0. 0.]\n",
      " [0. 0. 0. ... 0. 0. 0.]\n",
      " ...\n",
      " [0. 0. 0. ... 0. 0. 0.]\n",
      " [0. 0. 0. ... 0. 0. 0.]\n",
      " [0. 0. 0. ... 0. 0. 0.]]\n",
      "<class 'numpy.matrixlib.defmatrix.matrix'>\n",
      "[[0.1663008 ]\n",
      " [0.39536631]\n",
      " [1.84365782]\n",
      " ...\n",
      " [0.16322   ]\n",
      " [0.39536631]\n",
      " [0.426094  ]]\n",
      "<class 'numpy.ndarray'>\n",
      "['Pais' 'Mundo' 'Economia' ... 'Deportes' 'Mundo' 'Entretencion']\n",
      "<class 'numpy.ndarray'>\n"
     ]
    },
    {
     "data": {
      "text/plain": [
       "<function tensorflow.python.estimator.inputs.numpy_io.numpy_input_fn.<locals>.input_fn>"
      ]
     },
     "execution_count": 28,
     "metadata": {},
     "output_type": "execute_result"
    }
   ],
   "source": [
    "get_train_inputs()"
   ]
  },
  {
   "cell_type": "markdown",
   "metadata": {},
   "source": [
    "# Training\n",
    "\n"
   ]
  },
  {
   "cell_type": "code",
   "execution_count": 14,
   "metadata": {},
   "outputs": [
    {
     "name": "stdout",
     "output_type": "stream",
     "text": [
      "weights shape: (47786, 1)\n",
      "WARNING:tensorflow:From /root/anaconda3/lib/python3.6/site-packages/tensorflow/contrib/learn/python/learn/monitors.py:267: BaseMonitor.__init__ (from tensorflow.contrib.learn.python.learn.monitors) is deprecated and will be removed after 2016-12-05.\n",
      "Instructions for updating:\n",
      "Monitors are deprecated. Please use tf.train.SessionRunHook.\n",
      "Paso por aca.........................\n",
      "weights shape: (191145, 1)\n",
      "INFO:tensorflow:Create CheckpointSaverHook.\n",
      "INFO:tensorflow:Restoring parameters from ./model-parallel/seccion_dnn4/model.ckpt-6\n",
      "INFO:tensorflow:Saving checkpoints for 7 into ./model-parallel/seccion_dnn4/model.ckpt.\n",
      "INFO:tensorflow:loss = 0.8570804, step = 7\n",
      "INFO:tensorflow:global_step/sec: 23.08\n",
      "INFO:tensorflow:loss = 0.92045987, step = 107 (4.336 sec)\n",
      "INFO:tensorflow:global_step/sec: 23.7332\n",
      "INFO:tensorflow:loss = 1.5002038, step = 207 (4.214 sec)\n",
      "INFO:tensorflow:global_step/sec: 23.5442\n",
      "INFO:tensorflow:loss = 0.9069738, step = 307 (4.246 sec)\n",
      "INFO:tensorflow:global_step/sec: 23.1828\n",
      "INFO:tensorflow:loss = 0.91863513, step = 407 (4.313 sec)\n",
      "INFO:tensorflow:Starting evaluation at 2018-08-20-18:39:39\n",
      "INFO:tensorflow:Restoring parameters from ./model-parallel/seccion_dnn4/model.ckpt-7\n",
      "INFO:tensorflow:Finished evaluation at 2018-08-20-18:39:43\n",
      "INFO:tensorflow:Saving dict for global step 7: accuracy = 0.11515712, global_step = 7, loss = 2.194225\n",
      "INFO:tensorflow:Validation (step 500): loss = 2.194225, accuracy = 0.11515712, global_step = 7\n",
      "INFO:tensorflow:Saving checkpoints for 507 into ./model-parallel/seccion_dnn4/model.ckpt.\n",
      "INFO:tensorflow:global_step/sec: 10.7625\n",
      "INFO:tensorflow:loss = 1.4690967, step = 507 (9.292 sec)\n",
      "INFO:tensorflow:global_step/sec: 22.9068\n",
      "INFO:tensorflow:loss = 0.86680454, step = 607 (4.367 sec)\n",
      "INFO:tensorflow:global_step/sec: 22.8913\n",
      "INFO:tensorflow:loss = 0.9137935, step = 707 (4.368 sec)\n",
      "INFO:tensorflow:global_step/sec: 23.1347\n",
      "INFO:tensorflow:loss = 0.7000137, step = 807 (4.323 sec)\n",
      "INFO:tensorflow:global_step/sec: 22.5679\n",
      "INFO:tensorflow:loss = 0.7832271, step = 907 (4.431 sec)\n",
      "INFO:tensorflow:Starting evaluation at 2018-08-20-18:40:06\n",
      "INFO:tensorflow:Restoring parameters from ./model-parallel/seccion_dnn4/model.ckpt-507\n",
      "INFO:tensorflow:Finished evaluation at 2018-08-20-18:40:10\n",
      "INFO:tensorflow:Saving dict for global step 507: accuracy = 0.111111104, global_step = 507, loss = 2.1901782\n",
      "INFO:tensorflow:Validation (step 1000): loss = 2.1901782, accuracy = 0.111111104, global_step = 507\n",
      "INFO:tensorflow:Saving checkpoints for 1007 into ./model-parallel/seccion_dnn4/model.ckpt.\n",
      "INFO:tensorflow:global_step/sec: 10.4716\n",
      "INFO:tensorflow:loss = 0.7578208, step = 1007 (9.550 sec)\n",
      "INFO:tensorflow:global_step/sec: 23.1615\n",
      "INFO:tensorflow:loss = 0.6559605, step = 1107 (4.317 sec)\n",
      "INFO:tensorflow:global_step/sec: 23.141\n",
      "INFO:tensorflow:loss = 1.477441, step = 1207 (4.322 sec)\n",
      "INFO:tensorflow:global_step/sec: 22.7611\n",
      "INFO:tensorflow:loss = 0.60099393, step = 1307 (4.392 sec)\n",
      "INFO:tensorflow:global_step/sec: 22.6657\n",
      "INFO:tensorflow:loss = 0.5164147, step = 1407 (4.413 sec)\n",
      "INFO:tensorflow:Starting evaluation at 2018-08-20-18:40:33\n",
      "INFO:tensorflow:Restoring parameters from ./model-parallel/seccion_dnn4/model.ckpt-1007\n",
      "INFO:tensorflow:Finished evaluation at 2018-08-20-18:40:37\n",
      "INFO:tensorflow:Saving dict for global step 1007: accuracy = 0.53072697, global_step = 1007, loss = 1.4443979\n",
      "INFO:tensorflow:Validation (step 1500): loss = 1.4443979, accuracy = 0.53072697, global_step = 1007\n",
      "INFO:tensorflow:Saving checkpoints for 1507 into ./model-parallel/seccion_dnn4/model.ckpt.\n",
      "INFO:tensorflow:global_step/sec: 10.9329\n",
      "INFO:tensorflow:loss = 0.4460638, step = 1507 (9.147 sec)\n",
      "INFO:tensorflow:global_step/sec: 22.6279\n",
      "INFO:tensorflow:loss = 0.506976, step = 1607 (4.419 sec)\n",
      "INFO:tensorflow:global_step/sec: 22.7328\n",
      "INFO:tensorflow:loss = 0.4595971, step = 1707 (4.398 sec)\n",
      "INFO:tensorflow:global_step/sec: 23.1198\n",
      "INFO:tensorflow:loss = 0.455025, step = 1807 (4.326 sec)\n",
      "INFO:tensorflow:global_step/sec: 22.3697\n",
      "INFO:tensorflow:loss = 0.3973399, step = 1907 (4.471 sec)\n",
      "INFO:tensorflow:Starting evaluation at 2018-08-20-18:41:00\n",
      "INFO:tensorflow:Restoring parameters from ./model-parallel/seccion_dnn4/model.ckpt-1507\n",
      "INFO:tensorflow:Finished evaluation at 2018-08-20-18:41:03\n",
      "INFO:tensorflow:Saving dict for global step 1507: accuracy = 0.6384051, global_step = 1507, loss = 1.0325198\n",
      "INFO:tensorflow:Validation (step 2000): loss = 1.0325198, accuracy = 0.6384051, global_step = 1507\n",
      "INFO:tensorflow:Saving checkpoints for 2007 into ./model-parallel/seccion_dnn4/model.ckpt.\n",
      "INFO:tensorflow:global_step/sec: 11.3866\n",
      "INFO:tensorflow:loss = 0.44113895, step = 2007 (8.781 sec)\n",
      "INFO:tensorflow:global_step/sec: 23.2311\n",
      "INFO:tensorflow:loss = 0.45634797, step = 2107 (4.306 sec)\n",
      "INFO:tensorflow:global_step/sec: 22.6516\n",
      "INFO:tensorflow:loss = 0.45532727, step = 2207 (4.416 sec)\n",
      "INFO:tensorflow:global_step/sec: 23.2113\n",
      "INFO:tensorflow:loss = 0.36997798, step = 2307 (4.311 sec)\n",
      "INFO:tensorflow:global_step/sec: 22.4918\n",
      "INFO:tensorflow:loss = 0.42256004, step = 2407 (4.443 sec)\n",
      "INFO:tensorflow:Starting evaluation at 2018-08-20-18:41:26\n",
      "INFO:tensorflow:Restoring parameters from ./model-parallel/seccion_dnn4/model.ckpt-2007\n",
      "INFO:tensorflow:Finished evaluation at 2018-08-20-18:41:30\n",
      "INFO:tensorflow:Saving dict for global step 2007: accuracy = 0.6865883, global_step = 2007, loss = 0.8963648\n",
      "INFO:tensorflow:Validation (step 2500): loss = 0.8963648, accuracy = 0.6865883, global_step = 2007\n",
      "INFO:tensorflow:Saving checkpoints for 2507 into ./model-parallel/seccion_dnn4/model.ckpt.\n",
      "INFO:tensorflow:global_step/sec: 10.6879\n",
      "INFO:tensorflow:loss = 0.3453988, step = 2507 (9.355 sec)\n",
      "INFO:tensorflow:global_step/sec: 23.5953\n",
      "INFO:tensorflow:loss = 0.48609403, step = 2607 (4.244 sec)\n",
      "INFO:tensorflow:global_step/sec: 22.8456\n",
      "INFO:tensorflow:loss = 0.41569734, step = 2707 (4.372 sec)\n",
      "INFO:tensorflow:global_step/sec: 22.858\n",
      "INFO:tensorflow:loss = 0.3787699, step = 2807 (4.375 sec)\n",
      "INFO:tensorflow:global_step/sec: 22.8996\n",
      "INFO:tensorflow:loss = 0.3591507, step = 2907 (4.367 sec)\n",
      "INFO:tensorflow:Starting evaluation at 2018-08-20-18:41:53\n",
      "INFO:tensorflow:Restoring parameters from ./model-parallel/seccion_dnn4/model.ckpt-2507\n",
      "INFO:tensorflow:Finished evaluation at 2018-08-20-18:41:57\n",
      "INFO:tensorflow:Saving dict for global step 2507: accuracy = 0.7106216, global_step = 2507, loss = 0.84168196\n",
      "INFO:tensorflow:Validation (step 3000): loss = 0.84168196, accuracy = 0.7106216, global_step = 2507\n",
      "INFO:tensorflow:Saving checkpoints for 3007 into ./model-parallel/seccion_dnn4/model.ckpt.\n",
      "INFO:tensorflow:global_step/sec: 10.754\n",
      "INFO:tensorflow:loss = 0.34618598, step = 3007 (9.298 sec)\n",
      "INFO:tensorflow:global_step/sec: 23.115\n",
      "INFO:tensorflow:loss = 0.3581839, step = 3107 (4.328 sec)\n",
      "INFO:tensorflow:global_step/sec: 22.6554\n",
      "INFO:tensorflow:loss = 0.37178764, step = 3207 (4.413 sec)\n",
      "INFO:tensorflow:global_step/sec: 22.9829\n",
      "INFO:tensorflow:loss = 0.30703613, step = 3307 (4.351 sec)\n",
      "INFO:tensorflow:global_step/sec: 23.0172\n",
      "INFO:tensorflow:loss = 0.2983783, step = 3407 (4.344 sec)\n",
      "INFO:tensorflow:Starting evaluation at 2018-08-20-18:42:19\n",
      "INFO:tensorflow:Restoring parameters from ./model-parallel/seccion_dnn4/model.ckpt-3007\n",
      "INFO:tensorflow:Finished evaluation at 2018-08-20-18:42:24\n",
      "INFO:tensorflow:Saving dict for global step 3007: accuracy = 0.7266039, global_step = 3007, loss = 0.80054283\n",
      "INFO:tensorflow:Validation (step 3500): loss = 0.80054283, accuracy = 0.7266039, global_step = 3007\n",
      "INFO:tensorflow:Saving checkpoints for 3507 into ./model-parallel/seccion_dnn4/model.ckpt.\n",
      "INFO:tensorflow:global_step/sec: 10.4773\n",
      "INFO:tensorflow:loss = 0.3593571, step = 3507 (9.551 sec)\n",
      "INFO:tensorflow:global_step/sec: 22.9724\n",
      "INFO:tensorflow:loss = 0.32308397, step = 3607 (4.347 sec)\n",
      "INFO:tensorflow:global_step/sec: 22.9079\n",
      "INFO:tensorflow:loss = 0.36957982, step = 3707 (4.364 sec)\n",
      "INFO:tensorflow:global_step/sec: 23.196\n",
      "INFO:tensorflow:loss = 0.39180347, step = 3807 (4.312 sec)\n",
      "INFO:tensorflow:global_step/sec: 22.6264\n",
      "INFO:tensorflow:loss = 0.2988981, step = 3907 (4.420 sec)\n",
      "INFO:tensorflow:Starting evaluation at 2018-08-20-18:42:47\n",
      "INFO:tensorflow:Restoring parameters from ./model-parallel/seccion_dnn4/model.ckpt-3507\n"
     ]
    },
    {
     "name": "stdout",
     "output_type": "stream",
     "text": [
      "INFO:tensorflow:Finished evaluation at 2018-08-20-18:42:51\n",
      "INFO:tensorflow:Saving dict for global step 3507: accuracy = 0.73251045, global_step = 3507, loss = 0.7807777\n",
      "INFO:tensorflow:Validation (step 4000): loss = 0.7807777, accuracy = 0.73251045, global_step = 3507\n",
      "INFO:tensorflow:Saving checkpoints for 4007 into ./model-parallel/seccion_dnn4/model.ckpt.\n",
      "INFO:tensorflow:global_step/sec: 10.7013\n",
      "INFO:tensorflow:loss = 0.32864574, step = 4007 (9.344 sec)\n",
      "INFO:tensorflow:global_step/sec: 22.5374\n",
      "INFO:tensorflow:loss = 0.30121875, step = 4107 (4.437 sec)\n",
      "INFO:tensorflow:global_step/sec: 22.5044\n",
      "INFO:tensorflow:loss = 0.35041907, step = 4207 (4.444 sec)\n",
      "INFO:tensorflow:global_step/sec: 22.6546\n",
      "INFO:tensorflow:loss = 0.3150419, step = 4307 (4.414 sec)\n",
      "INFO:tensorflow:global_step/sec: 23.0296\n",
      "INFO:tensorflow:loss = 0.29806703, step = 4407 (4.341 sec)\n",
      "INFO:tensorflow:Starting evaluation at 2018-08-20-18:43:14\n",
      "INFO:tensorflow:Restoring parameters from ./model-parallel/seccion_dnn4/model.ckpt-4007\n",
      "INFO:tensorflow:Finished evaluation at 2018-08-20-18:43:18\n",
      "INFO:tensorflow:Saving dict for global step 4007: accuracy = 0.72980076, global_step = 4007, loss = 0.77822715\n",
      "INFO:tensorflow:Validation (step 4500): loss = 0.77822715, accuracy = 0.72980076, global_step = 4007\n",
      "INFO:tensorflow:Saving checkpoints for 4507 into ./model-parallel/seccion_dnn4/model.ckpt.\n",
      "INFO:tensorflow:global_step/sec: 10.2545\n",
      "INFO:tensorflow:loss = 0.30447036, step = 4507 (9.753 sec)\n",
      "INFO:tensorflow:global_step/sec: 22.9501\n",
      "INFO:tensorflow:loss = 0.4111125, step = 4607 (4.358 sec)\n",
      "INFO:tensorflow:global_step/sec: 22.8053\n",
      "INFO:tensorflow:loss = 0.30337307, step = 4707 (4.384 sec)\n",
      "INFO:tensorflow:global_step/sec: 23.4865\n",
      "INFO:tensorflow:loss = 0.36881655, step = 4807 (4.258 sec)\n",
      "INFO:tensorflow:global_step/sec: 22.5569\n",
      "INFO:tensorflow:loss = 0.32440904, step = 4907 (4.436 sec)\n",
      "INFO:tensorflow:Starting evaluation at 2018-08-20-18:43:41\n",
      "INFO:tensorflow:Restoring parameters from ./model-parallel/seccion_dnn4/model.ckpt-4507\n",
      "INFO:tensorflow:Finished evaluation at 2018-08-20-18:43:45\n",
      "INFO:tensorflow:Saving dict for global step 4507: accuracy = 0.7407665, global_step = 4507, loss = 0.76260155\n",
      "INFO:tensorflow:Validation (step 5000): loss = 0.76260155, accuracy = 0.7407665, global_step = 4507\n",
      "INFO:tensorflow:Saving checkpoints for 5007 into ./model-parallel/seccion_dnn4/model.ckpt.\n",
      "INFO:tensorflow:global_step/sec: 11.2825\n",
      "INFO:tensorflow:loss = 0.36644036, step = 5007 (8.866 sec)\n",
      "INFO:tensorflow:global_step/sec: 22.8109\n",
      "INFO:tensorflow:loss = 0.31610477, step = 5107 (4.377 sec)\n",
      "INFO:tensorflow:global_step/sec: 23.3356\n",
      "INFO:tensorflow:loss = 0.3050558, step = 5207 (4.286 sec)\n",
      "INFO:tensorflow:global_step/sec: 22.5313\n",
      "INFO:tensorflow:loss = 0.3414535, step = 5307 (4.438 sec)\n",
      "INFO:tensorflow:global_step/sec: 22.4735\n",
      "INFO:tensorflow:loss = 0.28856632, step = 5407 (4.451 sec)\n",
      "INFO:tensorflow:Starting evaluation at 2018-08-20-18:44:07\n",
      "INFO:tensorflow:Restoring parameters from ./model-parallel/seccion_dnn4/model.ckpt-5007\n",
      "INFO:tensorflow:Finished evaluation at 2018-08-20-18:44:11\n",
      "INFO:tensorflow:Saving dict for global step 5007: accuracy = 0.7436951, global_step = 5007, loss = 0.7611522\n",
      "INFO:tensorflow:Validation (step 5500): loss = 0.7611522, accuracy = 0.7436951, global_step = 5007\n",
      "INFO:tensorflow:Saving checkpoints for 5507 into ./model-parallel/seccion_dnn4/model.ckpt.\n",
      "INFO:tensorflow:global_step/sec: 10.6464\n",
      "INFO:tensorflow:loss = 0.38131377, step = 5507 (9.397 sec)\n",
      "INFO:tensorflow:global_step/sec: 22.5127\n",
      "INFO:tensorflow:loss = 0.27177623, step = 5607 (4.437 sec)\n",
      "INFO:tensorflow:global_step/sec: 22.4475\n",
      "INFO:tensorflow:loss = 0.25001356, step = 5707 (4.456 sec)\n",
      "INFO:tensorflow:global_step/sec: 22.4038\n",
      "INFO:tensorflow:loss = 0.32411718, step = 5807 (4.464 sec)\n",
      "INFO:tensorflow:global_step/sec: 22.4022\n",
      "INFO:tensorflow:loss = 0.27204826, step = 5907 (4.464 sec)\n",
      "INFO:tensorflow:Starting evaluation at 2018-08-20-18:44:35\n",
      "INFO:tensorflow:Restoring parameters from ./model-parallel/seccion_dnn4/model.ckpt-5507\n",
      "INFO:tensorflow:Finished evaluation at 2018-08-20-18:44:39\n",
      "INFO:tensorflow:Saving dict for global step 5507: accuracy = 0.7438148, global_step = 5507, loss = 0.74985486\n",
      "INFO:tensorflow:Validation (step 6000): loss = 0.74985486, accuracy = 0.7438148, global_step = 5507\n",
      "INFO:tensorflow:Saving checkpoints for 6007 into ./model-parallel/seccion_dnn4/model.ckpt.\n",
      "INFO:tensorflow:global_step/sec: 10.125\n",
      "INFO:tensorflow:loss = 0.33230403, step = 6007 (9.877 sec)\n",
      "INFO:tensorflow:global_step/sec: 22.5055\n",
      "INFO:tensorflow:loss = 0.29654387, step = 6107 (4.442 sec)\n",
      "INFO:tensorflow:global_step/sec: 22.5487\n",
      "INFO:tensorflow:loss = 0.25388122, step = 6207 (4.435 sec)\n",
      "INFO:tensorflow:global_step/sec: 22.9044\n",
      "INFO:tensorflow:loss = 0.29992905, step = 6307 (4.366 sec)\n",
      "INFO:tensorflow:global_step/sec: 23.0759\n",
      "INFO:tensorflow:loss = 0.26855177, step = 6407 (4.334 sec)\n",
      "INFO:tensorflow:Starting evaluation at 2018-08-20-18:45:02\n",
      "INFO:tensorflow:Restoring parameters from ./model-parallel/seccion_dnn4/model.ckpt-6007\n",
      "INFO:tensorflow:Finished evaluation at 2018-08-20-18:45:06\n",
      "INFO:tensorflow:Saving dict for global step 6007: accuracy = 0.74123746, global_step = 6007, loss = 0.75162363\n",
      "INFO:tensorflow:Validation (step 6500): loss = 0.75162363, accuracy = 0.74123746, global_step = 6007\n",
      "INFO:tensorflow:Saving checkpoints for 6507 into ./model-parallel/seccion_dnn4/model.ckpt.\n",
      "INFO:tensorflow:global_step/sec: 10.742\n",
      "INFO:tensorflow:loss = 0.27041852, step = 6507 (9.313 sec)\n",
      "INFO:tensorflow:global_step/sec: 23.6931\n",
      "INFO:tensorflow:loss = 0.30117062, step = 6607 (4.216 sec)\n",
      "INFO:tensorflow:global_step/sec: 22.4185\n",
      "INFO:tensorflow:loss = 0.2731312, step = 6707 (4.462 sec)\n",
      "INFO:tensorflow:global_step/sec: 22.6569\n",
      "INFO:tensorflow:loss = 0.29546216, step = 6807 (4.413 sec)\n",
      "INFO:tensorflow:global_step/sec: 22.5295\n",
      "INFO:tensorflow:loss = 0.25012416, step = 6907 (4.438 sec)\n",
      "INFO:tensorflow:Starting evaluation at 2018-08-20-18:45:29\n",
      "INFO:tensorflow:Restoring parameters from ./model-parallel/seccion_dnn4/model.ckpt-6507\n",
      "INFO:tensorflow:Finished evaluation at 2018-08-20-18:45:33\n",
      "INFO:tensorflow:Saving dict for global step 6507: accuracy = 0.74152106, global_step = 6507, loss = 0.7479726\n",
      "INFO:tensorflow:Validation (step 7000): loss = 0.7479726, accuracy = 0.74152106, global_step = 6507\n",
      "INFO:tensorflow:Saving checkpoints for 7007 into ./model-parallel/seccion_dnn4/model.ckpt.\n",
      "INFO:tensorflow:global_step/sec: 10.2685\n",
      "INFO:tensorflow:loss = 0.23842624, step = 7007 (9.743 sec)\n",
      "INFO:tensorflow:global_step/sec: 22.6623\n",
      "INFO:tensorflow:loss = 0.28016037, step = 7107 (4.409 sec)\n",
      "INFO:tensorflow:global_step/sec: 22.4772\n",
      "INFO:tensorflow:loss = 0.25691187, step = 7207 (4.448 sec)\n",
      "INFO:tensorflow:global_step/sec: 22.6955\n",
      "INFO:tensorflow:loss = 0.29774755, step = 7307 (4.406 sec)\n",
      "INFO:tensorflow:global_step/sec: 23.0588\n",
      "INFO:tensorflow:loss = 0.31734303, step = 7407 (4.338 sec)\n",
      "INFO:tensorflow:Starting evaluation at 2018-08-20-18:45:56\n",
      "INFO:tensorflow:Restoring parameters from ./model-parallel/seccion_dnn4/model.ckpt-7007\n",
      "INFO:tensorflow:Finished evaluation at 2018-08-20-18:46:00\n",
      "INFO:tensorflow:Saving dict for global step 7007: accuracy = 0.7425405, global_step = 7007, loss = 0.74231535\n",
      "INFO:tensorflow:Validation (step 7500): loss = 0.74231535, accuracy = 0.7425405, global_step = 7007\n",
      "INFO:tensorflow:Saving checkpoints for 7507 into ./model-parallel/seccion_dnn4/model.ckpt.\n",
      "INFO:tensorflow:global_step/sec: 10.4226\n",
      "INFO:tensorflow:loss = 0.35085183, step = 7507 (9.593 sec)\n",
      "INFO:tensorflow:global_step/sec: 22.4134\n",
      "INFO:tensorflow:loss = 0.30222878, step = 7607 (4.464 sec)\n",
      "INFO:tensorflow:global_step/sec: 22.4956\n",
      "INFO:tensorflow:loss = 0.26895565, step = 7707 (4.445 sec)\n",
      "INFO:tensorflow:global_step/sec: 22.7027\n",
      "INFO:tensorflow:loss = 0.25261334, step = 7807 (4.403 sec)\n",
      "INFO:tensorflow:global_step/sec: 22.7862\n",
      "INFO:tensorflow:loss = 0.26649266, step = 7907 (4.389 sec)\n",
      "INFO:tensorflow:Starting evaluation at 2018-08-20-18:46:23\n",
      "INFO:tensorflow:Restoring parameters from ./model-parallel/seccion_dnn4/model.ckpt-7507\n",
      "INFO:tensorflow:Finished evaluation at 2018-08-20-18:46:27\n",
      "INFO:tensorflow:Saving dict for global step 7507: accuracy = 0.7468358, global_step = 7507, loss = 0.73560417\n"
     ]
    },
    {
     "name": "stdout",
     "output_type": "stream",
     "text": [
      "INFO:tensorflow:Validation (step 8000): loss = 0.73560417, accuracy = 0.7468358, global_step = 7507\n",
      "INFO:tensorflow:Saving checkpoints for 8007 into ./model-parallel/seccion_dnn4/model.ckpt.\n",
      "INFO:tensorflow:global_step/sec: 10.8504\n",
      "INFO:tensorflow:loss = 0.33784428, step = 8007 (9.217 sec)\n",
      "INFO:tensorflow:global_step/sec: 22.6316\n",
      "INFO:tensorflow:loss = 0.2203061, step = 8107 (4.418 sec)\n",
      "INFO:tensorflow:global_step/sec: 23.4633\n",
      "INFO:tensorflow:loss = 0.28918692, step = 8207 (4.262 sec)\n",
      "INFO:tensorflow:global_step/sec: 22.8985\n",
      "INFO:tensorflow:loss = 0.29672107, step = 8307 (4.368 sec)\n",
      "INFO:tensorflow:global_step/sec: 22.4552\n",
      "INFO:tensorflow:loss = 0.29898006, step = 8407 (4.452 sec)\n",
      "INFO:tensorflow:Starting evaluation at 2018-08-20-18:46:50\n",
      "INFO:tensorflow:Restoring parameters from ./model-parallel/seccion_dnn4/model.ckpt-8007\n",
      "INFO:tensorflow:Finished evaluation at 2018-08-20-18:46:54\n",
      "INFO:tensorflow:Saving dict for global step 8007: accuracy = 0.7374948, global_step = 8007, loss = 0.75573915\n",
      "INFO:tensorflow:Validation (step 8500): loss = 0.75573915, accuracy = 0.7374948, global_step = 8007\n",
      "INFO:tensorflow:Saving checkpoints for 8507 into ./model-parallel/seccion_dnn4/model.ckpt.\n",
      "INFO:tensorflow:global_step/sec: 11.1184\n",
      "INFO:tensorflow:loss = 0.2428231, step = 8507 (8.993 sec)\n",
      "INFO:tensorflow:global_step/sec: 23.0489\n",
      "INFO:tensorflow:loss = 0.31619054, step = 8607 (4.340 sec)\n",
      "INFO:tensorflow:global_step/sec: 22.5938\n",
      "INFO:tensorflow:loss = 0.25618938, step = 8707 (4.425 sec)\n",
      "INFO:tensorflow:global_step/sec: 22.1202\n",
      "INFO:tensorflow:loss = 0.24794136, step = 8807 (4.522 sec)\n",
      "INFO:tensorflow:global_step/sec: 22.8176\n",
      "INFO:tensorflow:loss = 0.28757623, step = 8907 (4.381 sec)\n",
      "INFO:tensorflow:Starting evaluation at 2018-08-20-18:47:17\n",
      "INFO:tensorflow:Restoring parameters from ./model-parallel/seccion_dnn4/model.ckpt-8507\n",
      "INFO:tensorflow:Finished evaluation at 2018-08-20-18:47:21\n",
      "INFO:tensorflow:Saving dict for global step 8507: accuracy = 0.74099135, global_step = 8507, loss = 0.75280255\n",
      "INFO:tensorflow:Validation (step 9000): loss = 0.75280255, accuracy = 0.74099135, global_step = 8507\n",
      "INFO:tensorflow:Saving checkpoints for 9007 into ./model-parallel/seccion_dnn4/model.ckpt.\n",
      "INFO:tensorflow:global_step/sec: 10.1966\n",
      "INFO:tensorflow:loss = 0.20676745, step = 9007 (9.812 sec)\n",
      "INFO:tensorflow:global_step/sec: 22.9055\n",
      "INFO:tensorflow:loss = 0.24383065, step = 9107 (4.362 sec)\n",
      "INFO:tensorflow:global_step/sec: 23.4736\n",
      "INFO:tensorflow:loss = 0.2623708, step = 9207 (4.259 sec)\n",
      "INFO:tensorflow:global_step/sec: 22.5475\n",
      "INFO:tensorflow:loss = 0.30405056, step = 9307 (4.436 sec)\n",
      "INFO:tensorflow:global_step/sec: 22.4749\n",
      "INFO:tensorflow:loss = 0.27121848, step = 9407 (4.449 sec)\n",
      "INFO:tensorflow:Starting evaluation at 2018-08-20-18:47:44\n",
      "INFO:tensorflow:Restoring parameters from ./model-parallel/seccion_dnn4/model.ckpt-9007\n",
      "INFO:tensorflow:Finished evaluation at 2018-08-20-18:47:48\n",
      "INFO:tensorflow:Saving dict for global step 9007: accuracy = 0.73873574, global_step = 9007, loss = 0.7541278\n",
      "INFO:tensorflow:Validation (step 9500): loss = 0.7541278, accuracy = 0.73873574, global_step = 9007\n",
      "INFO:tensorflow:Saving checkpoints for 9507 into ./model-parallel/seccion_dnn4/model.ckpt.\n",
      "INFO:tensorflow:global_step/sec: 10.8788\n",
      "INFO:tensorflow:loss = 0.2171423, step = 9507 (9.192 sec)\n",
      "INFO:tensorflow:global_step/sec: 22.0652\n",
      "INFO:tensorflow:loss = 0.24869016, step = 9607 (4.532 sec)\n",
      "INFO:tensorflow:global_step/sec: 22.7876\n",
      "INFO:tensorflow:loss = 0.25503448, step = 9707 (4.388 sec)\n",
      "INFO:tensorflow:global_step/sec: 22.6482\n",
      "INFO:tensorflow:loss = 0.1799673, step = 9807 (4.416 sec)\n",
      "INFO:tensorflow:global_step/sec: 22.3702\n",
      "INFO:tensorflow:loss = 0.20685965, step = 9907 (4.470 sec)\n",
      "INFO:tensorflow:Starting evaluation at 2018-08-20-18:48:11\n",
      "INFO:tensorflow:Restoring parameters from ./model-parallel/seccion_dnn4/model.ckpt-9507\n",
      "INFO:tensorflow:Finished evaluation at 2018-08-20-18:48:15\n",
      "INFO:tensorflow:Saving dict for global step 9507: accuracy = 0.7404138, global_step = 9507, loss = 0.74741256\n",
      "INFO:tensorflow:Validation (step 10000): loss = 0.74741256, accuracy = 0.7404138, global_step = 9507\n",
      "INFO:tensorflow:Saving checkpoints for 10007 into ./model-parallel/seccion_dnn4/model.ckpt.\n",
      "INFO:tensorflow:global_step/sec: 10.9644\n",
      "INFO:tensorflow:loss = 0.2447621, step = 10007 (9.126 sec)\n",
      "INFO:tensorflow:global_step/sec: 23.3696\n",
      "INFO:tensorflow:loss = 0.1892412, step = 10107 (4.273 sec)\n",
      "INFO:tensorflow:global_step/sec: 22.5299\n",
      "INFO:tensorflow:loss = 0.19398132, step = 10207 (4.440 sec)\n",
      "INFO:tensorflow:global_step/sec: 22.1887\n",
      "INFO:tensorflow:loss = 0.24487457, step = 10307 (4.506 sec)\n",
      "INFO:tensorflow:global_step/sec: 22.4805\n",
      "INFO:tensorflow:loss = 0.25032157, step = 10407 (4.449 sec)\n",
      "INFO:tensorflow:Starting evaluation at 2018-08-20-18:48:38\n",
      "INFO:tensorflow:Restoring parameters from ./model-parallel/seccion_dnn4/model.ckpt-10007\n",
      "INFO:tensorflow:Finished evaluation at 2018-08-20-18:48:42\n",
      "INFO:tensorflow:Saving dict for global step 10007: accuracy = 0.72826785, global_step = 10007, loss = 0.7649094\n",
      "INFO:tensorflow:Validation (step 10500): loss = 0.7649094, accuracy = 0.72826785, global_step = 10007\n",
      "INFO:tensorflow:Saving checkpoints for 10507 into ./model-parallel/seccion_dnn4/model.ckpt.\n",
      "INFO:tensorflow:global_step/sec: 11.1175\n",
      "INFO:tensorflow:loss = 0.22812901, step = 10507 (8.993 sec)\n",
      "INFO:tensorflow:global_step/sec: 22.83\n",
      "INFO:tensorflow:loss = 0.20616794, step = 10607 (4.382 sec)\n",
      "INFO:tensorflow:global_step/sec: 22.8556\n",
      "INFO:tensorflow:loss = 0.25794962, step = 10707 (4.374 sec)\n",
      "INFO:tensorflow:global_step/sec: 23.3293\n",
      "INFO:tensorflow:loss = 0.25293836, step = 10807 (4.287 sec)\n",
      "INFO:tensorflow:global_step/sec: 22.5569\n",
      "INFO:tensorflow:loss = 0.19284615, step = 10907 (4.433 sec)\n",
      "INFO:tensorflow:Starting evaluation at 2018-08-20-18:49:04\n",
      "INFO:tensorflow:Restoring parameters from ./model-parallel/seccion_dnn4/model.ckpt-10507\n",
      "INFO:tensorflow:Finished evaluation at 2018-08-20-18:49:09\n",
      "INFO:tensorflow:Saving dict for global step 10507: accuracy = 0.7289331, global_step = 10507, loss = 0.77113384\n",
      "INFO:tensorflow:Validation (step 11000): loss = 0.77113384, accuracy = 0.7289331, global_step = 10507\n",
      "INFO:tensorflow:Saving checkpoints for 11007 into ./model-parallel/seccion_dnn4/model.ckpt.\n",
      "INFO:tensorflow:global_step/sec: 10.4962\n",
      "INFO:tensorflow:loss = 0.21223974, step = 11007 (9.532 sec)\n",
      "INFO:tensorflow:global_step/sec: 22.6487\n",
      "INFO:tensorflow:loss = 0.20607288, step = 11107 (4.410 sec)\n",
      "INFO:tensorflow:global_step/sec: 22.431\n",
      "INFO:tensorflow:loss = 0.1862839, step = 11207 (4.459 sec)\n",
      "INFO:tensorflow:global_step/sec: 22.6926\n",
      "INFO:tensorflow:loss = 0.16878293, step = 11307 (4.407 sec)\n",
      "INFO:tensorflow:global_step/sec: 22.706\n",
      "INFO:tensorflow:loss = 0.19936574, step = 11407 (4.403 sec)\n",
      "INFO:tensorflow:Starting evaluation at 2018-08-20-18:49:32\n",
      "INFO:tensorflow:Restoring parameters from ./model-parallel/seccion_dnn4/model.ckpt-11007\n",
      "INFO:tensorflow:Finished evaluation at 2018-08-20-18:49:36\n",
      "INFO:tensorflow:Saving dict for global step 11007: accuracy = 0.7165697, global_step = 11007, loss = 0.784656\n",
      "INFO:tensorflow:Validation (step 11500): loss = 0.784656, accuracy = 0.7165697, global_step = 11007\n",
      "INFO:tensorflow:Saving checkpoints for 11507 into ./model-parallel/seccion_dnn4/model.ckpt.\n",
      "INFO:tensorflow:global_step/sec: 10.6714\n",
      "INFO:tensorflow:loss = 0.21337964, step = 11507 (9.370 sec)\n",
      "INFO:tensorflow:global_step/sec: 22.6655\n",
      "INFO:tensorflow:loss = 0.24639182, step = 11607 (4.413 sec)\n",
      "INFO:tensorflow:global_step/sec: 22.4965\n",
      "INFO:tensorflow:loss = 0.24821435, step = 11707 (4.446 sec)\n",
      "INFO:tensorflow:global_step/sec: 22.6885\n",
      "INFO:tensorflow:loss = 0.25598344, step = 11807 (4.408 sec)\n",
      "INFO:tensorflow:global_step/sec: 23.1424\n",
      "INFO:tensorflow:loss = 0.20124985, step = 11907 (4.319 sec)\n",
      "INFO:tensorflow:Starting evaluation at 2018-08-20-18:49:58\n",
      "INFO:tensorflow:Restoring parameters from ./model-parallel/seccion_dnn4/model.ckpt-11507\n",
      "INFO:tensorflow:Finished evaluation at 2018-08-20-18:50:02\n",
      "INFO:tensorflow:Saving dict for global step 11507: accuracy = 0.7219272, global_step = 11507, loss = 0.78196996\n",
      "INFO:tensorflow:Validation (step 12000): loss = 0.78196996, accuracy = 0.7219272, global_step = 11507\n",
      "INFO:tensorflow:Saving checkpoints for 12007 into ./model-parallel/seccion_dnn4/model.ckpt.\n"
     ]
    },
    {
     "name": "stdout",
     "output_type": "stream",
     "text": [
      "INFO:tensorflow:global_step/sec: 10.9203\n",
      "INFO:tensorflow:loss = 0.25567472, step = 12007 (9.159 sec)\n",
      "INFO:tensorflow:global_step/sec: 22.4687\n",
      "INFO:tensorflow:loss = 0.18484287, step = 12107 (4.451 sec)\n",
      "INFO:tensorflow:global_step/sec: 22.4183\n",
      "INFO:tensorflow:loss = 0.1982371, step = 12207 (4.461 sec)\n",
      "INFO:tensorflow:global_step/sec: 22.7053\n",
      "INFO:tensorflow:loss = 0.20254074, step = 12307 (4.403 sec)\n",
      "INFO:tensorflow:global_step/sec: 22.6975\n",
      "INFO:tensorflow:loss = 0.17667174, step = 12407 (4.407 sec)\n",
      "INFO:tensorflow:Starting evaluation at 2018-08-20-18:50:26\n",
      "INFO:tensorflow:Restoring parameters from ./model-parallel/seccion_dnn4/model.ckpt-12007\n",
      "INFO:tensorflow:Finished evaluation at 2018-08-20-18:50:30\n",
      "INFO:tensorflow:Saving dict for global step 12007: accuracy = 0.74069893, global_step = 12007, loss = 0.7608244\n",
      "INFO:tensorflow:Validation (step 12500): loss = 0.7608244, accuracy = 0.74069893, global_step = 12007\n",
      "INFO:tensorflow:Saving checkpoints for 12507 into ./model-parallel/seccion_dnn4/model.ckpt.\n",
      "INFO:tensorflow:global_step/sec: 10.1435\n",
      "INFO:tensorflow:loss = 0.20078717, step = 12507 (9.858 sec)\n",
      "INFO:tensorflow:global_step/sec: 23.1399\n",
      "INFO:tensorflow:loss = 0.16389336, step = 12607 (4.322 sec)\n",
      "INFO:tensorflow:global_step/sec: 22.7925\n",
      "INFO:tensorflow:loss = 0.20009583, step = 12707 (4.387 sec)\n",
      "INFO:tensorflow:global_step/sec: 22.5624\n",
      "INFO:tensorflow:loss = 0.2240568, step = 12807 (4.432 sec)\n",
      "INFO:tensorflow:global_step/sec: 22.2798\n",
      "INFO:tensorflow:loss = 0.16798459, step = 12907 (4.489 sec)\n",
      "INFO:tensorflow:Starting evaluation at 2018-08-20-18:50:53\n",
      "INFO:tensorflow:Restoring parameters from ./model-parallel/seccion_dnn4/model.ckpt-12507\n",
      "INFO:tensorflow:Finished evaluation at 2018-08-20-18:50:57\n",
      "INFO:tensorflow:Saving dict for global step 12507: accuracy = 0.7358051, global_step = 12507, loss = 0.7879031\n",
      "INFO:tensorflow:Validation (step 13000): loss = 0.7879031, accuracy = 0.7358051, global_step = 12507\n",
      "INFO:tensorflow:Saving checkpoints for 13007 into ./model-parallel/seccion_dnn4/model.ckpt.\n",
      "INFO:tensorflow:global_step/sec: 11.1956\n",
      "INFO:tensorflow:loss = 0.17917743, step = 13007 (8.938 sec)\n",
      "INFO:tensorflow:global_step/sec: 22.661\n",
      "INFO:tensorflow:loss = 0.18156305, step = 13107 (4.407 sec)\n",
      "INFO:tensorflow:global_step/sec: 22.6378\n",
      "INFO:tensorflow:loss = 0.1717682, step = 13207 (4.417 sec)\n",
      "INFO:tensorflow:global_step/sec: 22.8878\n",
      "INFO:tensorflow:loss = 0.21918531, step = 13307 (4.370 sec)\n",
      "INFO:tensorflow:global_step/sec: 22.8343\n",
      "INFO:tensorflow:loss = 0.20460868, step = 13407 (4.378 sec)\n",
      "INFO:tensorflow:Starting evaluation at 2018-08-20-18:51:19\n",
      "INFO:tensorflow:Restoring parameters from ./model-parallel/seccion_dnn4/model.ckpt-13007\n",
      "INFO:tensorflow:Finished evaluation at 2018-08-20-18:51:23\n",
      "INFO:tensorflow:Saving dict for global step 13007: accuracy = 0.7312907, global_step = 13007, loss = 0.7888466\n",
      "INFO:tensorflow:Validation (step 13500): loss = 0.7888466, accuracy = 0.7312907, global_step = 13007\n",
      "INFO:tensorflow:Saving checkpoints for 13507 into ./model-parallel/seccion_dnn4/model.ckpt.\n",
      "INFO:tensorflow:global_step/sec: 10.8262\n",
      "INFO:tensorflow:loss = 0.15151398, step = 13507 (9.238 sec)\n",
      "INFO:tensorflow:global_step/sec: 22.9809\n",
      "INFO:tensorflow:loss = 0.19066744, step = 13607 (4.350 sec)\n",
      "INFO:tensorflow:global_step/sec: 22.9901\n",
      "INFO:tensorflow:loss = 0.22217807, step = 13707 (4.355 sec)\n",
      "INFO:tensorflow:global_step/sec: 23.0078\n",
      "INFO:tensorflow:loss = 0.18898176, step = 13807 (4.340 sec)\n",
      "INFO:tensorflow:global_step/sec: 22.9185\n",
      "INFO:tensorflow:loss = 0.1829225, step = 13907 (4.365 sec)\n",
      "INFO:tensorflow:Starting evaluation at 2018-08-20-18:51:46\n",
      "INFO:tensorflow:Restoring parameters from ./model-parallel/seccion_dnn4/model.ckpt-13507\n",
      "INFO:tensorflow:Finished evaluation at 2018-08-20-18:51:50\n",
      "INFO:tensorflow:Saving dict for global step 13507: accuracy = 0.7418125, global_step = 13507, loss = 0.79753023\n",
      "INFO:tensorflow:Validation (step 14000): loss = 0.79753023, accuracy = 0.7418125, global_step = 13507\n",
      "INFO:tensorflow:Saving checkpoints for 14006 into ./model-parallel/seccion_dnn4/model.ckpt.\n",
      "INFO:tensorflow:Loss for final step: 0.17686167.\n"
     ]
    },
    {
     "data": {
      "text/plain": [
       "DNNClassifier(params={'head': <tensorflow.contrib.learn.python.learn.estimators.head._MultiClassHead object at 0x7f22b55d5ef0>, 'hidden_units': [2000, 1000, 100], 'feature_columns': (_RealValuedColumn(column_name='x', dimension=1000, default_value=None, dtype=tf.float32, normalizer=None),), 'optimizer': None, 'activation_fn': <function relu at 0x7f237fd0f730>, 'dropout': 0.5, 'gradient_clip_norm': None, 'embedding_lr_multipliers': None, 'input_layer_min_slice_size': None})"
      ]
     },
     "execution_count": 14,
     "metadata": {},
     "output_type": "execute_result"
    }
   ],
   "source": [
    "\n",
    "\n",
    "validation_monitor = tf.contrib.learn.monitors.ValidationMonitor(\n",
    "    input_fn= get_test_inputs(),\n",
    "    every_n_steps=500,\n",
    "    #early_stopping_metric=\"accuracy\",#loss\n",
    "    early_stopping_metric=\"accuracy\",\n",
    "    early_stopping_metric_minimize=False,\n",
    "    early_stopping_rounds=7000)\n",
    "\n",
    "classifier.fit(input_fn=get_train_inputs(), monitors=[validation_monitor], steps=epochs, max_steps=None)"
   ]
  },
  {
   "cell_type": "markdown",
   "metadata": {},
   "source": [
    "# Evaluation performance\n"
   ]
  },
  {
   "cell_type": "code",
   "execution_count": 15,
   "metadata": {},
   "outputs": [
    {
     "name": "stdout",
     "output_type": "stream",
     "text": [
      "INFO:tensorflow:Restoring parameters from ./model-parallel/seccion_dnn4/model.ckpt-14006\n",
      "Test shape: (47786,)\n",
      "Real shape: (47786,)\n",
      "Accuracy in test: 0.8402251705520445\n"
     ]
    }
   ],
   "source": [
    "def input_fn_evaluate():\n",
    "    dataset = {'x': tf.constant(data.X_test_dense)}\n",
    "    \n",
    "    return dataset\n",
    "\n",
    "pred_test = classifier.predict_classes(input_fn=input_fn_evaluate)\n",
    "\n",
    "# print(pred_test)\n",
    "\n",
    "y_test_hat = np.asarray([x.decode('UTF-8') for x in list(pred_test)])\n",
    "y_test_hat = y_test_hat.astype(str)\n",
    "y_test = data.Y_test['Seccion'].values\n",
    "y_test = y_test.astype(str)\n",
    "print('Test shape: {}\\nReal shape: {}'.format(y_test_hat.shape, y_test.shape))\n",
    "\n",
    "from sklearn.metrics import accuracy_score\n",
    "\n",
    "acc = accuracy_score(y_true=y_test, y_pred=y_test_hat)\n",
    "print('Accuracy in test: {}'.format(acc))\n",
    "\n",
    "\n",
    "\n"
   ]
  },
  {
   "cell_type": "code",
   "execution_count": 16,
   "metadata": {},
   "outputs": [],
   "source": [
    "#predict_proba = classifier.predict_proba(input_fn=input_fn_evaluate,as_iterable=False)\n",
    "#np.sum(predict_proba, axis=1)"
   ]
  },
  {
   "cell_type": "code",
   "execution_count": 17,
   "metadata": {},
   "outputs": [
    {
     "name": "stderr",
     "output_type": "stream",
     "text": [
      "/root/anaconda3/lib/python3.6/site-packages/sklearn/utils/deprecation.py:77: DeprecationWarning: Function plot_confusion_matrix is deprecated; This will be removed in v0.4.0. Please use scikitplot.metrics.plot_confusion_matrix instead.\n",
      "  warnings.warn(msg, category=DeprecationWarning)\n",
      "/root/anaconda3/lib/python3.6/site-packages/matplotlib/cbook/deprecation.py:107: MatplotlibDeprecationWarning: Passing one of 'on', 'true', 'off', 'false' as a boolean is deprecated; use an actual boolean (True/False) instead.\n",
      "  warnings.warn(message, mplDeprecation, stacklevel=1)\n"
     ]
    },
    {
     "data": {
      "image/png": "[encoded data removed]",
      "text/plain": [
       "<Figure size 432x288 with 2 Axes>"
      ]
     },
     "metadata": {},
     "output_type": "display_data"
    }
   ],
   "source": [
    "\n",
    "ax = skplt.plot_confusion_matrix(y_test, y_test_hat,normalize=True)\n",
    "plt.xticks(rotation=45)\n",
    "\n",
    "for tick in ax.xaxis.get_minor_ticks():\n",
    "    tick.tick1line.set_markersize(0)\n",
    "    tick.tick2line.set_markersize(0)\n",
    "    tick.label1.set_horizontalalignment('center')\n",
    "\n",
    "#plt2.xticks(rotation=70)"
   ]
  },
  {
   "cell_type": "code",
   "execution_count": null,
   "metadata": {},
   "outputs": [],
   "source": []
  }
 ],
 "metadata": {
  "kernelspec": {
   "display_name": "Python 3",
   "language": "python",
   "name": "python3"
  },
  "language_info": {
   "codemirror_mode": {
    "name": "ipython",
    "version": 3
   },
   "file_extension": ".py",
   "mimetype": "text/x-python",
   "name": "python",
   "nbconvert_exporter": "python",
   "pygments_lexer": "ipython3",
   "version": "3.6.4"
  },
  "widgets": {
   "application/vnd.jupyter.widget-state+json": {
    "state": {},
    "version_major": 2,
    "version_minor": 0
   }
  }
 },
 "nbformat": 4,
 "nbformat_minor": 2
}

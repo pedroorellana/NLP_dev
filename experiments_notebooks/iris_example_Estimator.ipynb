{
 "cells": [
  {
   "cell_type": "code",
   "execution_count": 6,
   "metadata": {},
   "outputs": [],
   "source": [
    "from __future__ import absolute_import\n",
    "from __future__ import division\n",
    "from __future__ import print_function\n",
    "\n",
    "import os\n",
    "import urllib\n",
    "\n",
    "import numpy as np\n",
    "import tensorflow as tf\n",
    "from sklearn.preprocessing import LabelBinarizer\n",
    "\n"
   ]
  },
  {
   "cell_type": "code",
   "execution_count": null,
   "metadata": {},
   "outputs": [],
   "source": []
  },
  {
   "cell_type": "code",
   "execution_count": 2,
   "metadata": {},
   "outputs": [
    {
     "name": "stdout",
     "output_type": "stream",
     "text": [
      "/root/anaconda3/lib/python3.6/site-packages/tensorflow/contrib/lite/toco/python/_tensorflow_wrap_toco.so | _tensorflow_wrap_toco\n"
     ]
    }
   ],
   "source": [
    "# Data sets\n",
    "IRIS_TRAINING = \"iris_training.csv\"\n",
    "IRIS_TRAINING_URL = \"http://download.tensorflow.org/data/iris_training.csv\"\n",
    "\n",
    "IRIS_TEST = \"iris_test.csv\"\n",
    "IRIS_TEST_URL = \"http://download.tensorflow.org/data/iris_test.csv\"\n",
    "# Load datasets.\n",
    "training_set = tf.contrib.learn.datasets.base.load_csv_with_header(\n",
    "  filename=IRIS_TRAINING,\n",
    "  target_dtype=np.int,\n",
    "  features_dtype=np.float32)\n",
    "\n",
    "test_set = tf.contrib.learn.datasets.base.load_csv_with_header(\n",
    "  filename=IRIS_TEST,\n",
    "  target_dtype=np.int,\n",
    "  features_dtype=np.float32)"
   ]
  },
  {
   "cell_type": "code",
   "execution_count": null,
   "metadata": {},
   "outputs": [],
   "source": []
  },
  {
   "cell_type": "code",
   "execution_count": 7,
   "metadata": {},
   "outputs": [
    {
     "name": "stdout",
     "output_type": "stream",
     "text": [
      "INFO:tensorflow:Using default config.\n",
      "INFO:tensorflow:Using config: {'_task_type': None, '_task_id': 0, '_cluster_spec': <tensorflow.python.training.server_lib.ClusterSpec object at 0x7f9e297990b8>, '_master': '', '_num_ps_replicas': 0, '_num_worker_replicas': 0, '_environment': 'local', '_is_chief': True, '_evaluation_master': '', '_tf_config': gpu_options {\n",
      "  per_process_gpu_memory_fraction: 1.0\n",
      "}\n",
      ", '_tf_random_seed': None, '_save_summary_steps': 100, '_save_checkpoints_secs': 600, '_log_step_count_steps': 100, '_session_config': None, '_save_checkpoints_steps': None, '_keep_checkpoint_max': 5, '_keep_checkpoint_every_n_hours': 10000, '_model_dir': '/tmp/iris_model5'}\n"
     ]
    }
   ],
   "source": [
    "# Specify that all features have real-value data\n",
    "feature_columns = [tf.contrib.layers.real_valued_column(\"\", dimension=4)]\n",
    "\n",
    "# Build 3 layer DNN with 10, 20, 10 units respectively.\n",
    "classifier = tf.contrib.learn.DNNEstimator(feature_columns = feature_columns,\n",
    "                                          head = tf.contrib.learn.multi_label_head(n_classes=3), \n",
    "                                          hidden_units = [10, 20, 10],                                          \n",
    "                                          model_dir = \"/tmp/iris_model5\")"
   ]
  },
  {
   "cell_type": "code",
   "execution_count": 10,
   "metadata": {},
   "outputs": [],
   "source": [
    "# Define the training inputs\n",
    "def get_train_inputs():\n",
    "    x = tf.constant(training_set.data)\n",
    "    y = tf.constant(  LabelBinarizer().fit(range(3)).transform(training_set.target)  )\n",
    "\n",
    "    return x, y"
   ]
  },
  {
   "cell_type": "code",
   "execution_count": null,
   "metadata": {},
   "outputs": [],
   "source": []
  },
  {
   "cell_type": "code",
   "execution_count": 11,
   "metadata": {},
   "outputs": [
    {
     "name": "stdout",
     "output_type": "stream",
     "text": [
      "WARNING:tensorflow:Casting <dtype: 'int64'> labels to bool.\n",
      "WARNING:tensorflow:Casting <dtype: 'int64'> labels to bool.\n",
      "INFO:tensorflow:Create CheckpointSaverHook.\n",
      "INFO:tensorflow:Saving checkpoints for 1 into /tmp/iris_model5/model.ckpt.\n",
      "INFO:tensorflow:loss = 0.8099331, step = 1\n",
      "INFO:tensorflow:global_step/sec: 175.056\n",
      "INFO:tensorflow:loss = 0.22606659, step = 101 (0.574 sec)\n",
      "INFO:tensorflow:global_step/sec: 191.185\n",
      "INFO:tensorflow:loss = 0.12681194, step = 201 (0.523 sec)\n",
      "INFO:tensorflow:global_step/sec: 181.503\n",
      "INFO:tensorflow:loss = 0.06960398, step = 301 (0.551 sec)\n",
      "INFO:tensorflow:global_step/sec: 188.898\n",
      "INFO:tensorflow:loss = 0.051808435, step = 401 (0.529 sec)\n",
      "INFO:tensorflow:global_step/sec: 189.479\n",
      "INFO:tensorflow:loss = 0.045205243, step = 501 (0.529 sec)\n",
      "INFO:tensorflow:global_step/sec: 191.329\n",
      "INFO:tensorflow:loss = 0.041748412, step = 601 (0.521 sec)\n",
      "INFO:tensorflow:global_step/sec: 179.432\n",
      "INFO:tensorflow:loss = 0.039306775, step = 701 (0.558 sec)\n",
      "INFO:tensorflow:global_step/sec: 194.354\n",
      "INFO:tensorflow:loss = 0.03782991, step = 801 (0.515 sec)\n",
      "INFO:tensorflow:global_step/sec: 185.26\n",
      "INFO:tensorflow:loss = 0.03681563, step = 901 (0.540 sec)\n",
      "INFO:tensorflow:global_step/sec: 187.323\n",
      "INFO:tensorflow:loss = 0.035728782, step = 1001 (0.534 sec)\n",
      "INFO:tensorflow:global_step/sec: 202.118\n",
      "INFO:tensorflow:loss = 0.034816436, step = 1101 (0.494 sec)\n",
      "INFO:tensorflow:global_step/sec: 201.397\n",
      "INFO:tensorflow:loss = 0.03393075, step = 1201 (0.496 sec)\n",
      "INFO:tensorflow:global_step/sec: 195.288\n",
      "INFO:tensorflow:loss = 0.03368422, step = 1301 (0.513 sec)\n",
      "INFO:tensorflow:global_step/sec: 184.13\n",
      "INFO:tensorflow:loss = 0.032647714, step = 1401 (0.543 sec)\n",
      "INFO:tensorflow:global_step/sec: 201.036\n",
      "INFO:tensorflow:loss = 0.032179818, step = 1501 (0.497 sec)\n",
      "INFO:tensorflow:global_step/sec: 184.217\n",
      "INFO:tensorflow:loss = 0.031693902, step = 1601 (0.543 sec)\n",
      "INFO:tensorflow:global_step/sec: 195.861\n",
      "INFO:tensorflow:loss = 0.031288676, step = 1701 (0.510 sec)\n",
      "INFO:tensorflow:global_step/sec: 177.959\n",
      "INFO:tensorflow:loss = 0.030873124, step = 1801 (0.561 sec)\n",
      "INFO:tensorflow:global_step/sec: 191.684\n",
      "INFO:tensorflow:loss = 0.030766662, step = 1901 (0.523 sec)\n",
      "INFO:tensorflow:Saving checkpoints for 2000 into /tmp/iris_model5/model.ckpt.\n",
      "INFO:tensorflow:Loss for final step: 0.030475087.\n"
     ]
    },
    {
     "data": {
      "text/plain": [
       "DNNEstimator(params={'head': <tensorflow.contrib.learn.python.learn.estimators.head._MultiLabelHead object at 0x7f9e297e5f98>, 'hidden_units': [10, 20, 10], 'feature_columns': [_RealValuedColumn(column_name='', dimension=4, default_value=None, dtype=tf.float32, normalizer=None)], 'optimizer': None, 'activation_fn': <function relu at 0x7f9ee4842378>, 'dropout': None, 'gradient_clip_norm': None, 'embedding_lr_multipliers': None, 'input_layer_min_slice_size': None})"
      ]
     },
     "execution_count": 11,
     "metadata": {},
     "output_type": "execute_result"
    }
   ],
   "source": [
    "# Fit model.\n",
    "classifier.fit(input_fn=get_train_inputs, steps=2000)"
   ]
  },
  {
   "cell_type": "code",
   "execution_count": 12,
   "metadata": {},
   "outputs": [],
   "source": [
    "# Define the test inputs\n",
    "def get_test_inputs():\n",
    "    x = tf.constant(test_set.data)\n",
    "    #y = tf.constant(test_set.target)\n",
    "    y = tf.constant( LabelBinarizer().fit(range(3)).transform(test_set.target) )\n",
    "    return x, y"
   ]
  },
  {
   "cell_type": "code",
   "execution_count": 13,
   "metadata": {
    "scrolled": true
   },
   "outputs": [
    {
     "name": "stdout",
     "output_type": "stream",
     "text": [
      "WARNING:tensorflow:Casting <dtype: 'int64'> labels to bool.\n",
      "WARNING:tensorflow:Casting <dtype: 'int64'> labels to bool.\n",
      "INFO:tensorflow:Starting evaluation at 2018-08-08-19:42:44\n",
      "INFO:tensorflow:Restoring parameters from /tmp/iris_model5/model.ckpt-2000\n",
      "INFO:tensorflow:Evaluation [1/1]\n",
      "INFO:tensorflow:Finished evaluation at 2018-08-08-19:42:45\n",
      "INFO:tensorflow:Saving dict for global step 2000: accuracy = 0.9777778, auc = 0.99833333, auc_precision_recall = 0.99675274, global_step = 2000, loss = 0.041572563\n",
      "\n",
      "Test Accuracy: 0.977778\n",
      "\n"
     ]
    }
   ],
   "source": [
    "# Evaluate accuracy.\n",
    "accuracy_score = classifier.evaluate(input_fn=get_test_inputs,\n",
    "                                    steps=1)[\"accuracy\"]\n",
    "\n",
    "#[\"accuracy\"]\n",
    "#classifier.evaluate\n",
    "print(\"\\nTest Accuracy: {0:f}\\n\".format(accuracy_score))"
   ]
  },
  {
   "cell_type": "code",
   "execution_count": 14,
   "metadata": {},
   "outputs": [
    {
     "name": "stdout",
     "output_type": "stream",
     "text": [
      "WARNING:tensorflow:Casting <dtype: 'int64'> labels to bool.\n",
      "WARNING:tensorflow:Casting <dtype: 'int64'> labels to bool.\n",
      "INFO:tensorflow:Starting evaluation at 2018-08-08-19:42:52\n",
      "INFO:tensorflow:Restoring parameters from /tmp/iris_model5/model.ckpt-2000\n",
      "INFO:tensorflow:Evaluation [1/1]\n",
      "INFO:tensorflow:Finished evaluation at 2018-08-08-19:42:53\n",
      "INFO:tensorflow:Saving dict for global step 2000: accuracy = 0.9777778, auc = 0.99833333, auc_precision_recall = 0.99675274, global_step = 2000, loss = 0.041572563\n"
     ]
    }
   ],
   "source": [
    "out = classifier.evaluate(input_fn=get_test_inputs,\n",
    "                                    steps=1)"
   ]
  },
  {
   "cell_type": "code",
   "execution_count": null,
   "metadata": {},
   "outputs": [],
   "source": []
  },
  {
   "cell_type": "code",
   "execution_count": null,
   "metadata": {},
   "outputs": [],
   "source": [
    "# Classify two new flower samples.\n",
    "def new_samples():\n",
    "    return np.array(\n",
    "      [[6.4, 3.2, 4.5, 1.5],\n",
    "       [5.8, 3.1, 5.0, 1.7]], dtype=np.float32)\n",
    "\n",
    "predictions = list(classifier.predict(input_fn=new_samples))\n",
    "\n",
    "print(\n",
    "  \"New Samples, Class Predictions:    {}\\n\"\n",
    "  .format(predictions))"
   ]
  },
  {
   "cell_type": "code",
   "execution_count": null,
   "metadata": {
    "scrolled": true
   },
   "outputs": [],
   "source": [
    "# Classify two new flower samples.\n",
    "def new_samples():\n",
    "    return test_set.data\n",
    "\n",
    "predictions = list(classifier.predict(input_fn=new_samples))\n",
    "\n",
    "print(predictions)"
   ]
  },
  {
   "cell_type": "code",
   "execution_count": null,
   "metadata": {},
   "outputs": [],
   "source": [
    "training_set.target\n"
   ]
  },
  {
   "cell_type": "code",
   "execution_count": null,
   "metadata": {},
   "outputs": [],
   "source": [
    "import sklearn.preprocessing\n",
    "\n",
    "from sklearnearn.preprocessing import LabelBinarizer\n",
    "a = training_set.target\n",
    "label_binarizer = sklearn.preprocessing.LabelBinarizer()\n",
    "label_binarizer.fit(range(max(a)+1))\n",
    "b = label_binarizer.transform(a)\n",
    "print('{0}'.format(b))"
   ]
  },
  {
   "cell_type": "code",
   "execution_count": null,
   "metadata": {},
   "outputs": [],
   "source": [
    "\n",
    "\n",
    "a = training_set.target\n",
    "nclass = 3\n",
    "b = LabelBinarizer().fit(range(nclass)).transform(a)\n",
    "#b = label_binarizer.transform(a)\n",
    "print(b)"
   ]
  },
  {
   "cell_type": "code",
   "execution_count": null,
   "metadata": {},
   "outputs": [],
   "source": [
    "print(range(max(a)+1))"
   ]
  },
  {
   "cell_type": "code",
   "execution_count": null,
   "metadata": {},
   "outputs": [],
   "source": []
  }
 ],
 "metadata": {
  "kernelspec": {
   "display_name": "Python 3",
   "language": "python",
   "name": "python3"
  },
  "language_info": {
   "codemirror_mode": {
    "name": "ipython",
    "version": 3
   },
   "file_extension": ".py",
   "mimetype": "text/x-python",
   "name": "python",
   "nbconvert_exporter": "python",
   "pygments_lexer": "ipython3",
   "version": "3.6.4"
  }
 },
 "nbformat": 4,
 "nbformat_minor": 2
}
